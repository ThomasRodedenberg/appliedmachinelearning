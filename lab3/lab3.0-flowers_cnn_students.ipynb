{
 "cells": [
  {
   "cell_type": "markdown",
   "metadata": {
    "id": "nLTVVMwmpnQK"
   },
   "source": [
    "# Programming Assignment #3: Convolutional Networks\n",
    "Author: Pierre Nugues"
   ]
  },
  {
   "cell_type": "markdown",
   "metadata": {
    "id": "L6w5c2cJpnQU"
   },
   "source": [
    "<h2>Objectives</h2>"
   ]
  },
  {
   "cell_type": "markdown",
   "metadata": {
    "id": "crzD_97kpnQY"
   },
   "source": [
    "The objectives of this assignment are to:\n",
    "* Write a program to recognize flowers on images\n",
    "* Learn how to manage an image data set\n",
    "* Apply convolutional networks to images\n",
    "* Know what Python generators are\n",
    "* Understand class activation\n",
    "* Write a short report on your experiments. This report is mandatory to pass the assignment."
   ]
  },
  {
   "cell_type": "markdown",
   "metadata": {
    "id": "AytHoYo4pnQd"
   },
   "source": [
    "## Organization"
   ]
  },
  {
   "cell_type": "markdown",
   "metadata": {
    "id": "3mop3sDApnQh"
   },
   "source": [
    "Each group will have to:\n",
    "* Write Python programs to recognize the sort of flower in an image.\n",
    "* Experiment different neural architectures and compare the results.\n",
    "\n",
    "Each student will have to:\n",
    "* Run at home Chollet's notebook: `5.4-visualizing-what-convnets-learn.ipynb`. The version available here https://github.com/fchollet/deep-learning-with-python-notebooks does not work with TensorFlow 2. Use the implementation available here: https://github.com/pnugues/edan95/tree/master/labs instead.\n",
    "* Write an individual report on these experiments.\n",
    "\n",
    "While not compulsory, I highly recommend that you use Google colab and run your program on a GPU. This is something you select when you run the notebook (runtime type). You will have to create a Google account for this: https://colab.research.google.com\n",
    "\n",
    "As there are a few parameterization steps, I recommend that you start this lab as early as you can."
   ]
  },
  {
   "cell_type": "markdown",
   "metadata": {
    "id": "pznaxgpJpnQk"
   },
   "source": [
    "## Collecting a Dataset"
   ]
  },
  {
   "cell_type": "markdown",
   "metadata": {
    "id": "GQtXTn9SpnQm"
   },
   "source": [
    "1. You will collect a dataset from Kaggle (https://www.kaggle.com/). First register, it is free, and you will have access to lots of datasets.\n",
    "2. Download the Flower corpus (https://www.kaggle.com/alxmamaev/flowers-recognition). You can find a local copy in the `/usr/local/cs/EDAN95/datasets` folder.\n",
    "3. Split randomly your dataset into training, validation, and test sets: Use a 60/20/20 ratio. You will read all the file names and create a list of pairs, (file_name, category). You will then shuffle your list and save your partition of the data. To speed up the lab, you can also:\n",
    " * Start with the partition available in the `/usr/local/cs/EDAN95/datasets` folder; or\n",
    " * You can also run the code in the cells below (recommended).\n"
   ]
  },
  {
   "cell_type": "code",
   "execution_count": 18,
   "metadata": {
    "colab": {
     "base_uri": "https://localhost:8080/"
    },
    "executionInfo": {
     "elapsed": 667,
     "status": "ok",
     "timestamp": 1605624138288,
     "user": {
      "displayName": "",
      "photoUrl": "",
      "userId": ""
     },
     "user_tz": -60
    },
    "id": "Gi-IJT9VpnQo",
    "outputId": "30138276-7098-4c77-d77d-d1b494eaf64b"
   },
   "outputs": [
    {
     "name": "stdout",
     "output_type": "stream",
     "text": [
      "thomas\n"
     ]
    }
   ],
   "source": [
    "import os\n",
    "import random\n",
    "import shutil\n",
    "from tqdm import tqdm\n",
    "\n",
    "# The machine name\n",
    "machine_name = 'thomas'\n",
    "\n",
    "# To create the same dataset\n",
    "random.seed(0)\n",
    "print(machine_name)"
   ]
  },
  {
   "cell_type": "markdown",
   "metadata": {
    "id": "KiGrzVFgpnQ0"
   },
   "source": [
    "If you use Google colab (recommended). Use the GPU accelerator"
   ]
  },
  {
   "cell_type": "code",
   "execution_count": 19,
   "metadata": {
    "colab": {
     "base_uri": "https://localhost:8080/",
     "height": 207
    },
    "executionInfo": {
     "elapsed": 1013,
     "status": "error",
     "timestamp": 1605624130730,
     "user": {
      "displayName": "",
      "photoUrl": "",
      "userId": ""
     },
     "user_tz": -60
    },
    "id": "0tBl8m9-pnQ1",
    "outputId": "6b0d024c-b16f-4e77-9806-681f5bfe7a18"
   },
   "outputs": [],
   "source": [
    "if machine_name == 'colab':\n",
    "    from google.colab import drive\n",
    "    drive.mount(\"/content/drive\")"
   ]
  },
  {
   "cell_type": "code",
   "execution_count": 20,
   "metadata": {
    "id": "UnVAB5OFpnQ9"
   },
   "outputs": [],
   "source": [
    "# Here write the path to your dataset\n",
    "if machine_name == 'thomas':\n",
    "    base = '/Users/thoma/Desktop/EDAN95/lab3/archive/'\n",
    "elif machine_name == 'pierre':\n",
    "    base = '/Users/pierre/Documents/Cours/EDAN95/datasets/'\n",
    "elif machine_name == 'colab': # If you run your notebook with colab\n",
    "    base = '/content/drive/My Drive/Colab Notebooks/'\n",
    "else: # If you run your notebook on your machine\n",
    "    base = 'your folder'"
   ]
  },
  {
   "cell_type": "code",
   "execution_count": 21,
   "metadata": {
    "id": "dkzAAlYupnRF",
    "outputId": "233d5fe5-45ae-4b87-9576-fcd6aedf8435"
   },
   "outputs": [
    {
     "name": "stdout",
     "output_type": "stream",
     "text": [
      "Image types: ['daisy', 'dandelion', 'rose', 'sunflower', 'tulip']\n"
     ]
    },
    {
     "data": {
      "text/plain": [
       "['/Users/thoma/Desktop/EDAN95/lab3/archive/flowers/daisy',\n",
       " '/Users/thoma/Desktop/EDAN95/lab3/archive/flowers/dandelion',\n",
       " '/Users/thoma/Desktop/EDAN95/lab3/archive/flowers/rose',\n",
       " '/Users/thoma/Desktop/EDAN95/lab3/archive/flowers/sunflower',\n",
       " '/Users/thoma/Desktop/EDAN95/lab3/archive/flowers/tulip']"
      ]
     },
     "execution_count": 21,
     "metadata": {},
     "output_type": "execute_result"
    }
   ],
   "source": [
    "original_dataset_dir = os.path.join(base, 'flowers/')\n",
    "dataset = os.path.join(base, 'flowers_split')\n",
    "\n",
    "train_dir = os.path.join(dataset, 'train')\n",
    "validation_dir = os.path.join(dataset, 'validation')\n",
    "test_dir = os.path.join(dataset, 'test')\n",
    "\n",
    "categories = os.listdir(original_dataset_dir)\n",
    "categories = [category for category in categories if not category.startswith('.')]\n",
    "print('Image types:', categories)\n",
    "data_folders = [os.path.join(original_dataset_dir, category) for category in categories]\n",
    "data_folders"
   ]
  },
  {
   "cell_type": "markdown",
   "metadata": {
    "id": "ialaGt77pnRN"
   },
   "source": [
    "We build the (image, label) pairs"
   ]
  },
  {
   "cell_type": "code",
   "execution_count": 22,
   "metadata": {
    "id": "jrPFGEqppnRO",
    "outputId": "32667c15-40d1-4a38-e893-c7026b22680e"
   },
   "outputs": [
    {
     "data": {
      "text/plain": [
       "[('100080576_f52e8ee070_n.jpg', 'daisy'),\n",
       " ('10140303196_b88d3d6cec.jpg', 'daisy'),\n",
       " ('10172379554_b296050f82_n.jpg', 'daisy'),\n",
       " ('10172567486_2748826a8b.jpg', 'daisy'),\n",
       " ('10172636503_21bededa75_n.jpg', 'daisy'),\n",
       " ('102841525_bd6628ae3c.jpg', 'daisy'),\n",
       " ('10300722094_28fa978807_n.jpg', 'daisy'),\n",
       " ('1031799732_e7f4008c03.jpg', 'daisy'),\n",
       " ('10391248763_1d16681106_n.jpg', 'daisy'),\n",
       " ('10437754174_22ec990b77_m.jpg', 'daisy')]"
      ]
     },
     "execution_count": 22,
     "metadata": {},
     "output_type": "execute_result"
    }
   ],
   "source": [
    "pairs = []\n",
    "for folder, category in zip(data_folders, categories):\n",
    "    images = os.listdir(folder)\n",
    "    images = [image for image in images if not image.startswith('.')]\n",
    "    pairs.extend([(image, category) for image in images])\n",
    "pairs[:10]"
   ]
  },
  {
   "cell_type": "markdown",
   "metadata": {
    "id": "ESxyRD8TpnRX"
   },
   "source": [
    "We define a split. We will run this part only once to create the partition into training, validation, and test sets."
   ]
  },
  {
   "cell_type": "code",
   "execution_count": 23,
   "metadata": {
    "id": "D-eHKSCopnRX",
    "outputId": "b655fd4c-45cc-413e-a820-8e8cc05ddc75"
   },
   "outputs": [
    {
     "name": "stdout",
     "output_type": "stream",
     "text": [
      "2595\n",
      "865\n",
      "866\n"
     ]
    }
   ],
   "source": [
    "#if not os.path.isdir(dataset):\n",
    "random.shuffle(pairs)\n",
    "img_nbr = len(pairs)\n",
    "train_images = pairs[0:int(0.6 * img_nbr)]\n",
    "val_images = pairs[int(0.6 * img_nbr):int(0.8 * img_nbr)]\n",
    "test_images = pairs[int(0.8 * img_nbr):]\n",
    "\n",
    "    # print(train_images)\n",
    "print(len(train_images))\n",
    "print(len(val_images))\n",
    "print(len(test_images))\n"
   ]
  },
  {
   "cell_type": "markdown",
   "metadata": {
    "id": "iFGTSo27pnRc"
   },
   "source": [
    "We create the three subsets. We will run this part only once to create the partition into training, validation, and test sets."
   ]
  },
  {
   "cell_type": "code",
   "execution_count": 24,
   "metadata": {
    "id": "1jcMyLk4pnRe",
    "outputId": "291bb0ed-b1b3-4a0b-d9ab-f70253e9f84a"
   },
   "outputs": [
    {
     "name": "stderr",
     "output_type": "stream",
     "text": [
      "100%|█████████████████████████████████████████████████████████████████████████████| 2595/2595 [00:02<00:00, 912.20it/s]\n",
      "  8%|██████                                                                          | 65/865 [00:00<00:01, 648.45it/s]"
     ]
    },
    {
     "name": "stdout",
     "output_type": "stream",
     "text": [
      "/Users/thoma/Desktop/EDAN95/lab3/archive/flowers/daisy\\19653086178_28156b7ce4_m.jpg\n",
      "/Users/thoma/Desktop/EDAN95/lab3/archive/flowers/dandelion\\11465213433_847c4fa261.jpg\n",
      "/Users/thoma/Desktop/EDAN95/lab3/archive/flowers/tulip\\3511776685_3635087b12_n.jpg\n",
      "/Users/thoma/Desktop/EDAN95/lab3/archive/flowers/tulip\\17165583356_38cb1f231d_n.jpg\n",
      "/Users/thoma/Desktop/EDAN95/lab3/archive/flowers/sunflower\\175638423_058c07afb9.jpg\n",
      "/Users/thoma/Desktop/EDAN95/lab3/archive/flowers/tulip\\142235914_5419ff8a4a.jpg\n",
      "/Users/thoma/Desktop/EDAN95/lab3/archive/flowers/tulip\\8713394070_b24561b0a9.jpg\n",
      "/Users/thoma/Desktop/EDAN95/lab3/archive/flowers/daisy\\14471433500_cdaa22e3ea_m.jpg\n",
      "/Users/thoma/Desktop/EDAN95/lab3/archive/flowers/dandelion\\34562347042_e4dc06879a_n.jpg\n",
      "/Users/thoma/Desktop/EDAN95/lab3/archive/flowers/daisy\\5110109540_beed4ed162_m.jpg\n",
      "/Users/thoma/Desktop/EDAN95/lab3/archive/flowers/sunflower\\58636535_bc53ef0a21_m.jpg\n",
      "/Users/thoma/Desktop/EDAN95/lab3/archive/flowers/dandelion\\4633323785_20676ff914_m.jpg\n",
      "/Users/thoma/Desktop/EDAN95/lab3/archive/flowers/sunflower\\1297092593_e573c0a3d6.jpg\n",
      "/Users/thoma/Desktop/EDAN95/lab3/archive/flowers/tulip\\3502632842_791dd4be18_n.jpg\n",
      "/Users/thoma/Desktop/EDAN95/lab3/archive/flowers/dandelion\\3513200808_390f1d63a7_m.jpg\n",
      "/Users/thoma/Desktop/EDAN95/lab3/archive/flowers/tulip\\3637371174_a8dfcc1b35.jpg\n",
      "/Users/thoma/Desktop/EDAN95/lab3/archive/flowers/tulip\\20282921225_6033da8cd5_n.jpg\n",
      "/Users/thoma/Desktop/EDAN95/lab3/archive/flowers/tulip\\15516736553_b169b67195_n.jpg\n",
      "/Users/thoma/Desktop/EDAN95/lab3/archive/flowers/tulip\\20692409652_25da3e5839_n.jpg\n",
      "/Users/thoma/Desktop/EDAN95/lab3/archive/flowers/dandelion\\8737699225_19e0c9f0fa_m.jpg\n",
      "/Users/thoma/Desktop/EDAN95/lab3/archive/flowers/daisy\\3504430338_77d6a7fab4_n.jpg\n",
      "/Users/thoma/Desktop/EDAN95/lab3/archive/flowers/daisy\\33901756843_94e198d40e_n.jpg\n",
      "/Users/thoma/Desktop/EDAN95/lab3/archive/flowers/daisy\\10437770546_8bb6f7bdd3_m.jpg\n",
      "/Users/thoma/Desktop/EDAN95/lab3/archive/flowers/dandelion\\3954167682_128398bf79_m.jpg\n",
      "/Users/thoma/Desktop/EDAN95/lab3/archive/flowers/rose\\2949945463_366bc63079_n.jpg\n",
      "/Users/thoma/Desktop/EDAN95/lab3/archive/flowers/daisy\\34275152390_44e7262261_n.jpg\n",
      "/Users/thoma/Desktop/EDAN95/lab3/archive/flowers/tulip\\3909355648_42cb3a5e09_n.jpg\n",
      "/Users/thoma/Desktop/EDAN95/lab3/archive/flowers/daisy\\2561371688_c80a4fe957_n.jpg\n",
      "/Users/thoma/Desktop/EDAN95/lab3/archive/flowers/rose\\5001854143_d868390640_n.jpg\n",
      "/Users/thoma/Desktop/EDAN95/lab3/archive/flowers/rose\\15996816031_7f2fea25cb_n.jpg\n",
      "/Users/thoma/Desktop/EDAN95/lab3/archive/flowers/daisy\\5087720485_c0914fb623.jpg\n",
      "/Users/thoma/Desktop/EDAN95/lab3/archive/flowers/dandelion\\3487229452_73e3004858.jpg\n",
      "/Users/thoma/Desktop/EDAN95/lab3/archive/flowers/daisy\\6323721068_3d3394af6d_n.jpg\n",
      "/Users/thoma/Desktop/EDAN95/lab3/archive/flowers/rose\\3276552939_8c31b22d3e.jpg\n",
      "/Users/thoma/Desktop/EDAN95/lab3/archive/flowers/tulip\\5674167473_ac696c8989_n.jpg\n",
      "/Users/thoma/Desktop/EDAN95/lab3/archive/flowers/dandelion\\17161833794_e1d92259d2_m.jpg\n",
      "/Users/thoma/Desktop/EDAN95/lab3/archive/flowers/rose\\7470985338_a1f3bba601_n.jpg\n",
      "/Users/thoma/Desktop/EDAN95/lab3/archive/flowers/rose\\14172324538_2147808483_n.jpg\n",
      "/Users/thoma/Desktop/EDAN95/lab3/archive/flowers/dandelion\\11405573_24a8a838cc_n.jpg\n",
      "/Users/thoma/Desktop/EDAN95/lab3/archive/flowers/daisy\\33806101464_5eca772954_n.jpg\n",
      "/Users/thoma/Desktop/EDAN95/lab3/archive/flowers/tulip\\7003964080_4566470798_n.jpg\n",
      "/Users/thoma/Desktop/EDAN95/lab3/archive/flowers/daisy\\16401288243_36112bd52f_m.jpg\n",
      "/Users/thoma/Desktop/EDAN95/lab3/archive/flowers/rose\\2535466393_6556afeb2f_m.jpg\n",
      "/Users/thoma/Desktop/EDAN95/lab3/archive/flowers/sunflower\\1240624822_4111dde542.jpg\n",
      "/Users/thoma/Desktop/EDAN95/lab3/archive/flowers/tulip\\15756524087_823cf86bd8_m.jpg\n",
      "/Users/thoma/Desktop/EDAN95/lab3/archive/flowers/rose\\5402157745_a384f0583d_n.jpg\n",
      "/Users/thoma/Desktop/EDAN95/lab3/archive/flowers/tulip\\6539831765_c21b68910e_n.jpg\n",
      "/Users/thoma/Desktop/EDAN95/lab3/archive/flowers/daisy\\181007802_7cab5ee78e_n.jpg\n",
      "/Users/thoma/Desktop/EDAN95/lab3/archive/flowers/daisy\\5896110423_e084b33401_n.jpg\n",
      "/Users/thoma/Desktop/EDAN95/lab3/archive/flowers/rose\\5001846495_56068de2da_n.jpg\n",
      "/Users/thoma/Desktop/EDAN95/lab3/archive/flowers/sunflower\\3846717708_ea11383ed8.jpg\n",
      "/Users/thoma/Desktop/EDAN95/lab3/archive/flowers/sunflower\\4895721788_f10208ab77_n.jpg\n",
      "/Users/thoma/Desktop/EDAN95/lab3/archive/flowers/rose\\14166797345_d2ab9da518.jpg\n",
      "/Users/thoma/Desktop/EDAN95/lab3/archive/flowers/rose\\2888138918_402096c7fb.jpg\n",
      "/Users/thoma/Desktop/EDAN95/lab3/archive/flowers/sunflower\\4664767140_fe01231322_n.jpg\n",
      "/Users/thoma/Desktop/EDAN95/lab3/archive/flowers/dandelion\\18999743619_cec3f39bee.jpg\n",
      "/Users/thoma/Desktop/EDAN95/lab3/archive/flowers/sunflower\\5037790727_57c527494f.jpg\n",
      "/Users/thoma/Desktop/EDAN95/lab3/archive/flowers/tulip\\5691090657_2f1e9bf49e_n.jpg\n",
      "/Users/thoma/Desktop/EDAN95/lab3/archive/flowers/sunflower\\6250692311_cb60c85ee9_n.jpg\n",
      "/Users/thoma/Desktop/EDAN95/lab3/archive/flowers/dandelion\\2257649769_deaf97e2c9_n.jpg\n",
      "/Users/thoma/Desktop/EDAN95/lab3/archive/flowers/daisy\\8489463746_a9839bf7e4.jpg\n",
      "/Users/thoma/Desktop/EDAN95/lab3/archive/flowers/tulip\\11746276_de3dec8201.jpg\n",
      "/Users/thoma/Desktop/EDAN95/lab3/archive/flowers/tulip\\14241883744_ff69de8b7f_n.jpg\n",
      "/Users/thoma/Desktop/EDAN95/lab3/archive/flowers/daisy\\34276373070_27ec2d2596_n.jpg\n",
      "/Users/thoma/Desktop/EDAN95/lab3/archive/flowers/rose\\5415173021_ec34517d84_n.jpg\n",
      "/Users/thoma/Desktop/EDAN95/lab3/archive/flowers/sunflower\\215798357_3f4bfa27b7.jpg\n",
      "/Users/thoma/Desktop/EDAN95/lab3/archive/flowers/sunflower\\5970301989_fe3a68aac8_m.jpg\n",
      "/Users/thoma/Desktop/EDAN95/lab3/archive/flowers/dandelion\\5760890854_c3e009bc8a_n.jpg\n",
      "/Users/thoma/Desktop/EDAN95/lab3/archive/flowers/rose\\921138131_9e1393eb2b_m.jpg\n",
      "/Users/thoma/Desktop/EDAN95/lab3/archive/flowers/rose\\5001852101_877cb2ae9b_n.jpg\n",
      "/Users/thoma/Desktop/EDAN95/lab3/archive/flowers/sunflower\\20812318934_82f10c45a1_n.jpg\n",
      "/Users/thoma/Desktop/EDAN95/lab3/archive/flowers/rose\\3072908271_08764c732a_m.jpg\n",
      "/Users/thoma/Desktop/EDAN95/lab3/archive/flowers/daisy\\2057816617_18448093d0_n.jpg\n",
      "/Users/thoma/Desktop/EDAN95/lab3/archive/flowers/sunflower\\1240626292_52cd5d7fb1_m.jpg\n",
      "/Users/thoma/Desktop/EDAN95/lab3/archive/flowers/sunflower\\4745991955_6804568ae0_n.jpg\n",
      "/Users/thoma/Desktop/EDAN95/lab3/archive/flowers/daisy\\5054771689_00dd40b971_n.jpg\n",
      "/Users/thoma/Desktop/EDAN95/lab3/archive/flowers/sunflower\\14925397651_97dcddc383_n.jpg\n",
      "/Users/thoma/Desktop/EDAN95/lab3/archive/flowers/sunflower\\4746668678_0e2693b1b9_n.jpg\n",
      "/Users/thoma/Desktop/EDAN95/lab3/archive/flowers/daisy\\2617111535_54c2ac8462.jpg\n",
      "/Users/thoma/Desktop/EDAN95/lab3/archive/flowers/rose\\2491600761_7e9d6776e8_m.jpg\n",
      "/Users/thoma/Desktop/EDAN95/lab3/archive/flowers/dandelion\\3398195641_456872b48b_n.jpg\n",
      "/Users/thoma/Desktop/EDAN95/lab3/archive/flowers/dandelion\\7164500544_332b75aa3b.jpg\n",
      "/Users/thoma/Desktop/EDAN95/lab3/archive/flowers/tulip\\21083449726_2895661dfb_n.jpg\n",
      "/Users/thoma/Desktop/EDAN95/lab3/archive/flowers/rose\\6111589202_8b9555364c_m.jpg\n",
      "/Users/thoma/Desktop/EDAN95/lab3/archive/flowers/tulip\\14087892193_653a3ac7ca_n.jpg\n",
      "/Users/thoma/Desktop/EDAN95/lab3/archive/flowers/tulip\\8712270243_8512cf4fbd.jpg\n",
      "/Users/thoma/Desktop/EDAN95/lab3/archive/flowers/dandelion\\2480853696_aacdbb5324.jpg\n",
      "/Users/thoma/Desktop/EDAN95/lab3/archive/flowers/rose\\9609569441_eeb8566e94.jpg\n",
      "/Users/thoma/Desktop/EDAN95/lab3/archive/flowers/daisy\\4657354814_f368762c53_m.jpg\n",
      "/Users/thoma/Desktop/EDAN95/lab3/archive/flowers/sunflower\\2729206569_9dd2b5a3ed.jpg\n",
      "/Users/thoma/Desktop/EDAN95/lab3/archive/flowers/tulip\\5717950215_5d0bf2e8b3_n.jpg\n",
      "/Users/thoma/Desktop/EDAN95/lab3/archive/flowers/tulip\\146884869_b1a8fa9c4e_n.jpg\n",
      "/Users/thoma/Desktop/EDAN95/lab3/archive/flowers/dandelion\\3454102259_957ecd0a9b.jpg\n",
      "/Users/thoma/Desktop/EDAN95/lab3/archive/flowers/daisy\\19280272025_57de24e940_m.jpg\n",
      "/Users/thoma/Desktop/EDAN95/lab3/archive/flowers/tulip\\8689672277_b289909f97_n.jpg\n",
      "/Users/thoma/Desktop/EDAN95/lab3/archive/flowers/rose\\4588034197_e300b0872a_n.jpg\n",
      "/Users/thoma/Desktop/EDAN95/lab3/archive/flowers/daisy\\3750250718_eb61146c5f.jpg\n",
      "/Users/thoma/Desktop/EDAN95/lab3/archive/flowers/dandelion\\10778387133_9141024b10.jpg\n",
      "/Users/thoma/Desktop/EDAN95/lab3/archive/flowers/daisy\\3310644753_5607eb96a4_m.jpg\n",
      "/Users/thoma/Desktop/EDAN95/lab3/archive/flowers/daisy\\105806915_a9c13e2106_n.jpg\n",
      "/Users/thoma/Desktop/EDAN95/lab3/archive/flowers/sunflower\\18972803569_1a0634f398_m.jpg\n",
      "/Users/thoma/Desktop/EDAN95/lab3/archive/flowers/dandelion\\4290112545_3528055993_m.jpg\n",
      "/Users/thoma/Desktop/EDAN95/lab3/archive/flowers/sunflower\\22429946721_e17a12cb39_n.jpg\n",
      "/Users/thoma/Desktop/EDAN95/lab3/archive/flowers/sunflower\\5999024446_5721493894.jpg\n",
      "/Users/thoma/Desktop/EDAN95/lab3/archive/flowers/daisy\\18711159980_11d3bd5042.jpg\n",
      "/Users/thoma/Desktop/EDAN95/lab3/archive/flowers/daisy\\5109508979_68e3530791_m.jpg\n",
      "/Users/thoma/Desktop/EDAN95/lab3/archive/flowers/rose\\326541992_d542103ca8_n.jpg\n",
      "/Users/thoma/Desktop/EDAN95/lab3/archive/flowers/rose\\15901230359_1819e96b89_n.jpg\n",
      "/Users/thoma/Desktop/EDAN95/lab3/archive/flowers/tulip\\3540595981_73f14d1227_n.jpg\n",
      "/Users/thoma/Desktop/EDAN95/lab3/archive/flowers/daisy\\14564545365_1f1d267bf1_n.jpg"
     ]
    },
    {
     "name": "stderr",
     "output_type": "stream",
     "text": [
      " 22%|████████████████▉                                                              | 186/865 [00:00<00:01, 625.88it/s]"
     ]
    },
    {
     "name": "stdout",
     "output_type": "stream",
     "text": [
      "\n",
      "/Users/thoma/Desktop/EDAN95/lab3/archive/flowers/sunflower\\4932736136_0115955987.jpg\n",
      "/Users/thoma/Desktop/EDAN95/lab3/archive/flowers/tulip\\5717951663_048431c2e6_n.jpg\n",
      "/Users/thoma/Desktop/EDAN95/lab3/archive/flowers/rose\\5002460856_c44a02442f_n.jpg\n",
      "/Users/thoma/Desktop/EDAN95/lab3/archive/flowers/daisy\\4694734757_5c563d38dd_n.jpg\n",
      "/Users/thoma/Desktop/EDAN95/lab3/archive/flowers/rose\\5156037859_1673720a11_m.jpg\n",
      "/Users/thoma/Desktop/EDAN95/lab3/archive/flowers/tulip\\14087361621_9fefb8dbef.jpg\n",
      "/Users/thoma/Desktop/EDAN95/lab3/archive/flowers/rose\\15060816740_68e1b2c31b.jpg\n",
      "/Users/thoma/Desktop/EDAN95/lab3/archive/flowers/rose\\5349254467_388ff94f8b_n.jpg\n",
      "/Users/thoma/Desktop/EDAN95/lab3/archive/flowers/daisy\\18023717391_e2c9089e10.jpg\n",
      "/Users/thoma/Desktop/EDAN95/lab3/archive/flowers/tulip\\8520482921_21dd204ebd_n.jpg\n",
      "/Users/thoma/Desktop/EDAN95/lab3/archive/flowers/sunflower\\21518663809_3d69f5b995_n.jpg\n",
      "/Users/thoma/Desktop/EDAN95/lab3/archive/flowers/rose\\9458445402_79e4dfa89c.jpg\n",
      "/Users/thoma/Desktop/EDAN95/lab3/archive/flowers/dandelion\\8979087213_28f572174c.jpg\n",
      "/Users/thoma/Desktop/EDAN95/lab3/archive/flowers/tulip\\17994129033_bbd0acba62_n.jpg\n",
      "/Users/thoma/Desktop/EDAN95/lab3/archive/flowers/dandelion\\6972675188_37f1f1d6f6.jpg\n",
      "/Users/thoma/Desktop/EDAN95/lab3/archive/flowers/dandelion\\13920113_f03e867ea7_m.jpg\n",
      "/Users/thoma/Desktop/EDAN95/lab3/archive/flowers/sunflower\\8081530919_c882d46bb0_n.jpg\n",
      "/Users/thoma/Desktop/EDAN95/lab3/archive/flowers/daisy\\1286274236_1d7ac84efb_n.jpg\n",
      "/Users/thoma/Desktop/EDAN95/lab3/archive/flowers/rose\\18302796110_02ef47cd43_n.jpg\n",
      "/Users/thoma/Desktop/EDAN95/lab3/archive/flowers/tulip\\16055807744_000bc07afc_m.jpg\n",
      "/Users/thoma/Desktop/EDAN95/lab3/archive/flowers/dandelion\\3419172904_7708414ae9_n.jpg\n",
      "/Users/thoma/Desktop/EDAN95/lab3/archive/flowers/tulip\\3143110904_66b4851a58_n.jpg\n",
      "/Users/thoma/Desktop/EDAN95/lab3/archive/flowers/dandelion\\34694292346_83b4d97809_n.jpg\n",
      "/Users/thoma/Desktop/EDAN95/lab3/archive/flowers/tulip\\3150964108_24dbec4b23_m.jpg\n",
      "/Users/thoma/Desktop/EDAN95/lab3/archive/flowers/dandelion\\4574451859_432c856b6e_n.jpg\n",
      "/Users/thoma/Desktop/EDAN95/lab3/archive/flowers/dandelion\\8981659922_7b1be892e7_m.jpg\n",
      "/Users/thoma/Desktop/EDAN95/lab3/archive/flowers/dandelion\\18995294384_77543e96b6_n.jpg\n",
      "/Users/thoma/Desktop/EDAN95/lab3/archive/flowers/dandelion\\2465442759_d4532a57a3.jpg\n",
      "/Users/thoma/Desktop/EDAN95/lab3/archive/flowers/dandelion\\6400843175_ef07053f8f_m.jpg\n",
      "/Users/thoma/Desktop/EDAN95/lab3/archive/flowers/tulip\\130685040_3c2fcec63e_n.jpg\n",
      "/Users/thoma/Desktop/EDAN95/lab3/archive/flowers/tulip\\4587872443_a86c692cb8.jpg\n",
      "/Users/thoma/Desktop/EDAN95/lab3/archive/flowers/daisy\\2908212142_5437fa67ff_n.jpg\n",
      "/Users/thoma/Desktop/EDAN95/lab3/archive/flowers/sunflower\\5979669004_d9736206c9_n.jpg\n",
      "/Users/thoma/Desktop/EDAN95/lab3/archive/flowers/daisy\\7227973870_806d9d3e42_n.jpg\n",
      "/Users/thoma/Desktop/EDAN95/lab3/archive/flowers/dandelion\\10294487385_92a0676c7d_m.jpg\n",
      "/Users/thoma/Desktop/EDAN95/lab3/archive/flowers/daisy\\34696730126_056ffea63c_n.jpg\n",
      "/Users/thoma/Desktop/EDAN95/lab3/archive/flowers/rose\\23096513535_f41ddfec19_n.jpg\n",
      "/Users/thoma/Desktop/EDAN95/lab3/archive/flowers/rose\\12243069253_e512464095_n.jpg\n",
      "/Users/thoma/Desktop/EDAN95/lab3/archive/flowers/tulip\\14127532150_112823a8f6.jpg\n",
      "/Users/thoma/Desktop/EDAN95/lab3/archive/flowers/rose\\12202373204_34fb07205b.jpg\n",
      "/Users/thoma/Desktop/EDAN95/lab3/archive/flowers/rose\\5332550500_ab341aefd8.jpg\n",
      "/Users/thoma/Desktop/EDAN95/lab3/archive/flowers/tulip\\14097111174_87a2e7e0c7_n.jpg\n",
      "/Users/thoma/Desktop/EDAN95/lab3/archive/flowers/tulip\\19689681344_b05ac361f2_n.jpg\n",
      "/Users/thoma/Desktop/EDAN95/lab3/archive/flowers/daisy\\9350942387_5b1d043c26_n.jpg\n",
      "/Users/thoma/Desktop/EDAN95/lab3/archive/flowers/dandelion\\2478018280_1be353ca8c_m.jpg\n",
      "/Users/thoma/Desktop/EDAN95/lab3/archive/flowers/dandelion\\17420983523_2e32d70359.jpg\n",
      "/Users/thoma/Desktop/EDAN95/lab3/archive/flowers/rose\\5234278003_d827fcd73b_m.jpg\n",
      "/Users/thoma/Desktop/EDAN95/lab3/archive/flowers/tulip\\13509967925_eaaeefa396_m.jpg\n",
      "/Users/thoma/Desktop/EDAN95/lab3/archive/flowers/daisy\\14272874304_47c0a46f5a.jpg\n",
      "/Users/thoma/Desktop/EDAN95/lab3/archive/flowers/rose\\18492296751_0bf021da9b_n.jpg\n",
      "/Users/thoma/Desktop/EDAN95/lab3/archive/flowers/sunflower\\3922005347_7b6fb82fcd.jpg\n",
      "/Users/thoma/Desktop/EDAN95/lab3/archive/flowers/dandelion\\4572738670_4787a11058_n.jpg\n",
      "/Users/thoma/Desktop/EDAN95/lab3/archive/flowers/rose\\9167147034_0a66ee3616_n.jpg\n",
      "/Users/thoma/Desktop/EDAN95/lab3/archive/flowers/dandelion\\1193386857_3ae53574f2_m.jpg\n",
      "/Users/thoma/Desktop/EDAN95/lab3/archive/flowers/daisy\\6210664514_f1d211217a.jpg\n",
      "/Users/thoma/Desktop/EDAN95/lab3/archive/flowers/sunflower\\2328600790_90e2942557_n.jpg\n",
      "/Users/thoma/Desktop/EDAN95/lab3/archive/flowers/tulip\\5717951871_4af1b319eb_n.jpg\n",
      "/Users/thoma/Desktop/EDAN95/lab3/archive/flowers/daisy\\14021430525_e06baf93a9.jpg\n",
      "/Users/thoma/Desktop/EDAN95/lab3/archive/flowers/dandelion\\15987457_49dc11bf4b.jpg\n",
      "/Users/thoma/Desktop/EDAN95/lab3/archive/flowers/rose\\7474126248_889a026929_n.jpg\n",
      "/Users/thoma/Desktop/EDAN95/lab3/archive/flowers/rose\\99383371_37a5ac12a3_n.jpg\n",
      "/Users/thoma/Desktop/EDAN95/lab3/archive/flowers/dandelion\\7368449232_c99f49b2e6_n.jpg\n",
      "/Users/thoma/Desktop/EDAN95/lab3/archive/flowers/tulip\\7166552648_28b6dce578.jpg\n",
      "/Users/thoma/Desktop/EDAN95/lab3/archive/flowers/sunflower\\287233531_74d4605814_m.jpg\n",
      "/Users/thoma/Desktop/EDAN95/lab3/archive/flowers/rose\\14982802401_a3dfb22afb.jpg\n",
      "/Users/thoma/Desktop/EDAN95/lab3/archive/flowers/tulip\\5433747333_869a2a172d_m.jpg\n",
      "/Users/thoma/Desktop/EDAN95/lab3/archive/flowers/tulip\\4579079143_f65b39dd9f.jpg\n",
      "/Users/thoma/Desktop/EDAN95/lab3/archive/flowers/rose\\5002458392_f465ed905e_n.jpg\n",
      "/Users/thoma/Desktop/EDAN95/lab3/archive/flowers/sunflower\\15072973261_73e2912ef2_n.jpg\n",
      "/Users/thoma/Desktop/EDAN95/lab3/archive/flowers/daisy\\5948835387_5a98d39eff_m.jpg\n",
      "/Users/thoma/Desktop/EDAN95/lab3/archive/flowers/rose\\2471103806_87ba53d997_n.jpg\n",
      "/Users/thoma/Desktop/EDAN95/lab3/archive/flowers/daisy\\10993818044_4c19b86c82.jpg\n",
      "/Users/thoma/Desktop/EDAN95/lab3/archive/flowers/daisy\\54377391_15648e8d18.jpg\n",
      "/Users/thoma/Desktop/EDAN95/lab3/archive/flowers/tulip\\14057246122_8598b665bd.jpg\n",
      "/Users/thoma/Desktop/EDAN95/lab3/archive/flowers/sunflower\\6606743797_c90c669757.jpg\n",
      "/Users/thoma/Desktop/EDAN95/lab3/archive/flowers/dandelion\\3761310831_41b5eba622_n.jpg\n",
      "/Users/thoma/Desktop/EDAN95/lab3/archive/flowers/dandelion\\34571582172_efa4946a45_n.jpg\n",
      "/Users/thoma/Desktop/EDAN95/lab3/archive/flowers/rose\\5001850247_33681cc95c_n.jpg\n",
      "/Users/thoma/Desktop/EDAN95/lab3/archive/flowers/rose\\3554620445_082dd0bec4_n.jpg\n",
      "/Users/thoma/Desktop/EDAN95/lab3/archive/flowers/tulip\\5670916806_df4316006f_n.jpg\n",
      "/Users/thoma/Desktop/EDAN95/lab3/archive/flowers/tulip\\14270573963_f122c40438.jpg\n",
      "/Users/thoma/Desktop/EDAN95/lab3/archive/flowers/dandelion\\253622055_d72964a7fd_n.jpg\n",
      "/Users/thoma/Desktop/EDAN95/lab3/archive/flowers/dandelion\\8740787470_67230d0609.jpg\n",
      "/Users/thoma/Desktop/EDAN95/lab3/archive/flowers/daisy\\13583238844_573df2de8e_m.jpg\n",
      "/Users/thoma/Desktop/EDAN95/lab3/archive/flowers/tulip\\8713397358_0505cc0176_n.jpg\n",
      "/Users/thoma/Desktop/EDAN95/lab3/archive/flowers/dandelion\\34352075020_61ac834f5a_n.jpg\n",
      "/Users/thoma/Desktop/EDAN95/lab3/archive/flowers/dandelion\\22679060358_561ec823ae_m.jpg\n",
      "/Users/thoma/Desktop/EDAN95/lab3/archive/flowers/dandelion\\8966818334_483f4489be_n.jpg\n",
      "/Users/thoma/Desktop/EDAN95/lab3/archive/flowers/sunflower\\4869189730_f47c124cda_n.jpg\n",
      "/Users/thoma/Desktop/EDAN95/lab3/archive/flowers/rose\\7419966772_d6c1c22a81.jpg\n",
      "/Users/thoma/Desktop/EDAN95/lab3/archive/flowers/rose\\4625089819_55c45a189c.jpg\n",
      "/Users/thoma/Desktop/EDAN95/lab3/archive/flowers/tulip\\11441893003_ab83672800.jpg\n",
      "/Users/thoma/Desktop/EDAN95/lab3/archive/flowers/rose\\2122401867_cd86c5f114_n.jpg\n",
      "/Users/thoma/Desktop/EDAN95/lab3/archive/flowers/daisy\\3713290261_8a66de23ab.jpg\n",
      "/Users/thoma/Desktop/EDAN95/lab3/archive/flowers/rose\\5336562212_d014ddf9ca_n.jpg\n",
      "/Users/thoma/Desktop/EDAN95/lab3/archive/flowers/daisy\\6095817094_3a5b1d793d.jpg\n",
      "/Users/thoma/Desktop/EDAN95/lab3/archive/flowers/sunflower\\1043442695_4556c4c13d_n.jpg\n",
      "/Users/thoma/Desktop/EDAN95/lab3/archive/flowers/sunflower\\15054753070_4f6ae0e763_m.jpg\n",
      "/Users/thoma/Desktop/EDAN95/lab3/archive/flowers/daisy\\2812442552_3eed5fb9f2_m.jpg\n",
      "/Users/thoma/Desktop/EDAN95/lab3/archive/flowers/daisy\\7790614422_4557928ab9_n.jpg\n",
      "/Users/thoma/Desktop/EDAN95/lab3/archive/flowers/rose\\3661675690_ed2d05fa5f_n.jpg\n",
      "/Users/thoma/Desktop/EDAN95/lab3/archive/flowers/daisy\\8405273313_bef13f6c27_n.jpg\n",
      "/Users/thoma/Desktop/EDAN95/lab3/archive/flowers/tulip\\12883412424_cb5086b43f_n.jpg\n",
      "/Users/thoma/Desktop/EDAN95/lab3/archive/flowers/dandelion\\8691437509_9ac8441db7_n.jpg\n",
      "/Users/thoma/Desktop/EDAN95/lab3/archive/flowers/rose\\4900231976_f8ced2b42a_n.jpg\n",
      "/Users/thoma/Desktop/EDAN95/lab3/archive/flowers/daisy\\3337536080_1db19964fe.jpg\n",
      "/Users/thoma/Desktop/EDAN95/lab3/archive/flowers/daisy\\99306615_739eb94b9e_m.jpg\n",
      "/Users/thoma/Desktop/EDAN95/lab3/archive/flowers/rose\\7471890786_aaff777641_n.jpg\n",
      "/Users/thoma/Desktop/EDAN95/lab3/archive/flowers/dandelion\\19551343814_48f764535f_m.jpg\n",
      "/Users/thoma/Desktop/EDAN95/lab3/archive/flowers/sunflower\\15122871130_6a7d0b4372_n.jpg\n",
      "/Users/thoma/Desktop/EDAN95/lab3/archive/flowers/sunflower\\15218871222_c104032ca1.jpg\n",
      "/Users/thoma/Desktop/EDAN95/lab3/archive/flowers/sunflower\\4980406384_791774d953.jpg\n",
      "/Users/thoma/Desktop/EDAN95/lab3/archive/flowers/daisy\\12348343085_d4c396e5b5_m.jpg\n",
      "/Users/thoma/Desktop/EDAN95/lab3/archive/flowers/dandelion\\3688128868_031e7b53e1_n.jpg\n",
      "/Users/thoma/Desktop/EDAN95/lab3/archive/flowers/tulip\\8713398906_28e59a225a_n.jpg\n",
      "/Users/thoma/Desktop/EDAN95/lab3/archive/flowers/sunflower\\5937355165_1dc7b2cbf9_n.jpg\n",
      "/Users/thoma/Desktop/EDAN95/lab3/archive/flowers/tulip\\5730908127_da871df0f8.jpg\n",
      "/Users/thoma/Desktop/EDAN95/lab3/archive/flowers/rose\\515121050_dcb99890be.jpg\n",
      "/Users/thoma/Desktop/EDAN95/lab3/archive/flowers/tulip\\19938037625_f26c4dae34_n.jpg\n",
      "/Users/thoma/Desktop/EDAN95/lab3/archive/flowers/daisy\\10172636503_21bededa75_n.jpg\n",
      "/Users/thoma/Desktop/EDAN95/lab3/archive/flowers/daisy\\7924174040_444d5bbb8a.jpg\n",
      "/Users/thoma/Desktop/EDAN95/lab3/archive/flowers/tulip\\16098264209_38fe491093.jpg\n",
      "/Users/thoma/Desktop/EDAN95/lab3/archive/flowers/rose\\6867597533_d65d1c39fb_n.jpg\n",
      "/Users/thoma/Desktop/EDAN95/lab3/archive/flowers/tulip\\5687705933_55a8c2dbac.jpg\n",
      "/Users/thoma/Desktop/EDAN95/lab3/archive/flowers/sunflower\\4746643626_02b2d056a2_n.jpg\n",
      "/Users/thoma/Desktop/EDAN95/lab3/archive/flowers/dandelion\\3461986955_29a1abc621.jpg\n",
      "/Users/thoma/Desktop/EDAN95/lab3/archive/flowers/tulip\\14069841878_f3ac9d788d_n.jpg\n",
      "/Users/thoma/Desktop/EDAN95/lab3/archive/flowers/rose\\8671682526_7058143c99.jpg\n"
     ]
    },
    {
     "name": "stderr",
     "output_type": "stream",
     "text": [
      " 37%|█████████████████████████████▎                                                 | 321/865 [00:00<00:00, 651.20it/s]"
     ]
    },
    {
     "name": "stdout",
     "output_type": "stream",
     "text": [
      "/Users/thoma/Desktop/EDAN95/lab3/archive/flowers/tulip\\14116826873_d4bab623bf_n.jpg\n",
      "/Users/thoma/Desktop/EDAN95/lab3/archive/flowers/dandelion\\4645161319_c308fc31ef_n.jpg\n",
      "/Users/thoma/Desktop/EDAN95/lab3/archive/flowers/dandelion\\4134441089_c8c1e6132a.jpg\n",
      "/Users/thoma/Desktop/EDAN95/lab3/archive/flowers/tulip\\13974542496_e4b5d1c913_n.jpg\n",
      "/Users/thoma/Desktop/EDAN95/lab3/archive/flowers/sunflower\\3568114325_d6b1363497.jpg\n",
      "/Users/thoma/Desktop/EDAN95/lab3/archive/flowers/tulip\\738207467_fc59cfcd9b_z.jpg\n",
      "/Users/thoma/Desktop/EDAN95/lab3/archive/flowers/tulip\\443600168_cb08d56511.jpg\n",
      "/Users/thoma/Desktop/EDAN95/lab3/archive/flowers/sunflower\\6113021380_7546bf7ac7_n.jpg\n",
      "/Users/thoma/Desktop/EDAN95/lab3/archive/flowers/tulip\\2432389721_4d14971060_n.jpg\n",
      "/Users/thoma/Desktop/EDAN95/lab3/archive/flowers/daisy\\5896674046_a4879f718e_n.jpg\n",
      "/Users/thoma/Desktop/EDAN95/lab3/archive/flowers/daisy\\705422469_ffa28c566d.jpg\n",
      "/Users/thoma/Desktop/EDAN95/lab3/archive/flowers/sunflower\\3946535709_78613461cb_n.jpg\n",
      "/Users/thoma/Desktop/EDAN95/lab3/archive/flowers/sunflower\\200288046_0032f322ff_n.jpg\n",
      "/Users/thoma/Desktop/EDAN95/lab3/archive/flowers/rose\\3903276582_fe05bf84c7_n.jpg\n",
      "/Users/thoma/Desktop/EDAN95/lab3/archive/flowers/sunflower\\184682320_73ccf74710.jpg\n",
      "/Users/thoma/Desktop/EDAN95/lab3/archive/flowers/rose\\5415782938_6ce6e4a90d_n.jpg\n",
      "/Users/thoma/Desktop/EDAN95/lab3/archive/flowers/dandelion\\17466568484_9128287148.jpg\n",
      "/Users/thoma/Desktop/EDAN95/lab3/archive/flowers/dandelion\\34717754295_cbb0185a36_n.jpg\n",
      "/Users/thoma/Desktop/EDAN95/lab3/archive/flowers/tulip\\16392425347_2f5232a26d_n.jpg\n",
      "/Users/thoma/Desktop/EDAN95/lab3/archive/flowers/sunflower\\9588522189_db6166f67f.jpg\n",
      "/Users/thoma/Desktop/EDAN95/lab3/archive/flowers/sunflower\\9375675309_987d32f99e_n.jpg\n",
      "/Users/thoma/Desktop/EDAN95/lab3/archive/flowers/dandelion\\18385846351_3a2bf60427_n.jpg\n",
      "/Users/thoma/Desktop/EDAN95/lab3/archive/flowers/dandelion\\5740633858_8fd54c23c9_n.jpg\n",
      "/Users/thoma/Desktop/EDAN95/lab3/archive/flowers/sunflower\\2895404754_6d9f9416d7_n.jpg\n",
      "/Users/thoma/Desktop/EDAN95/lab3/archive/flowers/sunflower\\8071460469_a7c2c34b97_n.jpg\n",
      "/Users/thoma/Desktop/EDAN95/lab3/archive/flowers/tulip\\14073608876_49db8ac97d_n.jpg\n",
      "/Users/thoma/Desktop/EDAN95/lab3/archive/flowers/tulip\\3524204544_7233737b4f_m.jpg\n",
      "/Users/thoma/Desktop/EDAN95/lab3/archive/flowers/sunflower\\20410533613_56da1cce7c.jpg\n",
      "/Users/thoma/Desktop/EDAN95/lab3/archive/flowers/tulip\\5691672942_70a93d70fc.jpg\n",
      "/Users/thoma/Desktop/EDAN95/lab3/archive/flowers/rose\\5349250145_960c51d4fc_n.jpg\n",
      "/Users/thoma/Desktop/EDAN95/lab3/archive/flowers/sunflower\\19784656639_cd7f0a4a26_m.jpg\n",
      "/Users/thoma/Desktop/EDAN95/lab3/archive/flowers/sunflower\\200011914_93f57ed68b.jpg\n",
      "/Users/thoma/Desktop/EDAN95/lab3/archive/flowers/dandelion\\19004688463_12a8423109.jpg\n",
      "/Users/thoma/Desktop/EDAN95/lab3/archive/flowers/daisy\\16492248512_61a57dfec1_m.jpg\n",
      "/Users/thoma/Desktop/EDAN95/lab3/archive/flowers/dandelion\\2470874500_43d8011e75.jpg\n",
      "/Users/thoma/Desktop/EDAN95/lab3/archive/flowers/tulip\\19689668684_15089ae2fa_n.jpg\n",
      "/Users/thoma/Desktop/EDAN95/lab3/archive/flowers/daisy\\2346726545_2ebce2b2a6.jpg\n",
      "/Users/thoma/Desktop/EDAN95/lab3/archive/flowers/rose\\18486151112_6f83e92223_n.jpg\n",
      "/Users/thoma/Desktop/EDAN95/lab3/archive/flowers/tulip\\17408197905_829c4d7940_m.jpg\n",
      "/Users/thoma/Desktop/EDAN95/lab3/archive/flowers/dandelion\\7153497513_076486e26b_n.jpg\n",
      "/Users/thoma/Desktop/EDAN95/lab3/archive/flowers/daisy\\4413849849_b8d2f3bcf1_n.jpg\n",
      "/Users/thoma/Desktop/EDAN95/lab3/archive/flowers/sunflower\\9610373158_5250bce6ac_n.jpg\n",
      "/Users/thoma/Desktop/EDAN95/lab3/archive/flowers/rose\\14145188939_b4de638bd3_n.jpg\n",
      "/Users/thoma/Desktop/EDAN95/lab3/archive/flowers/sunflower\\4414081772_8a0e8a1327.jpg\n",
      "/Users/thoma/Desktop/EDAN95/lab3/archive/flowers/sunflower\\9681915384_b3b646dc92_m.jpg\n",
      "/Users/thoma/Desktop/EDAN95/lab3/archive/flowers/dandelion\\2039797043_d5b709f275_n.jpg\n",
      "/Users/thoma/Desktop/EDAN95/lab3/archive/flowers/rose\\5001845289_e5740889b0_n.jpg\n",
      "/Users/thoma/Desktop/EDAN95/lab3/archive/flowers/rose\\5206847130_ee4bf0e4de_n.jpg\n",
      "/Users/thoma/Desktop/EDAN95/lab3/archive/flowers/rose\\3871586333_5a708d5cf4_n.jpg\n",
      "/Users/thoma/Desktop/EDAN95/lab3/archive/flowers/daisy\\16737503507_431768a927.jpg\n",
      "/Users/thoma/Desktop/EDAN95/lab3/archive/flowers/rose\\15333843782_060cef3030.jpg\n",
      "/Users/thoma/Desktop/EDAN95/lab3/archive/flowers/tulip\\8686332852_c6dcb2e86b.jpg\n",
      "/Users/thoma/Desktop/EDAN95/lab3/archive/flowers/dandelion\\2753166154_0cb51a127b.jpg\n",
      "/Users/thoma/Desktop/EDAN95/lab3/archive/flowers/rose\\3697780051_83e50a6dd1_m.jpg\n",
      "/Users/thoma/Desktop/EDAN95/lab3/archive/flowers/dandelion\\34346200780_c3a783a3ec_n.jpg\n",
      "/Users/thoma/Desktop/EDAN95/lab3/archive/flowers/daisy\\1392946544_115acbb2d9.jpg\n",
      "/Users/thoma/Desktop/EDAN95/lab3/archive/flowers/dandelion\\6104442744_ee2bcd32e7_n.jpg\n",
      "/Users/thoma/Desktop/EDAN95/lab3/archive/flowers/rose\\18302793940_8fcc8b4661_n.jpg\n",
      "/Users/thoma/Desktop/EDAN95/lab3/archive/flowers/dandelion\\2401343175_d2a892cf25_n.jpg\n",
      "/Users/thoma/Desktop/EDAN95/lab3/archive/flowers/tulip\\5634767665_0ae724774d.jpg\n",
      "/Users/thoma/Desktop/EDAN95/lab3/archive/flowers/dandelion\\7179487220_56e4725195_m.jpg\n",
      "/Users/thoma/Desktop/EDAN95/lab3/archive/flowers/tulip\\5043225469_0aa23f3c8f_n.jpg\n",
      "/Users/thoma/Desktop/EDAN95/lab3/archive/flowers/dandelion\\4574447682_40dce530f1.jpg\n",
      "/Users/thoma/Desktop/EDAN95/lab3/archive/flowers/rose\\2265390547_2409007cef_n.jpg\n",
      "/Users/thoma/Desktop/EDAN95/lab3/archive/flowers/dandelion\\17047231499_bd66c23641.jpg\n",
      "/Users/thoma/Desktop/EDAN95/lab3/archive/flowers/rose\\14406317221_1f2be67201_n.jpg\n",
      "/Users/thoma/Desktop/EDAN95/lab3/archive/flowers/daisy\\5874818796_3efbb8769d.jpg\n",
      "/Users/thoma/Desktop/EDAN95/lab3/archive/flowers/tulip\\7166554924_432aaae4b2_n.jpg\n",
      "/Users/thoma/Desktop/EDAN95/lab3/archive/flowers/dandelion\\32120685303_90b5f21ab2_n.jpg\n",
      "/Users/thoma/Desktop/EDAN95/lab3/archive/flowers/dandelion\\459748276_69101b0cec_n.jpg\n",
      "/Users/thoma/Desktop/EDAN95/lab3/archive/flowers/daisy\\34520690871_8fe693bc71_n.jpg\n",
      "/Users/thoma/Desktop/EDAN95/lab3/archive/flowers/rose\\18490508225_0fc630e963_n.jpg\n",
      "/Users/thoma/Desktop/EDAN95/lab3/archive/flowers/daisy\\17101762155_2577a28395.jpg\n",
      "/Users/thoma/Desktop/EDAN95/lab3/archive/flowers/rose\\8674140377_ae7b0be523.jpg\n",
      "/Users/thoma/Desktop/EDAN95/lab3/archive/flowers/daisy\\14866200659_6462c723cb_m.jpg\n",
      "/Users/thoma/Desktop/EDAN95/lab3/archive/flowers/tulip\\14233348826_89949b4784_n.jpg\n",
      "/Users/thoma/Desktop/EDAN95/lab3/archive/flowers/tulip\\3002863623_cd83d6e634.jpg\n",
      "/Users/thoma/Desktop/EDAN95/lab3/archive/flowers/tulip\\4838669164_ffb6f67139.jpg\n",
      "/Users/thoma/Desktop/EDAN95/lab3/archive/flowers/daisy\\18474740346_ffdaa18032.jpg\n",
      "/Users/thoma/Desktop/EDAN95/lab3/archive/flowers/tulip\\19660257424_e9080d2ddc_n.jpg\n",
      "/Users/thoma/Desktop/EDAN95/lab3/archive/flowers/sunflower\\5830614551_e460a1215c.jpg\n",
      "/Users/thoma/Desktop/EDAN95/lab3/archive/flowers/daisy\\5811226952_4650ed70ae_n.jpg\n",
      "/Users/thoma/Desktop/EDAN95/lab3/archive/flowers/sunflower\\8929288228_6795bcb1fe.jpg\n",
      "/Users/thoma/Desktop/EDAN95/lab3/archive/flowers/rose\\14267691818_301aceda07.jpg\n",
      "/Users/thoma/Desktop/EDAN95/lab3/archive/flowers/sunflower\\4989952542_35f2cdd5e2_n.jpg\n",
      "/Users/thoma/Desktop/EDAN95/lab3/archive/flowers/tulip\\5565089564_a30c318f44.jpg\n",
      "/Users/thoma/Desktop/EDAN95/lab3/archive/flowers/daisy\\3494265422_9dba8f2191_n.jpg\n",
      "/Users/thoma/Desktop/EDAN95/lab3/archive/flowers/rose\\6347846687_3f0a7c3176.jpg\n",
      "/Users/thoma/Desktop/EDAN95/lab3/archive/flowers/tulip\\6325571510_7544b27e57_n.jpg\n",
      "/Users/thoma/Desktop/EDAN95/lab3/archive/flowers/tulip\\15632065904_0d9caf174b.jpg\n",
      "/Users/thoma/Desktop/EDAN95/lab3/archive/flowers/sunflower\\9461693602_710f20904f.jpg\n",
      "/Users/thoma/Desktop/EDAN95/lab3/archive/flowers/rose\\5002453464_ab2bcb3829_n.jpg\n",
      "/Users/thoma/Desktop/EDAN95/lab3/archive/flowers/sunflower\\20171662239_f69b6c12bd_n.jpg\n",
      "/Users/thoma/Desktop/EDAN95/lab3/archive/flowers/daisy\\7633425046_8293e3d0e9_m.jpg\n",
      "/Users/thoma/Desktop/EDAN95/lab3/archive/flowers/tulip\\14069913627_6e87392642_n.jpg\n",
      "/Users/thoma/Desktop/EDAN95/lab3/archive/flowers/dandelion\\18001393975_2a6acaabd8.jpg\n",
      "/Users/thoma/Desktop/EDAN95/lab3/archive/flowers/daisy\\8706810197_17b6c1f1e7.jpg\n",
      "/Users/thoma/Desktop/EDAN95/lab3/archive/flowers/dandelion\\17095758258_a33642946f_n.jpg\n",
      "/Users/thoma/Desktop/EDAN95/lab3/archive/flowers/dandelion\\34719957845_c929f480a3_n.jpg\n",
      "/Users/thoma/Desktop/EDAN95/lab3/archive/flowers/daisy\\33891703033_822f7810ce_n.jpg\n",
      "/Users/thoma/Desktop/EDAN95/lab3/archive/flowers/sunflower\\9431890901_cd11bda584_n.jpg\n",
      "/Users/thoma/Desktop/EDAN95/lab3/archive/flowers/sunflower\\9558627290_353a14ba0b_m.jpg\n",
      "/Users/thoma/Desktop/EDAN95/lab3/archive/flowers/sunflower\\5933438547_0dea1fddd6_n.jpg\n",
      "/Users/thoma/Desktop/EDAN95/lab3/archive/flowers/sunflower\\15118397087_bfb7ea70d5_n.jpg\n",
      "/Users/thoma/Desktop/EDAN95/lab3/archive/flowers/tulip\\17105644339_e301a8a6be_n.jpg\n",
      "/Users/thoma/Desktop/EDAN95/lab3/archive/flowers/daisy\\520752848_4b87fb91a4.jpg\n",
      "/Users/thoma/Desktop/EDAN95/lab3/archive/flowers/rose\\19566556880_476c66c5ee_n.jpg\n",
      "/Users/thoma/Desktop/EDAN95/lab3/archive/flowers/tulip\\7082608511_f4cf233f59_n.jpg\n",
      "/Users/thoma/Desktop/EDAN95/lab3/archive/flowers/sunflower\\4940287066_385afd9c18_m.jpg\n",
      "/Users/thoma/Desktop/EDAN95/lab3/archive/flowers/dandelion\\5875763050_82f32f2eed_m.jpg\n",
      "/Users/thoma/Desktop/EDAN95/lab3/archive/flowers/dandelion\\7270523166_b62fc9e5f1_m.jpg\n",
      "/Users/thoma/Desktop/EDAN95/lab3/archive/flowers/daisy\\4540555191_3254dc4608_n.jpg\n",
      "/Users/thoma/Desktop/EDAN95/lab3/archive/flowers/rose\\5002462640_5bf92142bf_n.jpg\n",
      "/Users/thoma/Desktop/EDAN95/lab3/archive/flowers/daisy\\1879567877_8ed2a5faa7_n.jpg\n",
      "/Users/thoma/Desktop/EDAN95/lab3/archive/flowers/rose\\14810868100_87eb739f26_m.jpg\n",
      "/Users/thoma/Desktop/EDAN95/lab3/archive/flowers/sunflower\\9213511121_836a458021_m.jpg\n",
      "/Users/thoma/Desktop/EDAN95/lab3/archive/flowers/sunflower\\20481273479_d459834a3e_n.jpg\n",
      "/Users/thoma/Desktop/EDAN95/lab3/archive/flowers/tulip\\13176576813_50e77cc1d9.jpg\n",
      "/Users/thoma/Desktop/EDAN95/lab3/archive/flowers/rose\\3971662839_5cb2963b20_n.jpg\n",
      "/Users/thoma/Desktop/EDAN95/lab3/archive/flowers/dandelion\\21523597492_39b6765cd7_m.jpg\n",
      "/Users/thoma/Desktop/EDAN95/lab3/archive/flowers/dandelion\\7280221020_98b473b20d_n.jpg\n",
      "/Users/thoma/Desktop/EDAN95/lab3/archive/flowers/tulip\\3011223301_09b4e3edb7.jpg\n",
      "/Users/thoma/Desktop/EDAN95/lab3/archive/flowers/dandelion\\5655177340_78fc36ce59_m.jpg\n",
      "/Users/thoma/Desktop/EDAN95/lab3/archive/flowers/tulip\\490541142_c37e2b4191_n.jpg\n",
      "/Users/thoma/Desktop/EDAN95/lab3/archive/flowers/dandelion\\34700475225_fbc12d0834_n.jpg\n",
      "/Users/thoma/Desktop/EDAN95/lab3/archive/flowers/tulip\\17469578564_35a8360f58.jpg\n",
      "/Users/thoma/Desktop/EDAN95/lab3/archive/flowers/tulip\\20921546830_1d79fd07f7_n.jpg\n",
      "/Users/thoma/Desktop/EDAN95/lab3/archive/flowers/dandelion\\344318990_7be3fb0a7d.jpg\n",
      "/Users/thoma/Desktop/EDAN95/lab3/archive/flowers/dandelion\\459633569_5ddf6bc116_m.jpg\n",
      "/Users/thoma/Desktop/EDAN95/lab3/archive/flowers/tulip\\5717949231_23e2d4c297_n.jpg\n",
      "/Users/thoma/Desktop/EDAN95/lab3/archive/flowers/tulip\\4561670472_0451888e32_n.jpg"
     ]
    },
    {
     "name": "stderr",
     "output_type": "stream",
     "text": [
      " 54%|███████████████████████████████████████████                                    | 471/865 [00:00<00:00, 698.03it/s]"
     ]
    },
    {
     "name": "stdout",
     "output_type": "stream",
     "text": [
      "\n",
      "/Users/thoma/Desktop/EDAN95/lab3/archive/flowers/rose\\12240303_80d87f77a3_n.jpg\n",
      "/Users/thoma/Desktop/EDAN95/lab3/archive/flowers/dandelion\\1443259657_2704fab26e_n.jpg\n",
      "/Users/thoma/Desktop/EDAN95/lab3/archive/flowers/daisy\\5110107234_12ddc0206b_m.jpg\n",
      "/Users/thoma/Desktop/EDAN95/lab3/archive/flowers/dandelion\\8684108_a85764b22d_n.jpg\n",
      "/Users/thoma/Desktop/EDAN95/lab3/archive/flowers/sunflower\\15218421476_9d5f38e732_m.jpg\n",
      "/Users/thoma/Desktop/EDAN95/lab3/archive/flowers/dandelion\\4151883194_e45505934d_n.jpg\n",
      "/Users/thoma/Desktop/EDAN95/lab3/archive/flowers/tulip\\19915714271_3d8d6a23a5_n.jpg\n",
      "/Users/thoma/Desktop/EDAN95/lab3/archive/flowers/sunflower\\969913643_9d5cd2fe45_m.jpg\n",
      "/Users/thoma/Desktop/EDAN95/lab3/archive/flowers/dandelion\\3469112805_6cc8640236.jpg\n",
      "/Users/thoma/Desktop/EDAN95/lab3/archive/flowers/sunflower\\14889392928_9742aed45b_m.jpg\n",
      "/Users/thoma/Desktop/EDAN95/lab3/archive/flowers/dandelion\\15358221063_2c6e548e84.jpg\n",
      "/Users/thoma/Desktop/EDAN95/lab3/archive/flowers/daisy\\134409839_71069a95d1_m.jpg\n",
      "/Users/thoma/Desktop/EDAN95/lab3/archive/flowers/daisy\\19975899671_ebc42b7865_n.jpg\n",
      "/Users/thoma/Desktop/EDAN95/lab3/archive/flowers/dandelion\\17388674711_6dca8a2e8b_n.jpg\n",
      "/Users/thoma/Desktop/EDAN95/lab3/archive/flowers/tulip\\14671196461_b725727229_m.jpg\n",
      "/Users/thoma/Desktop/EDAN95/lab3/archive/flowers/daisy\\2641979584_2b21c3fe29_m.jpg\n",
      "/Users/thoma/Desktop/EDAN95/lab3/archive/flowers/rose\\8775267816_726ddc6d92_n.jpg\n",
      "/Users/thoma/Desktop/EDAN95/lab3/archive/flowers/rose\\18220342690_f1c20134bd.jpg\n",
      "/Users/thoma/Desktop/EDAN95/lab3/archive/flowers/daisy\\1441939151_b271408c8d_n.jpg\n",
      "/Users/thoma/Desktop/EDAN95/lab3/archive/flowers/sunflower\\4868595281_1e58083785.jpg\n",
      "/Users/thoma/Desktop/EDAN95/lab3/archive/flowers/tulip\\3501996215_1c6d1a3386_n.jpg\n",
      "/Users/thoma/Desktop/EDAN95/lab3/archive/flowers/rose\\9164900485_605aa12da8.jpg\n",
      "/Users/thoma/Desktop/EDAN95/lab3/archive/flowers/daisy\\2579018590_74359dcf1a_m.jpg\n",
      "/Users/thoma/Desktop/EDAN95/lab3/archive/flowers/rose\\4504731519_9a260b6607_n.jpg\n",
      "/Users/thoma/Desktop/EDAN95/lab3/archive/flowers/rose\\5335930735_f396f37a81_n.jpg\n",
      "/Users/thoma/Desktop/EDAN95/lab3/archive/flowers/dandelion\\4574736702_b15ecf97d0_m.jpg\n",
      "/Users/thoma/Desktop/EDAN95/lab3/archive/flowers/daisy\\14147016029_8d3cf2414e.jpg\n",
      "/Users/thoma/Desktop/EDAN95/lab3/archive/flowers/dandelion\\33924521963_48cdc4f455_n.jpg\n",
      "/Users/thoma/Desktop/EDAN95/lab3/archive/flowers/daisy\\6978826370_7b9aa7c7d5.jpg\n",
      "/Users/thoma/Desktop/EDAN95/lab3/archive/flowers/sunflower\\17148843706_df148301ac_n.jpg\n",
      "/Users/thoma/Desktop/EDAN95/lab3/archive/flowers/dandelion\\3998927705_af499a4f29.jpg\n",
      "/Users/thoma/Desktop/EDAN95/lab3/archive/flowers/dandelion\\19617643201_9922eec796.jpg\n",
      "/Users/thoma/Desktop/EDAN95/lab3/archive/flowers/dandelion\\15378782362_4161b23af7_m.jpg\n",
      "/Users/thoma/Desktop/EDAN95/lab3/archive/flowers/sunflower\\15043962658_dcf9dff5e9_n.jpg\n",
      "/Users/thoma/Desktop/EDAN95/lab3/archive/flowers/sunflower\\15054865768_2cc87ac9d4_m.jpg\n",
      "/Users/thoma/Desktop/EDAN95/lab3/archive/flowers/sunflower\\3889694330_6f84d123d5_n.jpg\n",
      "/Users/thoma/Desktop/EDAN95/lab3/archive/flowers/tulip\\3991742794_edebc6c8a0_n.jpg\n",
      "/Users/thoma/Desktop/EDAN95/lab3/archive/flowers/tulip\\14069874050_62d15f80a5_n.jpg\n",
      "/Users/thoma/Desktop/EDAN95/lab3/archive/flowers/dandelion\\3857059749_fe8ca621a9.jpg\n",
      "/Users/thoma/Desktop/EDAN95/lab3/archive/flowers/sunflower\\5970300143_36b42437de_n.jpg\n",
      "/Users/thoma/Desktop/EDAN95/lab3/archive/flowers/sunflower\\3894586562_5dbbdc4354_n.jpg\n",
      "/Users/thoma/Desktop/EDAN95/lab3/archive/flowers/dandelion\\34550871222_a9d795a2c0_n.jpg\n",
      "/Users/thoma/Desktop/EDAN95/lab3/archive/flowers/tulip\\16862374316_4135908d4c_m.jpg\n",
      "/Users/thoma/Desktop/EDAN95/lab3/archive/flowers/dandelion\\140951103_69847c0b7c.jpg\n",
      "/Users/thoma/Desktop/EDAN95/lab3/archive/flowers/daisy\\2607132536_d95198e619_n.jpg\n",
      "/Users/thoma/Desktop/EDAN95/lab3/archive/flowers/sunflower\\9479261399_cebfbff670_n.jpg\n",
      "/Users/thoma/Desktop/EDAN95/lab3/archive/flowers/dandelion\\3021333497_b927cd8596.jpg\n",
      "/Users/thoma/Desktop/EDAN95/lab3/archive/flowers/tulip\\7166620850_8a37b95972_n.jpg\n",
      "/Users/thoma/Desktop/EDAN95/lab3/archive/flowers/dandelion\\10779476016_9130714dc0.jpg\n",
      "/Users/thoma/Desktop/EDAN95/lab3/archive/flowers/tulip\\20883735451_7aa9c50111_n.jpg\n",
      "/Users/thoma/Desktop/EDAN95/lab3/archive/flowers/dandelion\\7116950607_49b19102ba_n.jpg\n",
      "/Users/thoma/Desktop/EDAN95/lab3/archive/flowers/rose\\7376471712_e1be793f94.jpg\n",
      "/Users/thoma/Desktop/EDAN95/lab3/archive/flowers/tulip\\4546316433_202cc68c55.jpg\n",
      "/Users/thoma/Desktop/EDAN95/lab3/archive/flowers/dandelion\\19602790836_912d38aaa8.jpg\n",
      "/Users/thoma/Desktop/EDAN95/lab3/archive/flowers/tulip\\9831362123_5aac525a99_n.jpg\n",
      "/Users/thoma/Desktop/EDAN95/lab3/archive/flowers/sunflower\\7820398908_4316bbba45.jpg\n",
      "/Users/thoma/Desktop/EDAN95/lab3/archive/flowers/dandelion\\34536491752_dd130e7b79_n.jpg\n",
      "/Users/thoma/Desktop/EDAN95/lab3/archive/flowers/rose\\4713533500_fcc295de70_n.jpg\n",
      "/Users/thoma/Desktop/EDAN95/lab3/archive/flowers/rose\\16476788181_0e2ffc719a.jpg\n",
      "/Users/thoma/Desktop/EDAN95/lab3/archive/flowers/sunflower\\4745980581_a0b7585258_n.jpg\n",
      "/Users/thoma/Desktop/EDAN95/lab3/archive/flowers/rose\\18464080946_a624ce6376_n.jpg\n",
      "/Users/thoma/Desktop/EDAN95/lab3/archive/flowers/sunflower\\15069459615_7e0fd61914_n.jpg\n",
      "/Users/thoma/Desktop/EDAN95/lab3/archive/flowers/tulip\\17094167287_865840060d_n.jpg\n",
      "/Users/thoma/Desktop/EDAN95/lab3/archive/flowers/sunflower\\14814264272_4b39a102f9_n.jpg\n",
      "/Users/thoma/Desktop/EDAN95/lab3/archive/flowers/rose\\5001853739_e293f7b268_n.jpg\n",
      "/Users/thoma/Desktop/EDAN95/lab3/archive/flowers/sunflower\\5967283168_90dd4daf28_n.jpg\n",
      "/Users/thoma/Desktop/EDAN95/lab3/archive/flowers/daisy\\1344985627_c3115e2d71_n.jpg\n",
      "/Users/thoma/Desktop/EDAN95/lab3/archive/flowers/dandelion\\34323484476_6406ee1e37_n.jpg\n",
      "/Users/thoma/Desktop/EDAN95/lab3/archive/flowers/tulip\\8562853756_73778dac25_n.jpg\n",
      "/Users/thoma/Desktop/EDAN95/lab3/archive/flowers/rose\\17869846573_d6c9c39843_n.jpg\n",
      "/Users/thoma/Desktop/EDAN95/lab3/archive/flowers/tulip\\405035580_94b793e71d.jpg\n",
      "/Users/thoma/Desktop/EDAN95/lab3/archive/flowers/rose\\6163179241_f093f45d95_n.jpg\n",
      "/Users/thoma/Desktop/EDAN95/lab3/archive/flowers/rose\\3526860692_4c551191b1_m.jpg\n",
      "/Users/thoma/Desktop/EDAN95/lab3/archive/flowers/daisy\\14698531521_0c2f0c6539.jpg\n",
      "/Users/thoma/Desktop/EDAN95/lab3/archive/flowers/rose\\7481119854_b4bb358f0b_n.jpg\n",
      "/Users/thoma/Desktop/EDAN95/lab3/archive/flowers/daisy\\3695826945_9f374e8a00_m.jpg\n",
      "/Users/thoma/Desktop/EDAN95/lab3/archive/flowers/tulip\\3254533919_cb0b8af26c.jpg\n",
      "/Users/thoma/Desktop/EDAN95/lab3/archive/flowers/tulip\\2336919121_851ebc4754.jpg\n",
      "/Users/thoma/Desktop/EDAN95/lab3/archive/flowers/daisy\\4923279674_e7f8e70794_n.jpg\n",
      "/Users/thoma/Desktop/EDAN95/lab3/archive/flowers/tulip\\11746548_26b3256922_n.jpg\n",
      "/Users/thoma/Desktop/EDAN95/lab3/archive/flowers/sunflower\\7176729016_d73ff2211e.jpg\n",
      "/Users/thoma/Desktop/EDAN95/lab3/archive/flowers/dandelion\\4562516418_8ccb8c103f.jpg\n",
      "/Users/thoma/Desktop/EDAN95/lab3/archive/flowers/sunflower\\5139971615_434ff8ed8b_n.jpg\n",
      "/Users/thoma/Desktop/EDAN95/lab3/archive/flowers/dandelion\\16817037661_2980d823e1_n.jpg\n",
      "/Users/thoma/Desktop/EDAN95/lab3/archive/flowers/tulip\\14097745904_436c4ba1b4_n.jpg\n",
      "/Users/thoma/Desktop/EDAN95/lab3/archive/flowers/sunflower\\4235259239_21f2eb4f2e.jpg\n",
      "/Users/thoma/Desktop/EDAN95/lab3/archive/flowers/dandelion\\16970837587_4a9d8500d7.jpg\n",
      "/Users/thoma/Desktop/EDAN95/lab3/archive/flowers/tulip\\9976515506_d496c5e72c.jpg\n",
      "/Users/thoma/Desktop/EDAN95/lab3/archive/flowers/sunflower\\22419079265_8902cddb7d_n.jpg\n",
      "/Users/thoma/Desktop/EDAN95/lab3/archive/flowers/rose\\5180896559_b8cfefc21e.jpg\n",
      "/Users/thoma/Desktop/EDAN95/lab3/archive/flowers/tulip\\15976769174_1d50f46ca1_m.jpg\n",
      "/Users/thoma/Desktop/EDAN95/lab3/archive/flowers/dandelion\\14060367700_fe87e99b6a_m.jpg\n",
      "/Users/thoma/Desktop/EDAN95/lab3/archive/flowers/daisy\\5110105726_53eb7a93be_m.jpg\n",
      "/Users/thoma/Desktop/EDAN95/lab3/archive/flowers/daisy\\33859244503_eeeca6a397_n.jpg\n",
      "/Users/thoma/Desktop/EDAN95/lab3/archive/flowers/rose\\23891005905_17ce9e6936.jpg\n",
      "/Users/thoma/Desktop/EDAN95/lab3/archive/flowers/daisy\\8709110478_60d12efcd4_n.jpg\n",
      "/Users/thoma/Desktop/EDAN95/lab3/archive/flowers/daisy\\5944315415_2be8abeb2f_m.jpg\n",
      "/Users/thoma/Desktop/EDAN95/lab3/archive/flowers/dandelion\\674407101_57676c40fb.jpg\n",
      "/Users/thoma/Desktop/EDAN95/lab3/archive/flowers/tulip\\5388013398_09a8a0f166_m.jpg\n",
      "/Users/thoma/Desktop/EDAN95/lab3/archive/flowers/daisy\\14613443462_d4ed356201.jpg\n",
      "/Users/thoma/Desktop/EDAN95/lab3/archive/flowers/rose\\9423755543_edb35141a3_n.jpg\n",
      "/Users/thoma/Desktop/EDAN95/lab3/archive/flowers/tulip\\4290566894_c7f061583d_m.jpg\n",
      "/Users/thoma/Desktop/EDAN95/lab3/archive/flowers/dandelion\\477207005_6327db8393_m.jpg\n",
      "/Users/thoma/Desktop/EDAN95/lab3/archive/flowers/dandelion\\34695057206_98de825612_n.jpg\n",
      "/Users/thoma/Desktop/EDAN95/lab3/archive/flowers/rose\\21413573151_e681c6a97a.jpg\n",
      "/Users/thoma/Desktop/EDAN95/lab3/archive/flowers/tulip\\14254839301_ffb19c6445_n.jpg\n",
      "/Users/thoma/Desktop/EDAN95/lab3/archive/flowers/daisy\\13977181862_f8237b6b52.jpg\n",
      "/Users/thoma/Desktop/EDAN95/lab3/archive/flowers/daisy\\5135131051_102d4878ca_n.jpg\n",
      "/Users/thoma/Desktop/EDAN95/lab3/archive/flowers/daisy\\8063844363_db3f4dea85.jpg\n",
      "/Users/thoma/Desktop/EDAN95/lab3/archive/flowers/tulip\\8713357842_9964a93473_n.jpg\n",
      "/Users/thoma/Desktop/EDAN95/lab3/archive/flowers/dandelion\\2697283969_c1f9cbb936.jpg\n",
      "/Users/thoma/Desktop/EDAN95/lab3/archive/flowers/tulip\\7166550328_de0d73cfa9.jpg\n",
      "/Users/thoma/Desktop/EDAN95/lab3/archive/flowers/rose\\8949720453_66e8304c30.jpg\n",
      "/Users/thoma/Desktop/EDAN95/lab3/archive/flowers/dandelion\\510677438_73e4b91c95_m.jpg\n",
      "/Users/thoma/Desktop/EDAN95/lab3/archive/flowers/tulip\\20526614232_78ac8344bd_n.jpg\n",
      "/Users/thoma/Desktop/EDAN95/lab3/archive/flowers/dandelion\\34694280496_d457f0d7b7_n.jpg\n",
      "/Users/thoma/Desktop/EDAN95/lab3/archive/flowers/sunflower\\184682920_97ae41ce60_m.jpg\n",
      "/Users/thoma/Desktop/EDAN95/lab3/archive/flowers/dandelion\\34206776142_941d75c2ed_n.jpg\n",
      "/Users/thoma/Desktop/EDAN95/lab3/archive/flowers/rose\\2960709681_e95940c0f0_n.jpg\n",
      "/Users/thoma/Desktop/EDAN95/lab3/archive/flowers/daisy\\2889325612_f2fc403ff0_m.jpg\n",
      "/Users/thoma/Desktop/EDAN95/lab3/archive/flowers/dandelion\\17276354745_2e312a72b5_n.jpg\n",
      "/Users/thoma/Desktop/EDAN95/lab3/archive/flowers/sunflower\\4795924955_202448d8ea_n.jpg\n",
      "/Users/thoma/Desktop/EDAN95/lab3/archive/flowers/dandelion\\148698493_5710e5f472.jpg\n",
      "/Users/thoma/Desktop/EDAN95/lab3/archive/flowers/dandelion\\2597655841_07fb2955a4.jpg\n",
      "/Users/thoma/Desktop/EDAN95/lab3/archive/flowers/sunflower\\15066430311_fb57fa92b0_m.jpg\n",
      "/Users/thoma/Desktop/EDAN95/lab3/archive/flowers/rose\\475936554_a2b38aaa8e.jpg\n",
      "/Users/thoma/Desktop/EDAN95/lab3/archive/flowers/sunflower\\2689228449_e0be72cf00_n.jpg\n",
      "/Users/thoma/Desktop/EDAN95/lab3/archive/flowers/sunflower\\9482209981_bf7bf6022b_m.jpg\n",
      "/Users/thoma/Desktop/EDAN95/lab3/archive/flowers/sunflower\\184683023_737fec5b18.jpg\n",
      "/Users/thoma/Desktop/EDAN95/lab3/archive/flowers/tulip\\6958342976_a4a9483488_n.jpg\n",
      "/Users/thoma/Desktop/EDAN95/lab3/archive/flowers/dandelion\\4606893762_c2f26c7e91_n.jpg\n",
      "/Users/thoma/Desktop/EDAN95/lab3/archive/flowers/tulip\\4565139594_b28d260cb9.jpg\n",
      "/Users/thoma/Desktop/EDAN95/lab3/archive/flowers/sunflower\\4689061249_6498da5013.jpg\n",
      "/Users/thoma/Desktop/EDAN95/lab3/archive/flowers/tulip\\13510057763_01b832d919.jpg\n",
      "/Users/thoma/Desktop/EDAN95/lab3/archive/flowers/sunflower\\5923085671_f81dd1cf6f.jpg\n",
      "/Users/thoma/Desktop/EDAN95/lab3/archive/flowers/sunflower\\13568621944_d575324b8c_n.jpg\n"
     ]
    },
    {
     "name": "stderr",
     "output_type": "stream",
     "text": [
      " 70%|███████████████████████████████████████████████████████▌                       | 609/865 [00:00<00:00, 690.85it/s]"
     ]
    },
    {
     "name": "stdout",
     "output_type": "stream",
     "text": [
      "/Users/thoma/Desktop/EDAN95/lab3/archive/flowers/tulip\\4263272885_1a49ea5209.jpg\n",
      "/Users/thoma/Desktop/EDAN95/lab3/archive/flowers/daisy\\450128527_fd35742d44.jpg\n",
      "/Users/thoma/Desktop/EDAN95/lab3/archive/flowers/tulip\\2427626706_ffdf697f84_n.jpg\n",
      "/Users/thoma/Desktop/EDAN95/lab3/archive/flowers/dandelion\\8740218495_23858355d8_n.jpg\n",
      "/Users/thoma/Desktop/EDAN95/lab3/archive/flowers/rose\\2713683760_d98cd2a05b_m.jpg\n",
      "/Users/thoma/Desktop/EDAN95/lab3/archive/flowers/tulip\\20876954720_62920b4ce8_n.jpg\n",
      "/Users/thoma/Desktop/EDAN95/lab3/archive/flowers/sunflower\\4818994715_9d90527d18_n.jpg\n",
      "/Users/thoma/Desktop/EDAN95/lab3/archive/flowers/sunflower\\9610371852_179e7781ce.jpg\n",
      "/Users/thoma/Desktop/EDAN95/lab3/archive/flowers/sunflower\\15054865217_e398d0dc9f_n.jpg\n",
      "/Users/thoma/Desktop/EDAN95/lab3/archive/flowers/sunflower\\4625255191_26e17a28c9_n.jpg\n",
      "/Users/thoma/Desktop/EDAN95/lab3/archive/flowers/sunflower\\8202034834_ee0ee91e04_n.jpg\n",
      "/Users/thoma/Desktop/EDAN95/lab3/archive/flowers/tulip\\8713388322_e5ae26263b_n.jpg\n",
      "/Users/thoma/Desktop/EDAN95/lab3/archive/flowers/dandelion\\18238604119_a5689980ee_n.jpg\n",
      "/Users/thoma/Desktop/EDAN95/lab3/archive/flowers/tulip\\471298577_cc7558bcf1.jpg\n",
      "/Users/thoma/Desktop/EDAN95/lab3/archive/flowers/sunflower\\4271193206_666ef60aa0_m.jpg\n",
      "/Users/thoma/Desktop/EDAN95/lab3/archive/flowers/daisy\\8127252886_96558c23d1.jpg\n",
      "/Users/thoma/Desktop/EDAN95/lab3/archive/flowers/daisy\\34670512115_af22cce24d_n.jpg\n",
      "/Users/thoma/Desktop/EDAN95/lab3/archive/flowers/sunflower\\2950505226_529e013bf7_m.jpg\n",
      "/Users/thoma/Desktop/EDAN95/lab3/archive/flowers/rose\\7481118128_b2de9538b4_n.jpg\n",
      "/Users/thoma/Desktop/EDAN95/lab3/archive/flowers/daisy\\4333085242_bbeb3e2841_m.jpg\n",
      "/Users/thoma/Desktop/EDAN95/lab3/archive/flowers/daisy\\14088053307_1a13a0bf91_n.jpg\n",
      "/Users/thoma/Desktop/EDAN95/lab3/archive/flowers/dandelion\\16656127943_2f70926b6c.jpg\n",
      "/Users/thoma/Desktop/EDAN95/lab3/archive/flowers/dandelion\\2469856983_fe8e36ba57.jpg\n",
      "/Users/thoma/Desktop/EDAN95/lab3/archive/flowers/tulip\\6876631336_54bf150990.jpg\n",
      "/Users/thoma/Desktop/EDAN95/lab3/archive/flowers/rose\\9369421752_db1ab2a6a4_m.jpg\n",
      "/Users/thoma/Desktop/EDAN95/lab3/archive/flowers/rose\\4267024012_295e7141a3_n.jpg\n",
      "/Users/thoma/Desktop/EDAN95/lab3/archive/flowers/tulip\\13999402743_f563f6b685_n.jpg\n",
      "/Users/thoma/Desktop/EDAN95/lab3/archive/flowers/rose\\7376473742_532364cee5_n.jpg\n",
      "/Users/thoma/Desktop/EDAN95/lab3/archive/flowers/rose\\26723815164_d03d4d69cb_n.jpg\n",
      "/Users/thoma/Desktop/EDAN95/lab3/archive/flowers/tulip\\7481204112_e3c57dd40a_n.jpg\n",
      "/Users/thoma/Desktop/EDAN95/lab3/archive/flowers/dandelion\\33851560384_d2e7d933db_n.jpg\n",
      "/Users/thoma/Desktop/EDAN95/lab3/archive/flowers/sunflower\\29429430522_b7a22cd3df_n.jpg\n",
      "/Users/thoma/Desktop/EDAN95/lab3/archive/flowers/tulip\\8586205946_cda045f3f8_n.jpg\n",
      "/Users/thoma/Desktop/EDAN95/lab3/archive/flowers/rose\\4608559939_3487bf3b62_n.jpg\n",
      "/Users/thoma/Desktop/EDAN95/lab3/archive/flowers/rose\\7461898018_7e12128f14_n.jpg\n",
      "/Users/thoma/Desktop/EDAN95/lab3/archive/flowers/dandelion\\2670304799_a3f2eef516_m.jpg\n",
      "/Users/thoma/Desktop/EDAN95/lab3/archive/flowers/rose\\5001856089_4cf8e9c818_n.jpg\n",
      "/Users/thoma/Desktop/EDAN95/lab3/archive/flowers/daisy\\3640845041_80a92c4205_n.jpg\n",
      "/Users/thoma/Desktop/EDAN95/lab3/archive/flowers/dandelion\\8969938579_4c2032dd96_n.jpg\n",
      "/Users/thoma/Desktop/EDAN95/lab3/archive/flowers/dandelion\\3458770076_17ed3a1225.jpg\n",
      "/Users/thoma/Desktop/EDAN95/lab3/archive/flowers/dandelion\\4557781241_0060cbe723_n.jpg\n",
      "/Users/thoma/Desktop/EDAN95/lab3/archive/flowers/dandelion\\2518321294_dde5aa7c20_m.jpg\n",
      "/Users/thoma/Desktop/EDAN95/lab3/archive/flowers/daisy\\4746633946_23933c0810.jpg\n",
      "/Users/thoma/Desktop/EDAN95/lab3/archive/flowers/sunflower\\9216286162_6ceefdd1b4_m.jpg\n",
      "/Users/thoma/Desktop/EDAN95/lab3/archive/flowers/sunflower\\7820626738_3be6a52e4e_n.jpg\n",
      "/Users/thoma/Desktop/EDAN95/lab3/archive/flowers/tulip\\8758519201_16e8d2d781_n.jpg\n",
      "/Users/thoma/Desktop/EDAN95/lab3/archive/flowers/daisy\\9054268881_19792c5203_n.jpg\n",
      "/Users/thoma/Desktop/EDAN95/lab3/archive/flowers/tulip\\2418823693_72eec80f42_n.jpg\n",
      "/Users/thoma/Desktop/EDAN95/lab3/archive/flowers/dandelion\\6250363717_17732e992e_n.jpg\n",
      "/Users/thoma/Desktop/EDAN95/lab3/archive/flowers/tulip\\14124669683_7fb74f20c3.jpg\n",
      "/Users/thoma/Desktop/EDAN95/lab3/archive/flowers/rose\\5002447434_9b06760f63_n.jpg\n",
      "/Users/thoma/Desktop/EDAN95/lab3/archive/flowers/dandelion\\8727612532_6f3d0904aa_n.jpg\n",
      "/Users/thoma/Desktop/EDAN95/lab3/archive/flowers/daisy\\3386988684_bc5a66005e.jpg\n",
      "/Users/thoma/Desktop/EDAN95/lab3/archive/flowers/rose\\7471891186_195bb02c98_n.jpg\n",
      "/Users/thoma/Desktop/EDAN95/lab3/archive/flowers/dandelion\\9300335851_cdf1cef7a9.jpg\n",
      "/Users/thoma/Desktop/EDAN95/lab3/archive/flowers/dandelion\\14292205986_da230467ef.jpg\n",
      "/Users/thoma/Desktop/EDAN95/lab3/archive/flowers/dandelion\\7808545612_546cfca610_m.jpg\n",
      "/Users/thoma/Desktop/EDAN95/lab3/archive/flowers/daisy\\5896679822_5f60d35c33_n.jpg\n",
      "/Users/thoma/Desktop/EDAN95/lab3/archive/flowers/sunflower\\5955501969_e42f038a6f_n.jpg\n",
      "/Users/thoma/Desktop/EDAN95/lab3/archive/flowers/daisy\\34665595995_13f76d5b60_n.jpg\n",
      "/Users/thoma/Desktop/EDAN95/lab3/archive/flowers/dandelion\\17346385582_7ba433dbbe.jpg\n",
      "/Users/thoma/Desktop/EDAN95/lab3/archive/flowers/sunflower\\9655029591_7a77f87500.jpg\n",
      "/Users/thoma/Desktop/EDAN95/lab3/archive/flowers/tulip\\17309017866_b6b290b970_n.jpg\n",
      "/Users/thoma/Desktop/EDAN95/lab3/archive/flowers/daisy\\4286053334_a75541f20b_m.jpg\n",
      "/Users/thoma/Desktop/EDAN95/lab3/archive/flowers/dandelion\\9262004825_710346cde9_n.jpg\n",
      "/Users/thoma/Desktop/EDAN95/lab3/archive/flowers/rose\\14510185271_b5d75dd98e_n.jpg\n",
      "/Users/thoma/Desktop/EDAN95/lab3/archive/flowers/tulip\\20138534672_af5fd5eb32_n.jpg\n",
      "/Users/thoma/Desktop/EDAN95/lab3/archive/flowers/dandelion\\7425858848_d04dab08dd_n.jpg\n",
      "/Users/thoma/Desktop/EDAN95/lab3/archive/flowers/daisy\\20685027271_0e7306e7c1_n.jpg\n",
      "/Users/thoma/Desktop/EDAN95/lab3/archive/flowers/dandelion\\9011235009_58c7b244c1_n.jpg\n",
      "/Users/thoma/Desktop/EDAN95/lab3/archive/flowers/sunflower\\3858508462_db2b9692d1.jpg\n",
      "/Users/thoma/Desktop/EDAN95/lab3/archive/flowers/rose\\18486123042_5c8da68f38_n.jpg\n",
      "/Users/thoma/Desktop/EDAN95/lab3/archive/flowers/sunflower\\9483429732_5ae73eb672_n.jpg\n",
      "/Users/thoma/Desktop/EDAN95/lab3/archive/flowers/daisy\\12193032636_b50ae7db35_n.jpg\n",
      "/Users/thoma/Desktop/EDAN95/lab3/archive/flowers/daisy\\33809956124_b49dcddf8f_n.jpg\n",
      "/Users/thoma/Desktop/EDAN95/lab3/archive/flowers/rose\\5001845055_69f04d9779_n.jpg\n",
      "/Users/thoma/Desktop/EDAN95/lab3/archive/flowers/dandelion\\33980437760_60f3ceaf03_n.jpg\n",
      "/Users/thoma/Desktop/EDAN95/lab3/archive/flowers/tulip\\16711791713_e54bc9c1af_n.jpg\n",
      "/Users/thoma/Desktop/EDAN95/lab3/archive/flowers/dandelion\\17244252705_328e0bcda6.jpg\n",
      "/Users/thoma/Desktop/EDAN95/lab3/archive/flowers/sunflower\\29744656500_f17578f7e3_n.jpg\n",
      "/Users/thoma/Desktop/EDAN95/lab3/archive/flowers/dandelion\\3998275481_651205e02d.jpg\n",
      "/Users/thoma/Desktop/EDAN95/lab3/archive/flowers/rose\\16643785404_284c6c23fe_n.jpg\n",
      "/Users/thoma/Desktop/EDAN95/lab3/archive/flowers/sunflower\\7820523050_76c8caa025.jpg\n",
      "/Users/thoma/Desktop/EDAN95/lab3/archive/flowers/tulip\\7070694881_e9a331fa4e_n.jpg\n",
      "/Users/thoma/Desktop/EDAN95/lab3/archive/flowers/rose\\28131227642_e279b5768b_n.jpg\n",
      "/Users/thoma/Desktop/EDAN95/lab3/archive/flowers/dandelion\\3446018470_0c40e73ed6_m.jpg\n",
      "/Users/thoma/Desktop/EDAN95/lab3/archive/flowers/dandelion\\33881120324_552f677c1a_n.jpg\n",
      "/Users/thoma/Desktop/EDAN95/lab3/archive/flowers/sunflower\\4623843480_23e3fb8dcc_n.jpg\n",
      "/Users/thoma/Desktop/EDAN95/lab3/archive/flowers/sunflower\\4019748730_ee09b39a43.jpg\n",
      "/Users/thoma/Desktop/EDAN95/lab3/archive/flowers/sunflower\\18097401209_910a46fae1_n.jpg\n",
      "/Users/thoma/Desktop/EDAN95/lab3/archive/flowers/dandelion\\18587334446_ef1021909b_n.jpg\n",
      "/Users/thoma/Desktop/EDAN95/lab3/archive/flowers/dandelion\\13897156242_dca5d93075_m.jpg\n",
      "/Users/thoma/Desktop/EDAN95/lab3/archive/flowers/dandelion\\10043234166_e6dd915111_n.jpg\n",
      "/Users/thoma/Desktop/EDAN95/lab3/archive/flowers/dandelion\\4254850910_0610224342_n.jpg\n",
      "/Users/thoma/Desktop/EDAN95/lab3/archive/flowers/rose\\3415176946_248afe9f32.jpg\n",
      "/Users/thoma/Desktop/EDAN95/lab3/archive/flowers/dandelion\\141340262_ca2e576490.jpg\n",
      "/Users/thoma/Desktop/EDAN95/lab3/archive/flowers/daisy\\33911247013_82a1acfcea_n.jpg\n",
      "/Users/thoma/Desktop/EDAN95/lab3/archive/flowers/dandelion\\4844697927_c70d644f40_n.jpg\n",
      "/Users/thoma/Desktop/EDAN95/lab3/archive/flowers/dandelion\\10683189_bd6e371b97.jpg\n",
      "/Users/thoma/Desktop/EDAN95/lab3/archive/flowers/daisy\\19813618946_93818db7aa_m.jpg\n",
      "/Users/thoma/Desktop/EDAN95/lab3/archive/flowers/rose\\32724693914_282ccc4f92_n.jpg\n",
      "/Users/thoma/Desktop/EDAN95/lab3/archive/flowers/daisy\\153210866_03cc9f2f36.jpg\n",
      "/Users/thoma/Desktop/EDAN95/lab3/archive/flowers/tulip\\16700863150_ddaa4d89b4_n.jpg\n",
      "/Users/thoma/Desktop/EDAN95/lab3/archive/flowers/dandelion\\34678209886_9005f29b47_n.jpg\n",
      "/Users/thoma/Desktop/EDAN95/lab3/archive/flowers/rose\\14127110749_624f5bfde6_n.jpg\n",
      "/Users/thoma/Desktop/EDAN95/lab3/archive/flowers/rose\\4243078361_7b92a932cd_n.jpg\n",
      "/Users/thoma/Desktop/EDAN95/lab3/archive/flowers/dandelion\\34605411661_4e735bd995_n.jpg\n",
      "/Users/thoma/Desktop/EDAN95/lab3/archive/flowers/dandelion\\34583574661_8010a1fdf4_n.jpg\n",
      "/Users/thoma/Desktop/EDAN95/lab3/archive/flowers/daisy\\34312496620_bc01a98aeb_n.jpg\n",
      "/Users/thoma/Desktop/EDAN95/lab3/archive/flowers/rose\\7456196908_d34b9b76c4_n.jpg\n",
      "/Users/thoma/Desktop/EDAN95/lab3/archive/flowers/daisy\\34733243845_29f1c30634_n.jpg\n",
      "/Users/thoma/Desktop/EDAN95/lab3/archive/flowers/rose\\7456887736_54e4ebac03_n.jpg\n",
      "/Users/thoma/Desktop/EDAN95/lab3/archive/flowers/dandelion\\3584415133_a4122ab7b9.jpg\n",
      "/Users/thoma/Desktop/EDAN95/lab3/archive/flowers/dandelion\\11296320473_1d9261ddcb.jpg\n",
      "/Users/thoma/Desktop/EDAN95/lab3/archive/flowers/rose\\1392579828_ab5a139052.jpg\n",
      "/Users/thoma/Desktop/EDAN95/lab3/archive/flowers/tulip\\4546299243_23cd58eb43.jpg\n",
      "/Users/thoma/Desktop/EDAN95/lab3/archive/flowers/rose\\5001857777_440e725f2f_n.jpg\n",
      "/Users/thoma/Desktop/EDAN95/lab3/archive/flowers/dandelion\\6901435398_b3192ff7f8_m.jpg\n",
      "/Users/thoma/Desktop/EDAN95/lab3/archive/flowers/rose\\7456914664_cdee3170c5_n.jpg\n",
      "/Users/thoma/Desktop/EDAN95/lab3/archive/flowers/dandelion\\14886860069_b84665a073.jpg"
     ]
    },
    {
     "name": "stderr",
     "output_type": "stream",
     "text": [
      "\r",
      " 78%|█████████████████████████████████████████████████████████████▋                 | 676/865 [00:01<00:00, 652.65it/s]"
     ]
    },
    {
     "name": "stdout",
     "output_type": "stream",
     "text": [
      "\n",
      "/Users/thoma/Desktop/EDAN95/lab3/archive/flowers/sunflower\\19915160340_ec904edbdf_n.jpg\n",
      "/Users/thoma/Desktop/EDAN95/lab3/archive/flowers/dandelion\\8738317694_eca2ce3bfc_n.jpg\n",
      "/Users/thoma/Desktop/EDAN95/lab3/archive/flowers/daisy\\2828733818_1c1ed0089d_n.jpg\n",
      "/Users/thoma/Desktop/EDAN95/lab3/archive/flowers/daisy\\5434913005_409c1e8b56_n.jpg\n",
      "/Users/thoma/Desktop/EDAN95/lab3/archive/flowers/tulip\\14674389605_df3c0bcfa1_m.jpg\n",
      "/Users/thoma/Desktop/EDAN95/lab3/archive/flowers/sunflower\\14921668662_3ffc5b9db3_n.jpg\n",
      "/Users/thoma/Desktop/EDAN95/lab3/archive/flowers/tulip\\4508346090_a27b988f79_n.jpg\n",
      "/Users/thoma/Desktop/EDAN95/lab3/archive/flowers/sunflower\\9558632814_e78a780f4f.jpg\n",
      "/Users/thoma/Desktop/EDAN95/lab3/archive/flowers/tulip\\7166606598_5d2cd307c3.jpg\n",
      "/Users/thoma/Desktop/EDAN95/lab3/archive/flowers/daisy\\7133935763_82b17c8e1b_n.jpg\n",
      "/Users/thoma/Desktop/EDAN95/lab3/archive/flowers/daisy\\2473825306_62fd5f8785_n.jpg\n",
      "/Users/thoma/Desktop/EDAN95/lab3/archive/flowers/daisy\\1955336401_fbb206d6ef_n.jpg\n",
      "/Users/thoma/Desktop/EDAN95/lab3/archive/flowers/tulip\\3516271083_fba63b5861.jpg\n",
      "/Users/thoma/Desktop/EDAN95/lab3/archive/flowers/dandelion\\22785985545_95464115b0_m.jpg\n",
      "/Users/thoma/Desktop/EDAN95/lab3/archive/flowers/dandelion\\3533167406_e9f4cf10bb_m.jpg\n",
      "/Users/thoma/Desktop/EDAN95/lab3/archive/flowers/dandelion\\14376454225_a1de336c5b.jpg\n",
      "/Users/thoma/Desktop/EDAN95/lab3/archive/flowers/rose\\15977362155_461030c196_m.jpg\n",
      "/Users/thoma/Desktop/EDAN95/lab3/archive/flowers/sunflower\\2706304885_4916102704_n.jpg\n",
      "/Users/thoma/Desktop/EDAN95/lab3/archive/flowers/dandelion\\19397467530_1e8131a7cf.jpg\n",
      "/Users/thoma/Desktop/EDAN95/lab3/archive/flowers/rose\\17990320484_93bba345d2_m.jpg\n",
      "/Users/thoma/Desktop/EDAN95/lab3/archive/flowers/rose\\14001990976_bd2da42dbc.jpg\n",
      "/Users/thoma/Desktop/EDAN95/lab3/archive/flowers/tulip\\2256230386_08b54ca760.jpg\n",
      "/Users/thoma/Desktop/EDAN95/lab3/archive/flowers/dandelion\\8759118120_9eac064e38_n.jpg\n",
      "/Users/thoma/Desktop/EDAN95/lab3/archive/flowers/sunflower\\4414084638_03d2db38ae.jpg\n",
      "/Users/thoma/Desktop/EDAN95/lab3/archive/flowers/rose\\4764674741_82b8f93359_n.jpg\n",
      "/Users/thoma/Desktop/EDAN95/lab3/archive/flowers/tulip\\8673416166_620fc18e2f_n.jpg\n",
      "/Users/thoma/Desktop/EDAN95/lab3/archive/flowers/sunflower\\15443139789_5318389b8c_n.jpg\n",
      "/Users/thoma/Desktop/EDAN95/lab3/archive/flowers/rose\\27619697563_228f5c4677_n.jpg\n",
      "/Users/thoma/Desktop/EDAN95/lab3/archive/flowers/sunflower\\22992257000_76dbc599e7_m.jpg\n",
      "/Users/thoma/Desktop/EDAN95/lab3/archive/flowers/tulip\\13910471347_30c8bf4de1_n.jpg\n",
      "/Users/thoma/Desktop/EDAN95/lab3/archive/flowers/daisy\\2482982436_a2145359e0_n.jpg\n",
      "/Users/thoma/Desktop/EDAN95/lab3/archive/flowers/tulip\\8708856019_f3be2353a4_n.jpg\n",
      "/Users/thoma/Desktop/EDAN95/lab3/archive/flowers/dandelion\\7368435774_0045b9dc4e.jpg\n",
      "/Users/thoma/Desktop/EDAN95/lab3/archive/flowers/dandelion\\4560663938_3557a1f831.jpg\n",
      "/Users/thoma/Desktop/EDAN95/lab3/archive/flowers/sunflower\\5995136822_8e1eed76f5_n.jpg\n",
      "/Users/thoma/Desktop/EDAN95/lab3/archive/flowers/dandelion\\2634666217_d5ef87c9f7_m.jpg\n",
      "/Users/thoma/Desktop/EDAN95/lab3/archive/flowers/sunflower\\9511172241_8aee411e2e.jpg\n",
      "/Users/thoma/Desktop/EDAN95/lab3/archive/flowers/rose\\2535466143_5823e48b63.jpg\n",
      "/Users/thoma/Desktop/EDAN95/lab3/archive/flowers/sunflower\\2721638730_34a9b7a78b.jpg\n",
      "/Users/thoma/Desktop/EDAN95/lab3/archive/flowers/tulip\\14039129738_cc3ac0a623_n.jpg\n",
      "/Users/thoma/Desktop/EDAN95/lab3/archive/flowers/rose\\7471890996_e61b134867_n.jpg\n",
      "/Users/thoma/Desktop/EDAN95/lab3/archive/flowers/dandelion\\33856267954_b806fab0db_n.jpg\n",
      "/Users/thoma/Desktop/EDAN95/lab3/archive/flowers/rose\\7461899330_3b72976570_n.jpg\n",
      "/Users/thoma/Desktop/EDAN95/lab3/archive/flowers/dandelion\\16716172029_2166d8717f_m.jpg\n",
      "/Users/thoma/Desktop/EDAN95/lab3/archive/flowers/daisy\\8382667241_0f046cecdb_n.jpg\n",
      "/Users/thoma/Desktop/EDAN95/lab3/archive/flowers/sunflower\\19442589512_e733cfea0f.jpg\n",
      "/Users/thoma/Desktop/EDAN95/lab3/archive/flowers/sunflower\\10386525005_fd0b7d6c55_n.jpg\n",
      "/Users/thoma/Desktop/EDAN95/lab3/archive/flowers/sunflower\\4847062576_bae870479c_n.jpg\n",
      "/Users/thoma/Desktop/EDAN95/lab3/archive/flowers/daisy\\2561352120_7961d8263f.jpg\n",
      "/Users/thoma/Desktop/EDAN95/lab3/archive/flowers/dandelion\\4654848357_9549351e0b_n.jpg\n",
      "/Users/thoma/Desktop/EDAN95/lab3/archive/flowers/tulip\\8748266132_5298a91dcf_n.jpg\n",
      "/Users/thoma/Desktop/EDAN95/lab3/archive/flowers/tulip\\14491997336_36ba524713.jpg\n",
      "/Users/thoma/Desktop/EDAN95/lab3/archive/flowers/rose\\9320934277_4fb95aef5d_n.jpg\n",
      "/Users/thoma/Desktop/EDAN95/lab3/archive/flowers/dandelion\\16837594326_1056d875a4_m.jpg\n",
      "/Users/thoma/Desktop/EDAN95/lab3/archive/flowers/daisy\\16360180712_b72695928c_n.jpg\n",
      "/Users/thoma/Desktop/EDAN95/lab3/archive/flowers/dandelion\\5772194932_60b833091f.jpg\n",
      "/Users/thoma/Desktop/EDAN95/lab3/archive/flowers/daisy\\21805938544_bf6bb0e4bc.jpg\n",
      "/Users/thoma/Desktop/EDAN95/lab3/archive/flowers/tulip\\13562266594_69b807f90c.jpg\n",
      "/Users/thoma/Desktop/EDAN95/lab3/archive/flowers/rose\\5419629292_2f06e4b295.jpg\n",
      "/Users/thoma/Desktop/EDAN95/lab3/archive/flowers/dandelion\\14003401241_543535b385.jpg\n",
      "/Users/thoma/Desktop/EDAN95/lab3/archive/flowers/dandelion\\9188647508_3b56e62f69.jpg\n",
      "/Users/thoma/Desktop/EDAN95/lab3/archive/flowers/dandelion\\129019877_8eea2978ca_m.jpg\n",
      "/Users/thoma/Desktop/EDAN95/lab3/archive/flowers/sunflower\\8249000137_eddfffa380_n.jpg\n",
      "/Users/thoma/Desktop/EDAN95/lab3/archive/flowers/tulip\\430785322_7ddef64c68_m.jpg\n",
      "/Users/thoma/Desktop/EDAN95/lab3/archive/flowers/sunflower\\40410963_3ac280f23a_n.jpg\n",
      "/Users/thoma/Desktop/EDAN95/lab3/archive/flowers/dandelion\\5862288632_1df5eb6dd0.jpg\n",
      "/Users/thoma/Desktop/EDAN95/lab3/archive/flowers/rose\\18302780950_9469703544_n.jpg\n",
      "/Users/thoma/Desktop/EDAN95/lab3/archive/flowers/dandelion\\8735646181_fa9787d4e0.jpg\n",
      "/Users/thoma/Desktop/EDAN95/lab3/archive/flowers/dandelion\\578938011_34918b1468.jpg\n",
      "/Users/thoma/Desktop/EDAN95/lab3/archive/flowers/sunflower\\7728953426_abd179ab63.jpg\n",
      "/Users/thoma/Desktop/EDAN95/lab3/archive/flowers/dandelion\\4512569988_2b3f802cc6.jpg\n",
      "/Users/thoma/Desktop/EDAN95/lab3/archive/flowers/dandelion\\9939430464_5f5861ebab.jpg\n",
      "/Users/thoma/Desktop/EDAN95/lab3/archive/flowers/tulip\\25759191500_1c0da35828_n.jpg\n",
      "/Users/thoma/Desktop/EDAN95/lab3/archive/flowers/dandelion\\14126515096_1134fae695.jpg\n",
      "/Users/thoma/Desktop/EDAN95/lab3/archive/flowers/daisy\\4785888250_b661eac225_n.jpg\n",
      "/Users/thoma/Desktop/EDAN95/lab3/archive/flowers/dandelion\\34555389922_8da9ffa268_n.jpg\n",
      "/Users/thoma/Desktop/EDAN95/lab3/archive/flowers/rose\\33568345265_e4f7d0fe45_n.jpg\n",
      "/Users/thoma/Desktop/EDAN95/lab3/archive/flowers/tulip\\8838347159_746d14e6c1_m.jpg\n",
      "/Users/thoma/Desktop/EDAN95/lab3/archive/flowers/sunflower\\28661674053_44f8034570_n.jpg\n",
      "/Users/thoma/Desktop/EDAN95/lab3/archive/flowers/rose\\118974357_0faa23cce9_n.jpg\n",
      "/Users/thoma/Desktop/EDAN95/lab3/archive/flowers/tulip\\8585103457_d64697c3cf_n.jpg\n",
      "/Users/thoma/Desktop/EDAN95/lab3/archive/flowers/dandelion\\8978962053_0727b41d26.jpg\n",
      "/Users/thoma/Desktop/EDAN95/lab3/archive/flowers/sunflower\\20667988875_6e73ac2879_n.jpg\n",
      "/Users/thoma/Desktop/EDAN95/lab3/archive/flowers/sunflower\\14460075029_5cd715bb72_m.jpg\n",
      "/Users/thoma/Desktop/EDAN95/lab3/archive/flowers/tulip\\14061132852_89122de5f9_n.jpg\n",
      "/Users/thoma/Desktop/EDAN95/lab3/archive/flowers/tulip\\2322670828_34115a7050.jpg\n",
      "/Users/thoma/Desktop/EDAN95/lab3/archive/flowers/daisy\\7630517248_98fb8bee1f_n.jpg\n",
      "/Users/thoma/Desktop/EDAN95/lab3/archive/flowers/tulip\\19950169968_a29db804b5_n.jpg\n",
      "/Users/thoma/Desktop/EDAN95/lab3/archive/flowers/dandelion\\34721329895_529f999fb6_n.jpg\n",
      "/Users/thoma/Desktop/EDAN95/lab3/archive/flowers/sunflower\\3311874685_7b9ef10f7e_m.jpg\n",
      "/Users/thoma/Desktop/EDAN95/lab3/archive/flowers/tulip\\2254152047_d3bf8903cd_n.jpg\n",
      "/Users/thoma/Desktop/EDAN95/lab3/archive/flowers/dandelion\\8952484062_31d1d97e45.jpg\n",
      "/Users/thoma/Desktop/EDAN95/lab3/archive/flowers/tulip\\13176521023_4d7cc74856_m.jpg\n",
      "/Users/thoma/Desktop/EDAN95/lab3/archive/flowers/dandelion\\1080179756_5f05350a59.jpg\n",
      "/Users/thoma/Desktop/EDAN95/lab3/archive/flowers/dandelion\\27446317092_ff9bb852d5_n.jpg\n",
      "/Users/thoma/Desktop/EDAN95/lab3/archive/flowers/rose\\5292988046_a10f4b0365_n.jpg\n",
      "/Users/thoma/Desktop/EDAN95/lab3/archive/flowers/sunflower\\5007598545_90e08e81c1_n.jpg\n",
      "/Users/thoma/Desktop/EDAN95/lab3/archive/flowers/daisy\\5434914569_e9b982fde0_n.jpg\n",
      "/Users/thoma/Desktop/EDAN95/lab3/archive/flowers/dandelion\\15549402199_2890918ddb.jpg\n",
      "/Users/thoma/Desktop/EDAN95/lab3/archive/flowers/sunflower\\3912497888_e7a5905bc3_n.jpg\n",
      "/Users/thoma/Desktop/EDAN95/lab3/archive/flowers/tulip\\14256111494_f9985585f5_n.jpg\n",
      "/Users/thoma/Desktop/EDAN95/lab3/archive/flowers/tulip\\4589624702_b6baa83699_m.jpg\n",
      "/Users/thoma/Desktop/EDAN95/lab3/archive/flowers/tulip\\5674134129_2db5136cba.jpg\n",
      "/Users/thoma/Desktop/EDAN95/lab3/archive/flowers/dandelion\\2444241718_3ca53ce921.jpg\n",
      "/Users/thoma/Desktop/EDAN95/lab3/archive/flowers/daisy\\10555815624_dc211569b0.jpg\n",
      "/Users/thoma/Desktop/EDAN95/lab3/archive/flowers/rose\\8272822550_fc49484186_n.jpg\n",
      "/Users/thoma/Desktop/EDAN95/lab3/archive/flowers/tulip\\4590702749_e1df8e0c1b.jpg"
     ]
    },
    {
     "name": "stderr",
     "output_type": "stream",
     "text": [
      " 93%|█████████████████████████████████████████████████████████████████████████▎     | 803/865 [00:01<00:00, 544.40it/s]"
     ]
    },
    {
     "name": "stdout",
     "output_type": "stream",
     "text": [
      "\n",
      "/Users/thoma/Desktop/EDAN95/lab3/archive/flowers/tulip\\5546723510_39a5a10d3a_n.jpg\n",
      "/Users/thoma/Desktop/EDAN95/lab3/archive/flowers/dandelion\\4632757134_40156d7d5b.jpg\n",
      "/Users/thoma/Desktop/EDAN95/lab3/archive/flowers/daisy\\11023214096_b5b39fab08.jpg\n",
      "/Users/thoma/Desktop/EDAN95/lab3/archive/flowers/dandelion\\645330051_06b192b7e1.jpg\n",
      "/Users/thoma/Desktop/EDAN95/lab3/archive/flowers/sunflower\\164670176_9f5b9c7965.jpg\n",
      "/Users/thoma/Desktop/EDAN95/lab3/archive/flowers/sunflower\\4821232343_7e0bcfbfdf_n.jpg\n",
      "/Users/thoma/Desktop/EDAN95/lab3/archive/flowers/tulip\\16074109313_2cc14c7d16.jpg\n",
      "/Users/thoma/Desktop/EDAN95/lab3/archive/flowers/daisy\\3415180846_d7b5cced14_m.jpg\n",
      "/Users/thoma/Desktop/EDAN95/lab3/archive/flowers/sunflower\\20621698991_dcb323911d.jpg\n",
      "/Users/thoma/Desktop/EDAN95/lab3/archive/flowers/daisy\\30001711132_eb0fd7b04c_n.jpg\n",
      "/Users/thoma/Desktop/EDAN95/lab3/archive/flowers/rose\\353897245_5453f35a8e.jpg\n",
      "/Users/thoma/Desktop/EDAN95/lab3/archive/flowers/daisy\\1265350143_6e2b276ec9.jpg\n",
      "/Users/thoma/Desktop/EDAN95/lab3/archive/flowers/dandelion\\5996421299_b9bf488c1a_n.jpg\n",
      "/Users/thoma/Desktop/EDAN95/lab3/archive/flowers/rose\\15699509054_d3e125286f_n.jpg\n",
      "/Users/thoma/Desktop/EDAN95/lab3/archive/flowers/tulip\\14053292975_fdc1093571_n.jpg\n",
      "/Users/thoma/Desktop/EDAN95/lab3/archive/flowers/daisy\\14621687774_ec52811acd_n.jpg\n",
      "/Users/thoma/Desktop/EDAN95/lab3/archive/flowers/dandelion\\14396023703_11c5dd35a9.jpg\n",
      "/Users/thoma/Desktop/EDAN95/lab3/archive/flowers/rose\\8273451349_acd4748da6_n.jpg\n",
      "/Users/thoma/Desktop/EDAN95/lab3/archive/flowers/daisy\\2454280137_e1637536ae_n.jpg\n",
      "/Users/thoma/Desktop/EDAN95/lab3/archive/flowers/tulip\\3430229687_32645b5738.jpg\n",
      "/Users/thoma/Desktop/EDAN95/lab3/archive/flowers/sunflower\\4890268276_563f40a193.jpg\n",
      "/Users/thoma/Desktop/EDAN95/lab3/archive/flowers/daisy\\5561775629_a2b709b3a4_n.jpg\n",
      "/Users/thoma/Desktop/EDAN95/lab3/archive/flowers/dandelion\\33877585464_b23cefb361_n.jpg\n",
      "/Users/thoma/Desktop/EDAN95/lab3/archive/flowers/dandelion\\98992760_53ed1d26a9.jpg\n",
      "/Users/thoma/Desktop/EDAN95/lab3/archive/flowers/tulip\\17224410762_402455ed8f.jpg\n",
      "/Users/thoma/Desktop/EDAN95/lab3/archive/flowers/tulip\\6931748252_68f06086b3.jpg\n",
      "/Users/thoma/Desktop/EDAN95/lab3/archive/flowers/rose\\18302801780_50f9a04639_n.jpg\n",
      "/Users/thoma/Desktop/EDAN95/lab3/archive/flowers/tulip\\2785458179_9130812eef_m.jpg\n",
      "/Users/thoma/Desktop/EDAN95/lab3/archive/flowers/rose\\20409866779_ac473f55e0_m.jpg\n",
      "/Users/thoma/Desktop/EDAN95/lab3/archive/flowers/sunflower\\22255608949_172d7c8d22_m.jpg\n",
      "/Users/thoma/Desktop/EDAN95/lab3/archive/flowers/rose\\17869839663_1445f1efd0_n.jpg\n",
      "/Users/thoma/Desktop/EDAN95/lab3/archive/flowers/tulip\\14278331403_4c475f9a9b.jpg\n",
      "/Users/thoma/Desktop/EDAN95/lab3/archive/flowers/dandelion\\145173479_7d04346c20.jpg\n",
      "/Users/thoma/Desktop/EDAN95/lab3/archive/flowers/tulip\\16169741783_deeab1a679_m.jpg\n",
      "/Users/thoma/Desktop/EDAN95/lab3/archive/flowers/sunflower\\4823873762_5f79b0c656_n.jpg\n",
      "/Users/thoma/Desktop/EDAN95/lab3/archive/flowers/rose\\15820572326_be2ea4a55c_n.jpg\n",
      "/Users/thoma/Desktop/EDAN95/lab3/archive/flowers/tulip\\17167151059_a53bfe0b02.jpg\n",
      "/Users/thoma/Desktop/EDAN95/lab3/archive/flowers/dandelion\\4571923094_b9cefa9438_n.jpg\n",
      "/Users/thoma/Desktop/EDAN95/lab3/archive/flowers/dandelion\\33875520194_09bff6f262_n.jpg\n",
      "/Users/thoma/Desktop/EDAN95/lab3/archive/flowers/sunflower\\16143151468_4f3c033e33.jpg\n",
      "/Users/thoma/Desktop/EDAN95/lab3/archive/flowers/rose\\5002449706_647ffe5249_n.jpg\n",
      "/Users/thoma/Desktop/EDAN95/lab3/archive/flowers/daisy\\534547364_3f6b7279d2_n.jpg\n",
      "/Users/thoma/Desktop/EDAN95/lab3/archive/flowers/rose\\15255964454_0a64eb67fa.jpg\n",
      "/Users/thoma/Desktop/EDAN95/lab3/archive/flowers/rose\\5693495337_0e42b4d9f0_n.jpg\n",
      "/Users/thoma/Desktop/EDAN95/lab3/archive/flowers/dandelion\\7083589767_2859993846_n.jpg\n",
      "/Users/thoma/Desktop/EDAN95/lab3/archive/flowers/dandelion\\5644234724_cb0917ee33_m.jpg\n",
      "/Users/thoma/Desktop/EDAN95/lab3/archive/flowers/daisy\\4434592930_6610d51fca_m.jpg\n",
      "/Users/thoma/Desktop/EDAN95/lab3/archive/flowers/sunflower\\2307673262_e1e1aefd29.jpg\n",
      "/Users/thoma/Desktop/EDAN95/lab3/archive/flowers/daisy\\4563059851_45a9d21a75.jpg\n",
      "/Users/thoma/Desktop/EDAN95/lab3/archive/flowers/daisy\\6089825811_80f253fbe1.jpg\n",
      "/Users/thoma/Desktop/EDAN95/lab3/archive/flowers/daisy\\517054463_036db655a1_m.jpg\n",
      "/Users/thoma/Desktop/EDAN95/lab3/archive/flowers/rose\\8960904651_9a0b727258.jpg\n",
      "/Users/thoma/Desktop/EDAN95/lab3/archive/flowers/rose\\5148639829_781eb7d346.jpg\n",
      "/Users/thoma/Desktop/EDAN95/lab3/archive/flowers/tulip\\14069841968_fdc9c1d3a4_n.jpg\n",
      "/Users/thoma/Desktop/EDAN95/lab3/archive/flowers/dandelion\\9617087594_ec2a9b16f6.jpg\n",
      "/Users/thoma/Desktop/EDAN95/lab3/archive/flowers/dandelion\\315645471_dda66c6338_m.jpg\n",
      "/Users/thoma/Desktop/EDAN95/lab3/archive/flowers/dandelion\\2517777524_e871ec5291_m.jpg\n",
      "/Users/thoma/Desktop/EDAN95/lab3/archive/flowers/tulip\\444963906_e41492b692.jpg\n",
      "/Users/thoma/Desktop/EDAN95/lab3/archive/flowers/sunflower\\6199086734_b7ddc65816_m.jpg\n",
      "/Users/thoma/Desktop/EDAN95/lab3/archive/flowers/sunflower\\4814106562_7c3564d2d9_n.jpg\n",
      "/Users/thoma/Desktop/EDAN95/lab3/archive/flowers/dandelion\\7148085703_b9e8bcd6ca_n.jpg\n",
      "/Users/thoma/Desktop/EDAN95/lab3/archive/flowers/rose\\4644336779_acd973528c.jpg\n",
      "/Users/thoma/Desktop/EDAN95/lab3/archive/flowers/rose\\9404876600_04f6d37685.jpg\n",
      "/Users/thoma/Desktop/EDAN95/lab3/archive/flowers/dandelion\\7315832212_b0ceeb8de8_n.jpg\n",
      "/Users/thoma/Desktop/EDAN95/lab3/archive/flowers/tulip\\176458518_f81d4bff8e.jpg\n",
      "/Users/thoma/Desktop/EDAN95/lab3/archive/flowers/rose\\3751835302_d5a03f55e8_n.jpg\n",
      "/Users/thoma/Desktop/EDAN95/lab3/archive/flowers/dandelion\\141652526_2be95f21c3_n.jpg\n",
      "/Users/thoma/Desktop/EDAN95/lab3/archive/flowers/rose\\8742493617_c2a9bf854f_m.jpg\n",
      "/Users/thoma/Desktop/EDAN95/lab3/archive/flowers/tulip\\489506904_9b68ba211c.jpg\n",
      "/Users/thoma/Desktop/EDAN95/lab3/archive/flowers/rose\\5335931263_18edb092b0_n.jpg\n",
      "/Users/thoma/Desktop/EDAN95/lab3/archive/flowers/daisy\\506018088_4f7a15a7c5_n.jpg\n",
      "/Users/thoma/Desktop/EDAN95/lab3/archive/flowers/tulip\\7481217920_6f65766a1c_n.jpg\n",
      "/Users/thoma/Desktop/EDAN95/lab3/archive/flowers/dandelion\\26004221274_74900d17e1_n.jpg\n",
      "/Users/thoma/Desktop/EDAN95/lab3/archive/flowers/tulip\\20877119138_c0fde9d53f_n.jpg\n",
      "/Users/thoma/Desktop/EDAN95/lab3/archive/flowers/dandelion\\7950901292_2dea05f9a2_n.jpg\n",
      "/Users/thoma/Desktop/EDAN95/lab3/archive/flowers/daisy\\3084924076_4d5c5711af_m.jpg\n",
      "/Users/thoma/Desktop/EDAN95/lab3/archive/flowers/daisy\\7189043225_2fe781439a_n.jpg\n",
      "/Users/thoma/Desktop/EDAN95/lab3/archive/flowers/tulip\\13910604778_e5f4588420.jpg\n",
      "/Users/thoma/Desktop/EDAN95/lab3/archive/flowers/dandelion\\18243351371_5fda92ac0a_n.jpg\n",
      "/Users/thoma/Desktop/EDAN95/lab3/archive/flowers/rose\\3667366832_7a8017c528_n.jpg\n",
      "/Users/thoma/Desktop/EDAN95/lab3/archive/flowers/daisy\\4301689054_20519e5b68.jpg\n",
      "/Users/thoma/Desktop/EDAN95/lab3/archive/flowers/dandelion\\3589816063_50f8de7b64_m.jpg\n"
     ]
    },
    {
     "name": "stderr",
     "output_type": "stream",
     "text": [
      "100%|███████████████████████████████████████████████████████████████████████████████| 865/865 [00:01<00:00, 626.16it/s]\n",
      "  9%|███████▎                                                                        | 79/866 [00:00<00:00, 788.12it/s]"
     ]
    },
    {
     "name": "stdout",
     "output_type": "stream",
     "text": [
      "/Users/thoma/Desktop/EDAN95/lab3/archive/flowers/rose\\394990940_7af082cf8d_n.jpg\n",
      "/Users/thoma/Desktop/EDAN95/lab3/archive/flowers/dandelion\\3393564906_f2df184b76_n.jpg\n",
      "/Users/thoma/Desktop/EDAN95/lab3/archive/flowers/dandelion\\20456824132_b1c8fbfa41_m.jpg\n",
      "/Users/thoma/Desktop/EDAN95/lab3/archive/flowers/tulip\\5718513040_8ea13a3599_n.jpg\n",
      "/Users/thoma/Desktop/EDAN95/lab3/archive/flowers/tulip\\15090146325_b7e1249e60.jpg\n",
      "/Users/thoma/Desktop/EDAN95/lab3/archive/flowers/tulip\\26564770956_ac4800ae85_n.jpg\n",
      "/Users/thoma/Desktop/EDAN95/lab3/archive/flowers/daisy\\34310869690_56cdc84a17_n.jpg\n",
      "/Users/thoma/Desktop/EDAN95/lab3/archive/flowers/rose\\6108118824_5b0231a56d.jpg\n",
      "/Users/thoma/Desktop/EDAN95/lab3/archive/flowers/dandelion\\1273326361_b90ea56d0d_m.jpg\n",
      "/Users/thoma/Desktop/EDAN95/lab3/archive/flowers/sunflower\\1788133737_b1133d1aa7.jpg\n",
      "/Users/thoma/Desktop/EDAN95/lab3/archive/flowers/sunflower\\5067864967_19928ca94c_m.jpg\n",
      "/Users/thoma/Desktop/EDAN95/lab3/archive/flowers/dandelion\\2620243133_e801981efe_n.jpg\n",
      "/Users/thoma/Desktop/EDAN95/lab3/archive/flowers/dandelion\\4571681134_b605a61547_n.jpg\n",
      "/Users/thoma/Desktop/EDAN95/lab3/archive/flowers/tulip\\15647243236_2778501cf5_n.jpg\n",
      "/Users/thoma/Desktop/EDAN95/lab3/archive/flowers/sunflower\\4895719476_bd3b6bd6fd_n.jpg\n",
      "/Users/thoma/Desktop/EDAN95/lab3/archive/flowers/daisy\\34727863665_b00ac77266_n.jpg\n",
      "/Users/thoma/Desktop/EDAN95/lab3/archive/flowers/tulip\\14084211971_0f921f11fe_n.jpg\n",
      "/Users/thoma/Desktop/EDAN95/lab3/archive/flowers/dandelion\\6897671808_57230e04c5_n.jpg\n",
      "/Users/thoma/Desktop/EDAN95/lab3/archive/flowers/sunflower\\2894191705_a1d2d80c80.jpg\n",
      "/Users/thoma/Desktop/EDAN95/lab3/archive/flowers/rose\\5349249933_f02c8ea7de_n.jpg\n",
      "/Users/thoma/Desktop/EDAN95/lab3/archive/flowers/rose\\3494252600_29f26e3ff0_n.jpg\n",
      "/Users/thoma/Desktop/EDAN95/lab3/archive/flowers/dandelion\\6983113346_21551e1b52_n.jpg\n",
      "/Users/thoma/Desktop/EDAN95/lab3/archive/flowers/tulip\\3529889389_ab4cb6c43b.jpg\n",
      "/Users/thoma/Desktop/EDAN95/lab3/archive/flowers/daisy\\10140303196_b88d3d6cec.jpg\n",
      "/Users/thoma/Desktop/EDAN95/lab3/archive/flowers/tulip\\2374855021_21959b40c0_n.jpg\n",
      "/Users/thoma/Desktop/EDAN95/lab3/archive/flowers/sunflower\\16153267338_2f39906bcb_n.jpg\n",
      "/Users/thoma/Desktop/EDAN95/lab3/archive/flowers/dandelion\\2443192475_c64c66d9c2.jpg\n",
      "/Users/thoma/Desktop/EDAN95/lab3/archive/flowers/daisy\\4440480869_632ce6aff3_n.jpg\n",
      "/Users/thoma/Desktop/EDAN95/lab3/archive/flowers/daisy\\144076848_57e1d662e3_m.jpg\n",
      "/Users/thoma/Desktop/EDAN95/lab3/archive/flowers/tulip\\8713396140_5af8136136.jpg\n",
      "/Users/thoma/Desktop/EDAN95/lab3/archive/flowers/dandelion\\2535769822_513be6bbe9.jpg\n",
      "/Users/thoma/Desktop/EDAN95/lab3/archive/flowers/dandelion\\7193058132_36fd883048_m.jpg\n",
      "/Users/thoma/Desktop/EDAN95/lab3/archive/flowers/sunflower\\5917253022_4e3142d48b_n.jpg\n",
      "/Users/thoma/Desktop/EDAN95/lab3/archive/flowers/rose\\4648680921_80dfc4f12a.jpg\n",
      "/Users/thoma/Desktop/EDAN95/lab3/archive/flowers/dandelion\\16691236594_4287cea9d6_n.jpg\n",
      "/Users/thoma/Desktop/EDAN95/lab3/archive/flowers/sunflower\\5437996076_cf7e2ac32e_n.jpg\n",
      "/Users/thoma/Desktop/EDAN95/lab3/archive/flowers/tulip\\9446982168_06c4d71da3_n.jpg\n",
      "/Users/thoma/Desktop/EDAN95/lab3/archive/flowers/sunflower\\19504937128_a4ae90fcbd_m.jpg\n",
      "/Users/thoma/Desktop/EDAN95/lab3/archive/flowers/daisy\\34543119581_1fb7e0bd7f_n.jpg\n",
      "/Users/thoma/Desktop/EDAN95/lab3/archive/flowers/rose\\15697872479_ed48e9dd73_n.jpg\n",
      "/Users/thoma/Desktop/EDAN95/lab3/archive/flowers/sunflower\\5004121118_e9393e60d0_n.jpg\n",
      "/Users/thoma/Desktop/EDAN95/lab3/archive/flowers/sunflower\\27466794_57e4fe5656.jpg\n",
      "/Users/thoma/Desktop/EDAN95/lab3/archive/flowers/dandelion\\8701999625_8d83138124.jpg\n",
      "/Users/thoma/Desktop/EDAN95/lab3/archive/flowers/tulip\\16138212287_643bf336e1_m.jpg\n",
      "/Users/thoma/Desktop/EDAN95/lab3/archive/flowers/rose\\7461897058_3c955efe2a_n.jpg\n",
      "/Users/thoma/Desktop/EDAN95/lab3/archive/flowers/rose\\4702438868_278b9cf41c_n.jpg\n",
      "/Users/thoma/Desktop/EDAN95/lab3/archive/flowers/dandelion\\33878218914_452600b869_n.jpg\n",
      "/Users/thoma/Desktop/EDAN95/lab3/archive/flowers/rose\\898102603_2d5152f09a.jpg\n",
      "/Users/thoma/Desktop/EDAN95/lab3/archive/flowers/sunflower\\5970869550_d7d9fabebd_n.jpg\n",
      "/Users/thoma/Desktop/EDAN95/lab3/archive/flowers/daisy\\4065883015_4bb6010cb7_n.jpg\n",
      "/Users/thoma/Desktop/EDAN95/lab3/archive/flowers/dandelion\\33869330174_b259025135_n.jpg\n"
     ]
    },
    {
     "name": "stderr",
     "output_type": "stream",
     "text": [
      "100%|███████████████████████████████████████████████████████████████████████████████| 866/866 [00:01<00:00, 774.35it/s]\n"
     ]
    }
   ],
   "source": [
    "#if not os.path.isdir(dataset):\n",
    "for image, label in tqdm(train_images):\n",
    "    src = os.path.join(original_dataset_dir, label, image)\n",
    "    dst = os.path.join(train_dir, label, image)\n",
    "    os.makedirs(os.path.dirname(dst), exist_ok=True)\n",
    "    shutil.copyfile(src, dst)\n",
    "\n",
    "for image, label in tqdm(val_images):\n",
    "    src = os.path.join(original_dataset_dir, label, image)\n",
    "    dst = os.path.join(validation_dir, label, image)\n",
    "    print(src)\n",
    "    os.makedirs(os.path.dirname(dst), exist_ok=True)\n",
    "    shutil.copyfile(src, dst)\n",
    "\n",
    "for image, label in tqdm(test_images):\n",
    "    src = os.path.join(original_dataset_dir, label, image)\n",
    "    dst = os.path.join(test_dir, label, image)\n",
    "    os.makedirs(os.path.dirname(dst), exist_ok=True)\n",
    "    shutil.copyfile(src, dst)"
   ]
  },
  {
   "cell_type": "markdown",
   "metadata": {
    "id": "vQ3ROB8QpnRk"
   },
   "source": [
    "## Building a Simple Convolutional Neural Network"
   ]
  },
  {
   "cell_type": "markdown",
   "metadata": {
    "id": "KVjfy0ZfpnRm"
   },
   "source": [
    "### Architecture"
   ]
  },
  {
   "cell_type": "markdown",
   "metadata": {
    "id": "p7Mn5S0kpnRm"
   },
   "source": [
    "Create a simple convolutional network and train a model with the train set. You can start from the architecture proposed by Chollet, Listing 5.5 (in Chollet's notebook 5.2), and a small number of epochs. Use the `ImageDataGenerator` class to scale your images as in the book:\n",
    "```\n",
    "train_datagen = ImageDataGenerator(rescale=1. / 255)\n",
    "val_datagen = ImageDataGenerator(rescale=1. / 255)\n",
    "test_datagen = ImageDataGenerator(rescale=1. / 255)\n",
    "```\n",
    "* You will need to modify some parameters so that your network handles multiple classes.\n",
    "* You will also adjust the number of steps so that your generator in the fitting procedure sees all the samples.\n",
    "* You will report the training and validation losses and accuracies and comment on the possible overfit."
   ]
  },
  {
   "cell_type": "code",
   "execution_count": 25,
   "metadata": {
    "id": "7MFJNvpNpnRo"
   },
   "outputs": [],
   "source": [
    "import numpy as np\n",
    "from sklearn.metrics import classification_report, confusion_matrix, accuracy_score\n",
    "import matplotlib.pyplot as plt\n",
    "from keras import layers\n",
    "from keras import models\n",
    "from keras import optimizers\n",
    "from keras.preprocessing.image import ImageDataGenerator\n",
    "\n",
    "EPOCHS = 30\n",
    "OPTIMIZER = 'rmsprop'\n",
    "# The pretrained network\n",
    "PRETRAINED = 'INCEPTION'"
   ]
  },
  {
   "cell_type": "markdown",
   "metadata": {
    "id": "UPOaoq0epnRu"
   },
   "source": [
    "Create the network and compile it"
   ]
  },
  {
   "cell_type": "code",
   "execution_count": 26,
   "metadata": {
    "id": "Jlyw_HpipnRu"
   },
   "outputs": [],
   "source": [
    "# Write your code here\n",
    "model = models.Sequential()\n",
    "\n",
    "#modify some parameters so that your network handles multiple classes.\n",
    "\n",
    "model = models.Sequential()\n",
    "model.add(layers.Conv2D(32, (3, 3), activation='relu',\n",
    "                        input_shape=(150, 150, 3)))\n",
    "model.add(layers.MaxPooling2D((2, 2)))\n",
    "model.add(layers.Conv2D(64, (3, 3), activation='relu'))\n",
    "model.add(layers.MaxPooling2D((2, 2)))\n",
    "model.add(layers.Conv2D(128, (3, 3), activation='relu'))\n",
    "model.add(layers.MaxPooling2D((2, 2)))\n",
    "model.add(layers.Conv2D(128, (3, 3), activation='relu'))\n",
    "model.add(layers.MaxPooling2D((2, 2)))\n",
    "model.add(layers.Flatten())\n",
    "model.add(layers.Dense(512, activation='relu'))\n",
    "model.add(layers.Dense(5, activation='softmax')) #nbr of labels? 'softmax'?\n",
    "\n",
    "model.compile(loss='categorical_crossentropy',\n",
    "              optimizer=optimizers.RMSprop(lr=1e-4),\n",
    "              metrics=['acc'])"
   ]
  },
  {
   "cell_type": "code",
   "execution_count": 27,
   "metadata": {},
   "outputs": [
    {
     "name": "stdout",
     "output_type": "stream",
     "text": [
      "Model: \"sequential_3\"\n",
      "_________________________________________________________________\n",
      "Layer (type)                 Output Shape              Param #   \n",
      "=================================================================\n",
      "conv2d_4 (Conv2D)            (None, 148, 148, 32)      896       \n",
      "_________________________________________________________________\n",
      "max_pooling2d_4 (MaxPooling2 (None, 74, 74, 32)        0         \n",
      "_________________________________________________________________\n",
      "conv2d_5 (Conv2D)            (None, 72, 72, 64)        18496     \n",
      "_________________________________________________________________\n",
      "max_pooling2d_5 (MaxPooling2 (None, 36, 36, 64)        0         \n",
      "_________________________________________________________________\n",
      "conv2d_6 (Conv2D)            (None, 34, 34, 128)       73856     \n",
      "_________________________________________________________________\n",
      "max_pooling2d_6 (MaxPooling2 (None, 17, 17, 128)       0         \n",
      "_________________________________________________________________\n",
      "conv2d_7 (Conv2D)            (None, 15, 15, 128)       147584    \n",
      "_________________________________________________________________\n",
      "max_pooling2d_7 (MaxPooling2 (None, 7, 7, 128)         0         \n",
      "_________________________________________________________________\n",
      "flatten_1 (Flatten)          (None, 6272)              0         \n",
      "_________________________________________________________________\n",
      "dense_2 (Dense)              (None, 512)               3211776   \n",
      "_________________________________________________________________\n",
      "dense_3 (Dense)              (None, 5)                 2565      \n",
      "=================================================================\n",
      "Total params: 3,455,173\n",
      "Trainable params: 3,455,173\n",
      "Non-trainable params: 0\n",
      "_________________________________________________________________\n"
     ]
    }
   ],
   "source": [
    "# Write your code here\n",
    "model.summary()\n",
    "\n"
   ]
  },
  {
   "cell_type": "markdown",
   "metadata": {
    "id": "VM_HQXgVpnR0"
   },
   "source": [
    "Create now the data generators for the training, validation, and test set"
   ]
  },
  {
   "cell_type": "code",
   "execution_count": 28,
   "metadata": {
    "id": "J7xMlD63pnR1",
    "outputId": "aca9b0a2-6d6d-4eef-83d2-3507ca493a59",
    "scrolled": true
   },
   "outputs": [
    {
     "name": "stdout",
     "output_type": "stream",
     "text": [
      "Found 2593 images belonging to 5 classes.\n",
      "Found 865 images belonging to 5 classes.\n",
      "Found 865 images belonging to 5 classes.\n",
      "-------------------------\n",
      "data batch shape: (20, 150, 150, 3)\n",
      "labels batch shape: (20, 5)\n"
     ]
    }
   ],
   "source": [
    "# Write your code here\n",
    "train_datagen = ImageDataGenerator(rescale=1. / 255)\n",
    "val_datagen = ImageDataGenerator(rescale=1. / 255)\n",
    "test_datagen = ImageDataGenerator(rescale=1. / 255)\n",
    "\n",
    "\n",
    "train_generator = train_datagen.flow_from_directory(\n",
    "        # This is the target directory\n",
    "        train_dir,\n",
    "        # All images will be resized to 150x150\n",
    "        target_size=(150, 150),\n",
    "        batch_size=20,\n",
    "        classes = categories,\n",
    "        # Since we use categorical_crossentropy loss\n",
    "        class_mode='categorical')\n",
    "\n",
    "validation_generator = val_datagen.flow_from_directory(\n",
    "        # This is the target directory\n",
    "        validation_dir,\n",
    "        # All images will be resized to 150x150\n",
    "        target_size=(150, 150),\n",
    "        batch_size=20,\n",
    "        classes = categories,\n",
    "        # Since we use categorical_crossentropy loss\n",
    "        class_mode='categorical')\n",
    "\n",
    "test_generator = test_datagen.flow_from_directory(\n",
    "        # This is the target directory\n",
    "        test_dir,\n",
    "        # All images will be resized to 150x150\n",
    "        target_size=(150, 150),\n",
    "        batch_size=20,\n",
    "        classes = categories,\n",
    "        # Since we use categorical_crossentropy loss\n",
    "        class_mode='categorical')\n",
    "print('-------------------------')\n",
    "for data_batch, labels_batch in train_generator:\n",
    "    print('data batch shape:', data_batch.shape)\n",
    "    print('labels batch shape:', labels_batch.shape)\n",
    "    break"
   ]
  },
  {
   "cell_type": "code",
   "execution_count": 29,
   "metadata": {},
   "outputs": [],
   "source": [
    "#choose batchsize, 20 atm\n",
    "#epoch set to 30\n",
    "#steps = number of samples / batch size\n",
    "#train steps: 2595/20 = 129,75 or 3017/20\n",
    "#val steps: 865/20 = 43,25\n",
    "# so set 129 and 43? close enough i guess..."
   ]
  },
  {
   "cell_type": "markdown",
   "metadata": {
    "id": "QgI--qDPpnR7"
   },
   "source": [
    "Compute `STEPS_PER_EPOCH` and `VALIDATION_STEPS` \n",
    "and fit your model"
   ]
  },
  {
   "cell_type": "code",
   "execution_count": 30,
   "metadata": {
    "id": "3-cTwQlGpnR8"
   },
   "outputs": [
    {
     "name": "stdout",
     "output_type": "stream",
     "text": [
      "Epoch 1/30\n",
      "129/129 [==============================] - 56s 432ms/step - loss: 1.3770 - acc: 0.3918 - val_loss: 1.1707 - val_acc: 0.5256\n",
      "Epoch 2/30\n",
      "129/129 [==============================] - 56s 431ms/step - loss: 1.1437 - acc: 0.5352 - val_loss: 1.1197 - val_acc: 0.5291\n",
      "Epoch 3/30\n",
      "129/129 [==============================] - 56s 437ms/step - loss: 1.0629 - acc: 0.5764 - val_loss: 1.0956 - val_acc: 0.5651\n",
      "Epoch 4/30\n",
      "129/129 [==============================] - 56s 436ms/step - loss: 0.9854 - acc: 0.6055 - val_loss: 1.0586 - val_acc: 0.5884\n",
      "Epoch 5/30\n",
      "129/129 [==============================] - 55s 425ms/step - loss: 0.9190 - acc: 0.6354 - val_loss: 1.1225 - val_acc: 0.5488\n",
      "Epoch 6/30\n",
      "129/129 [==============================] - 56s 435ms/step - loss: 0.8800 - acc: 0.6557 - val_loss: 1.0599 - val_acc: 0.5988\n",
      "Epoch 7/30\n",
      "129/129 [==============================] - 56s 435ms/step - loss: 0.8249 - acc: 0.6747 - val_loss: 1.0110 - val_acc: 0.6012\n",
      "Epoch 8/30\n",
      "129/129 [==============================] - 56s 431ms/step - loss: 0.7750 - acc: 0.7058 - val_loss: 1.0232 - val_acc: 0.6070\n",
      "Epoch 9/30\n",
      "129/129 [==============================] - 58s 448ms/step - loss: 0.7397 - acc: 0.7202 - val_loss: 1.0027 - val_acc: 0.6209\n",
      "Epoch 10/30\n",
      "129/129 [==============================] - 57s 443ms/step - loss: 0.6835 - acc: 0.7365 - val_loss: 1.0494 - val_acc: 0.6140\n",
      "Epoch 11/30\n",
      "129/129 [==============================] - 57s 444ms/step - loss: 0.6473 - acc: 0.7532 - val_loss: 0.9573 - val_acc: 0.6558\n",
      "Epoch 12/30\n",
      "129/129 [==============================] - 57s 442ms/step - loss: 0.6163 - acc: 0.7664 - val_loss: 1.1941 - val_acc: 0.6000\n",
      "Epoch 13/30\n",
      "129/129 [==============================] - 62s 480ms/step - loss: 0.5675 - acc: 0.7897 - val_loss: 0.9962 - val_acc: 0.6384\n",
      "Epoch 14/30\n",
      "129/129 [==============================] - 59s 456ms/step - loss: 0.5362 - acc: 0.8030 - val_loss: 1.0450 - val_acc: 0.6291\n",
      "Epoch 15/30\n",
      "129/129 [==============================] - 58s 447ms/step - loss: 0.4999 - acc: 0.8177 - val_loss: 1.0193 - val_acc: 0.6314\n",
      "Epoch 16/30\n",
      "129/129 [==============================] - 57s 439ms/step - loss: 0.4562 - acc: 0.8414 - val_loss: 1.0277 - val_acc: 0.6360\n",
      "Epoch 17/30\n",
      "129/129 [==============================] - 55s 429ms/step - loss: 0.4146 - acc: 0.8535 - val_loss: 1.1701 - val_acc: 0.6128\n",
      "Epoch 18/30\n",
      "129/129 [==============================] - 56s 431ms/step - loss: 0.3706 - acc: 0.8717 - val_loss: 1.1929 - val_acc: 0.6430\n",
      "Epoch 19/30\n",
      "129/129 [==============================] - 57s 442ms/step - loss: 0.3390 - acc: 0.8850 - val_loss: 1.1937 - val_acc: 0.6395\n",
      "Epoch 20/30\n",
      "129/129 [==============================] - 57s 442ms/step - loss: 0.3080 - acc: 0.8982 - val_loss: 1.1328 - val_acc: 0.6174\n",
      "Epoch 21/30\n",
      "129/129 [==============================] - 56s 434ms/step - loss: 0.2568 - acc: 0.9211 - val_loss: 1.2866 - val_acc: 0.6384\n",
      "Epoch 22/30\n",
      "129/129 [==============================] - 56s 432ms/step - loss: 0.2373 - acc: 0.9184 - val_loss: 1.2501 - val_acc: 0.6291\n",
      "Epoch 23/30\n",
      "129/129 [==============================] - 56s 432ms/step - loss: 0.2040 - acc: 0.9355 - val_loss: 1.2869 - val_acc: 0.6430\n",
      "Epoch 24/30\n",
      "129/129 [==============================] - 56s 432ms/step - loss: 0.1716 - acc: 0.9479 - val_loss: 1.3469 - val_acc: 0.6419\n",
      "Epoch 25/30\n",
      "129/129 [==============================] - 56s 432ms/step - loss: 0.1616 - acc: 0.9526 - val_loss: 1.4134 - val_acc: 0.5988\n",
      "Epoch 26/30\n",
      "129/129 [==============================] - 56s 432ms/step - loss: 0.1342 - acc: 0.9572 - val_loss: 1.4251 - val_acc: 0.6430\n",
      "Epoch 27/30\n",
      "129/129 [==============================] - 56s 432ms/step - loss: 0.1097 - acc: 0.9712 - val_loss: 1.4644 - val_acc: 0.6372\n",
      "Epoch 28/30\n",
      "129/129 [==============================] - 57s 440ms/step - loss: 0.1115 - acc: 0.9670 - val_loss: 1.4958 - val_acc: 0.6407\n",
      "Epoch 29/30\n",
      "129/129 [==============================] - 56s 431ms/step - loss: 0.0855 - acc: 0.9802 - val_loss: 1.8430 - val_acc: 0.6337\n",
      "Epoch 30/30\n",
      "129/129 [==============================] - 55s 425ms/step - loss: 0.0699 - acc: 0.9813 - val_loss: 1.7175 - val_acc: 0.6221\n"
     ]
    }
   ],
   "source": [
    "# Write your code here\n",
    "# adjust the number of steps so that your generator in the \n",
    "# fitting procedure sees all the samples.\n",
    "\n",
    "history = model.fit_generator(\n",
    "      train_generator,\n",
    "      steps_per_epoch=129,\n",
    "      epochs=30,\n",
    "      validation_data=validation_generator,\n",
    "      validation_steps=43)"
   ]
  },
  {
   "cell_type": "code",
   "execution_count": null,
   "metadata": {},
   "outputs": [],
   "source": []
  },
  {
   "cell_type": "markdown",
   "metadata": {
    "id": "vKH2wetIpnSK"
   },
   "source": [
    "### Analyzing the fitting performance over epochs"
   ]
  },
  {
   "cell_type": "markdown",
   "metadata": {
    "id": "LiU4d159pnSL"
   },
   "source": [
    "As in Chollet's examples, print the training and validation loss"
   ]
  },
  {
   "cell_type": "code",
   "execution_count": 31,
   "metadata": {
    "id": "SmugaDqXpnSM",
    "outputId": "7b042840-f307-49b8-895f-0a2d82bf04e5"
   },
   "outputs": [
    {
     "data": {
      "image/png": "[encoded data removed]",
      "text/plain": [
       "<Figure size 432x288 with 1 Axes>"
      ]
     },
     "metadata": {
      "needs_background": "light"
     },
     "output_type": "display_data"
    },
    {
     "data": {
      "image/png": "[encoded data removed]",
      "text/plain": [
       "<Figure size 432x288 with 1 Axes>"
      ]
     },
     "metadata": {
      "needs_background": "light"
     },
     "output_type": "display_data"
    }
   ],
   "source": [
    "# Write your code here\n",
    "model.save('flowers_small_1.h5')\n",
    "\n",
    "import matplotlib.pyplot as plt\n",
    "\n",
    "acc = history.history['acc']\n",
    "val_acc = history.history['val_acc']\n",
    "loss = history.history['loss']\n",
    "val_loss = history.history['val_loss']\n",
    "\n",
    "epochs = range(len(acc))\n",
    "\n",
    "plt.plot(epochs, acc, 'bo', label='Training acc')\n",
    "plt.plot(epochs, val_acc, 'b', label='Validation acc')\n",
    "plt.title('Training and validation accuracy')\n",
    "plt.legend()\n",
    "\n",
    "plt.figure()\n",
    "\n",
    "plt.plot(epochs, loss, 'bo', label='Training loss')\n",
    "plt.plot(epochs, val_loss, 'b', label='Validation loss')\n",
    "plt.title('Training and validation loss')\n",
    "plt.legend()\n",
    "\n",
    "plt.show()\n"
   ]
  },
  {
   "cell_type": "markdown",
   "metadata": {
    "id": "B1BN9A6wpnSR"
   },
   "source": [
    "### Predicting the test set"
   ]
  },
  {
   "cell_type": "markdown",
   "metadata": {
    "id": "T2OGXhb8pnSW"
   },
   "source": [
    "Apply now your network to the test set"
   ]
  },
  {
   "cell_type": "code",
   "execution_count": 32,
   "metadata": {
    "id": "qdCqaRkopnSY"
   },
   "outputs": [],
   "source": [
    "# Write your code here\n",
    "#test_loss, test_acc = model.evaluate(test_images, test_labels)\n",
    "\n",
    "#predictions = model.predict(test_generator)??\n",
    "#model.predict_classes(<numpy_array>)??\n",
    "#score = model.evaluate(input_test, target_test, verbose=0)??\n",
    "\n",
    "\n",
    "predictions = model.predict_generator(test_generator, workers = 1)\n",
    "prediction_classes = np.argmax(predictions, axis=1)\n",
    "test_classes = test_generator.classes"
   ]
  },
  {
   "cell_type": "markdown",
   "metadata": {
    "id": "3hVsfM-dpnSf"
   },
   "source": [
    "Report the accuracy as well as the classification report. Use sklearn functions"
   ]
  },
  {
   "cell_type": "code",
   "execution_count": 33,
   "metadata": {
    "id": "mfa2L6KhpnSg",
    "outputId": "0f5e0bb2-7d03-4e96-ab94-342540ad344e"
   },
   "outputs": [
    {
     "name": "stdout",
     "output_type": "stream",
     "text": [
      "4325\n",
      "              precision    recall  f1-score   support\n",
      "\n",
      "           0       0.23      0.17      0.19       175\n",
      "           1       0.23      0.27      0.25       215\n",
      "           2       0.18      0.16      0.17       148\n",
      "           3       0.14      0.10      0.12       135\n",
      "           4       0.21      0.27      0.23       192\n",
      "\n",
      "    accuracy                           0.20       865\n",
      "   macro avg       0.20      0.19      0.19       865\n",
      "weighted avg       0.20      0.20      0.20       865\n",
      "\n"
     ]
    }
   ],
   "source": [
    "# Write your code here\n",
    "print(predictions.size)\n",
    "#print(prediction_classes.shape)\n",
    "report = classification_report(test_classes, prediction_classes)\n",
    "print(report)"
   ]
  },
  {
   "cell_type": "markdown",
   "metadata": {
    "id": "vRdjVqUdpnSn"
   },
   "source": [
    "Print the confusion matrix"
   ]
  },
  {
   "cell_type": "code",
   "execution_count": 34,
   "metadata": {
    "id": "kcrixapqpnSn",
    "outputId": "ff6a1a32-8afa-45c9-bc10-a0c6639c420a"
   },
   "outputs": [
    {
     "name": "stdout",
     "output_type": "stream",
     "text": [
      "Confusion matrix:\n",
      "[[29 47 25 23 51]\n",
      " [30 59 34 35 57]\n",
      " [18 46 24 13 47]\n",
      " [23 39 21 14 38]\n",
      " [27 70 27 17 51]]\n"
     ]
    }
   ],
   "source": [
    "# Write your code here\n",
    "print(\"Confusion matrix:\\n%s\" % confusion_matrix(test_classes, prediction_classes))"
   ]
  },
  {
   "cell_type": "markdown",
   "metadata": {
    "id": "2FtCJ48DpnSr"
   },
   "source": [
    "Finally, run a model evaluation and store the loss and accuracy in the `test_loss_1` and `test_acc_1` variables. As with fitting, you may need to adjust the number of steps so that your network tests all the samples."
   ]
  },
  {
   "cell_type": "code",
   "execution_count": 36,
   "metadata": {
    "id": "TgLuac80pnSr",
    "outputId": "a3bc0f42-41c9-4aa8-d778-f4915e0b911c"
   },
   "outputs": [
    {
     "name": "stdout",
     "output_type": "stream",
     "text": [
      "test acc: 0.6441860198974609\n",
      "test loss: 1.4655539989471436\n"
     ]
    }
   ],
   "source": [
    "# Write your code here\n",
    "#, the loss function as ‘categorical_crossentropy’\n",
    "\n",
    "test_loss1, test_acc1 = model.evaluate_generator(test_generator, steps=43)\n",
    "print('test acc:', test_acc1)\n",
    "print('test loss:', test_loss1)"
   ]
  },
  {
   "cell_type": "markdown",
   "metadata": {
    "id": "CXkK54SopnSy"
   },
   "source": [
    "Try to improve your model by modifying some parameters and evaluate your network again."
   ]
  },
  {
   "cell_type": "markdown",
   "metadata": {
    "id": "urq2aNQ1pnSy"
   },
   "source": [
    "## Using Image Augmentation"
   ]
  },
  {
   "cell_type": "markdown",
   "metadata": {
    "id": "huxN_naFpnS1"
   },
   "source": [
    "### Architecture"
   ]
  },
  {
   "cell_type": "markdown",
   "metadata": {
    "id": "aaMQ06jZpnS2"
   },
   "source": [
    "The flower dataset is relatively small. A way to expand such datasets is to generate artificial images by applying small transformations to existing images. Keras provides a built-in class for this: `ImageDataGenerator`. You will reuse it and apply it to the flower data set.\n",
    "1. Using the network from the previous exercise, apply some transformations to your images. You can start from Chollet, Listing 5.11 (in notebook 5.2 also).\n",
    "2. Report the training and validation losses and accuracies and comment on the possible overfit.\n",
    "3. Apply your network to the test set and report the accuracy as well as the confusion matrix you obtained.\n"
   ]
  },
  {
   "cell_type": "markdown",
   "metadata": {
    "id": "ISNbiM0zpnS3"
   },
   "source": [
    "Write a new generator for the training set"
   ]
  },
  {
   "cell_type": "code",
   "execution_count": 120,
   "metadata": {
    "id": "cWLNE5jgpnS3"
   },
   "outputs": [
    {
     "name": "stdout",
     "output_type": "stream",
     "text": [
      "Found 3027 images belonging to 5 classes.\n",
      "Found 865 images belonging to 5 classes.\n",
      "Found 865 images belonging to 5 classes.\n"
     ]
    }
   ],
   "source": [
    "# Write your code here\n",
    "train_datagen = ImageDataGenerator(\n",
    "    rescale=1./255,\n",
    "    rotation_range=40,\n",
    "    width_shift_range=0.2,\n",
    "    height_shift_range=0.2,\n",
    "    shear_range=0.2,\n",
    "    zoom_range=0.2,\n",
    "    horizontal_flip=True,)\n",
    "\n",
    "test_datagen = ImageDataGenerator(rescale=1./255)\n",
    "\n",
    "train_generator = train_datagen.flow_from_directory(\n",
    "        # This is the target directory\n",
    "        train_dir,\n",
    "        # All images will be resized to 150x150\n",
    "        target_size=(150, 150),\n",
    "        batch_size=20,\n",
    "        # Since we use binary_crossentropy loss, we need binary labels\n",
    "        classes = categories,\n",
    "        # Since we use categorical_crossentropy loss\n",
    "        class_mode='categorical')\n",
    "\n",
    "validation_generator = test_datagen.flow_from_directory(\n",
    "        validation_dir,\n",
    "        target_size=(150, 150),\n",
    "        batch_size=20,\n",
    "        classes = categories,\n",
    "        # Since we use categorical_crossentropy loss\n",
    "        class_mode='categorical')\n",
    "\n",
    "test_generator = test_datagen.flow_from_directory(\n",
    "        test_dir,\n",
    "        target_size = (150,150),\n",
    "        batch_size = 20,\n",
    "        classes = categories,\n",
    "        class_mode = 'categorical', \n",
    "        shuffle=False)"
   ]
  },
  {
   "cell_type": "markdown",
   "metadata": {
    "id": "UXuzmEXQpnS8"
   },
   "source": [
    "Fit a model. You reset the model by recreating it."
   ]
  },
  {
   "cell_type": "code",
   "execution_count": 88,
   "metadata": {
    "id": "f2vkCtdfpnS9"
   },
   "outputs": [
    {
     "name": "stdout",
     "output_type": "stream",
     "text": [
      "Model: \"sequential_16\"\n",
      "_________________________________________________________________\n",
      "Layer (type)                 Output Shape              Param #   \n",
      "=================================================================\n",
      "conv2d_32 (Conv2D)           (None, 148, 148, 32)      896       \n",
      "_________________________________________________________________\n",
      "max_pooling2d_32 (MaxPooling (None, 74, 74, 32)        0         \n",
      "_________________________________________________________________\n",
      "conv2d_33 (Conv2D)           (None, 72, 72, 64)        18496     \n",
      "_________________________________________________________________\n",
      "max_pooling2d_33 (MaxPooling (None, 36, 36, 64)        0         \n",
      "_________________________________________________________________\n",
      "conv2d_34 (Conv2D)           (None, 34, 34, 128)       73856     \n",
      "_________________________________________________________________\n",
      "max_pooling2d_34 (MaxPooling (None, 17, 17, 128)       0         \n",
      "_________________________________________________________________\n",
      "conv2d_35 (Conv2D)           (None, 15, 15, 128)       147584    \n",
      "_________________________________________________________________\n",
      "max_pooling2d_35 (MaxPooling (None, 7, 7, 128)         0         \n",
      "_________________________________________________________________\n",
      "flatten_8 (Flatten)          (None, 6272)              0         \n",
      "_________________________________________________________________\n",
      "dropout (Dropout)            (None, 6272)              0         \n",
      "_________________________________________________________________\n",
      "dense_16 (Dense)             (None, 512)               3211776   \n",
      "_________________________________________________________________\n",
      "dense_17 (Dense)             (None, 5)                 2565      \n",
      "=================================================================\n",
      "Total params: 3,455,173\n",
      "Trainable params: 3,455,173\n",
      "Non-trainable params: 0\n",
      "_________________________________________________________________\n"
     ]
    }
   ],
   "source": [
    "# Write your code here\n",
    "\n",
    "\n",
    "model2 = models.Sequential()\n",
    "model2.add(layers.Conv2D(32, (3, 3), activation='relu',\n",
    "                        input_shape=(150, 150, 3)))\n",
    "model2.add(layers.MaxPooling2D((2, 2)))\n",
    "model2.add(layers.Conv2D(64, (3, 3), activation='relu'))\n",
    "model2.add(layers.MaxPooling2D((2, 2)))\n",
    "model2.add(layers.Conv2D(128, (3, 3), activation='relu'))\n",
    "model2.add(layers.MaxPooling2D((2, 2)))\n",
    "model2.add(layers.Conv2D(128, (3, 3), activation='relu'))\n",
    "model2.add(layers.MaxPooling2D((2, 2)))\n",
    "model2.add(layers.Flatten())\n",
    "model2.add(layers.Dropout(0.5))\n",
    "model2.add(layers.Dense(512, activation='relu'))\n",
    "model2.add(layers.Dense(5, activation='softmax'))\n",
    "\n",
    "model2.compile(loss='categorical_crossentropy',\n",
    "              optimizer=optimizers.RMSprop(lr=1e-4),\n",
    "              metrics=['acc'])\n",
    "\n",
    "model2.summary()"
   ]
  },
  {
   "cell_type": "code",
   "execution_count": 89,
   "metadata": {},
   "outputs": [
    {
     "name": "stdout",
     "output_type": "stream",
     "text": [
      "Epoch 1/30\n",
      "129/129 [==============================] - 55s 430ms/step - loss: 1.4272 - acc: 0.3459 - val_loss: 1.2779 - val_acc: 0.4407\n",
      "Epoch 2/30\n",
      "129/129 [==============================] - 60s 461ms/step - loss: 1.2424 - acc: 0.4386 - val_loss: 1.2328 - val_acc: 0.5093\n",
      "Epoch 3/30\n",
      "129/129 [==============================] - 62s 484ms/step - loss: 1.1724 - acc: 0.4982 - val_loss: 1.1242 - val_acc: 0.5558\n",
      "Epoch 4/30\n",
      "129/129 [==============================] - 59s 460ms/step - loss: 1.1137 - acc: 0.5586 - val_loss: 1.1302 - val_acc: 0.5570\n",
      "Epoch 5/30\n",
      "129/129 [==============================] - 64s 495ms/step - loss: 1.0697 - acc: 0.5614 - val_loss: 1.0520 - val_acc: 0.5953\n",
      "Epoch 6/30\n",
      "129/129 [==============================] - 62s 484ms/step - loss: 1.0273 - acc: 0.5933 - val_loss: 1.0622 - val_acc: 0.6000\n",
      "Epoch 7/30\n",
      "129/129 [==============================] - 62s 481ms/step - loss: 1.0124 - acc: 0.6038 - val_loss: 0.9903 - val_acc: 0.6372\n",
      "Epoch 8/30\n",
      "129/129 [==============================] - 60s 462ms/step - loss: 1.0014 - acc: 0.5941 - val_loss: 0.9783 - val_acc: 0.6500\n",
      "Epoch 9/30\n",
      "129/129 [==============================] - 57s 446ms/step - loss: 0.9607 - acc: 0.6163 - val_loss: 0.9232 - val_acc: 0.6547\n",
      "Epoch 10/30\n",
      "129/129 [==============================] - 59s 460ms/step - loss: 0.9410 - acc: 0.6354 - val_loss: 0.9158 - val_acc: 0.6628\n",
      "Epoch 11/30\n",
      "129/129 [==============================] - 63s 490ms/step - loss: 0.9269 - acc: 0.6217 - val_loss: 0.9263 - val_acc: 0.6535\n",
      "Epoch 12/30\n",
      "129/129 [==============================] - 60s 462ms/step - loss: 0.8834 - acc: 0.6517 - val_loss: 0.9140 - val_acc: 0.6663\n",
      "Epoch 13/30\n",
      "129/129 [==============================] - 57s 438ms/step - loss: 0.8795 - acc: 0.6560 - val_loss: 0.9156 - val_acc: 0.6465\n",
      "Epoch 14/30\n",
      "129/129 [==============================] - 60s 462ms/step - loss: 0.8677 - acc: 0.6560 - val_loss: 0.9377 - val_acc: 0.6791\n",
      "Epoch 15/30\n",
      "129/129 [==============================] - 58s 453ms/step - loss: 0.8543 - acc: 0.6740 - val_loss: 0.9976 - val_acc: 0.6547\n",
      "Epoch 16/30\n",
      "129/129 [==============================] - 57s 444ms/step - loss: 0.8381 - acc: 0.6833 - val_loss: 0.8383 - val_acc: 0.6953\n",
      "Epoch 17/30\n",
      "129/129 [==============================] - 57s 443ms/step - loss: 0.8244 - acc: 0.6814 - val_loss: 0.8985 - val_acc: 0.6605\n",
      "Epoch 18/30\n",
      "129/129 [==============================] - 57s 442ms/step - loss: 0.8251 - acc: 0.6802 - val_loss: 0.8962 - val_acc: 0.6895\n",
      "Epoch 19/30\n",
      "129/129 [==============================] - 57s 442ms/step - loss: 0.8026 - acc: 0.6786 - val_loss: 1.0492 - val_acc: 0.6465\n",
      "Epoch 20/30\n",
      "129/129 [==============================] - 58s 453ms/step - loss: 0.8037 - acc: 0.6864 - val_loss: 0.8413 - val_acc: 0.6965\n",
      "Epoch 21/30\n",
      "129/129 [==============================] - 58s 448ms/step - loss: 0.7912 - acc: 0.6926 - val_loss: 0.8708 - val_acc: 0.6895\n",
      "Epoch 22/30\n",
      "129/129 [==============================] - 57s 442ms/step - loss: 0.7924 - acc: 0.6919 - val_loss: 0.8322 - val_acc: 0.7035\n",
      "Epoch 23/30\n",
      "129/129 [==============================] - 58s 449ms/step - loss: 0.7803 - acc: 0.6922 - val_loss: 0.8155 - val_acc: 0.7012\n",
      "Epoch 24/30\n",
      "129/129 [==============================] - 59s 454ms/step - loss: 0.7598 - acc: 0.7016 - val_loss: 0.8579 - val_acc: 0.7000\n",
      "Epoch 25/30\n",
      "129/129 [==============================] - 58s 447ms/step - loss: 0.7627 - acc: 0.7132 - val_loss: 0.8019 - val_acc: 0.7151\n",
      "Epoch 26/30\n",
      "129/129 [==============================] - 57s 442ms/step - loss: 0.7359 - acc: 0.7106 - val_loss: 0.8055 - val_acc: 0.7058\n",
      "Epoch 27/30\n",
      "129/129 [==============================] - 56s 438ms/step - loss: 0.7495 - acc: 0.7156 - val_loss: 0.7847 - val_acc: 0.7186\n",
      "Epoch 28/30\n",
      "129/129 [==============================] - 60s 466ms/step - loss: 0.7334 - acc: 0.7129 - val_loss: 0.7860 - val_acc: 0.7163\n",
      "Epoch 29/30\n",
      "129/129 [==============================] - 58s 451ms/step - loss: 0.7264 - acc: 0.7234 - val_loss: 0.8282 - val_acc: 0.7163\n",
      "Epoch 30/30\n",
      "129/129 [==============================] - 57s 446ms/step - loss: 0.7173 - acc: 0.7117 - val_loss: 0.8545 - val_acc: 0.7116\n"
     ]
    }
   ],
   "source": [
    "#change steps epochs or validation steps?\n",
    "\n",
    "#129 and 43? close enough i guess...\n",
    "\n",
    "history2 = model2.fit_generator(\n",
    "      train_generator,\n",
    "      steps_per_epoch=129,\n",
    "      epochs=30,\n",
    "      validation_data=validation_generator,\n",
    "      validation_steps=43)"
   ]
  },
  {
   "cell_type": "markdown",
   "metadata": {
    "id": "zhFbZXzOpnTB"
   },
   "source": [
    "### Analyzing the fitting performance over epochs"
   ]
  },
  {
   "cell_type": "markdown",
   "metadata": {
    "id": "kSKc1DRtpnTC"
   },
   "source": [
    "Show the training accuracy along with the epochs"
   ]
  },
  {
   "cell_type": "code",
   "execution_count": 107,
   "metadata": {
    "id": "jHgR4jwDpnTE",
    "outputId": "2e70bc14-6d85-467f-88da-c56b4d4b8a08"
   },
   "outputs": [
    {
     "data": {
      "image/png": "[encoded data removed]",
      "text/plain": [
       "<Figure size 432x288 with 1 Axes>"
      ]
     },
     "metadata": {
      "needs_background": "light"
     },
     "output_type": "display_data"
    },
    {
     "data": {
      "image/png": "[encoded data removed]",
      "text/plain": [
       "<Figure size 432x288 with 1 Axes>"
      ]
     },
     "metadata": {
      "needs_background": "light"
     },
     "output_type": "display_data"
    }
   ],
   "source": [
    "# Write your code here\n",
    "model2.save('flowers_small_2.h5')\n",
    "\n",
    "acc = history2.history['acc']\n",
    "val_acc = history2.history['val_acc']\n",
    "loss = history2.history['loss']\n",
    "val_loss = history2.history['val_loss']\n",
    "\n",
    "epochs = range(len(acc))\n",
    "\n",
    "plt.plot(epochs, acc, 'bo', label='Training acc')\n",
    "plt.plot(epochs, val_acc, 'b', label='Validation acc')\n",
    "plt.title('Training and validation accuracy')\n",
    "plt.legend()\n",
    "\n",
    "plt.figure()\n",
    "\n",
    "plt.plot(epochs, loss, 'bo', label='Training loss')\n",
    "plt.plot(epochs, val_loss, 'b', label='Validation loss')\n",
    "plt.title('Training and validation loss')\n",
    "plt.legend()\n",
    "\n",
    "plt.show()"
   ]
  },
  {
   "cell_type": "markdown",
   "metadata": {
    "id": "h7ff6wrFpnTL"
   },
   "source": [
    "### Predicting the test set"
   ]
  },
  {
   "cell_type": "markdown",
   "metadata": {
    "id": "eDFfip3dpnTM"
   },
   "source": [
    "Finally, run a model evaluation and store the loss and accuracy in the `test_loss_2` and `test_acc_2` variables."
   ]
  },
  {
   "cell_type": "code",
   "execution_count": 130,
   "metadata": {
    "id": "lSR0OPdLpnTN",
    "outputId": "7ee61ddb-d1cb-4771-ce41-c8d3805dfa3a"
   },
   "outputs": [
    {
     "name": "stdout",
     "output_type": "stream",
     "text": [
      "test acc: 0.7121387124061584\n",
      "test loss: 0.8095804452896118\n"
     ]
    }
   ],
   "source": [
    "# Write your code here\n",
    "test_loss2, test_acc2 = model2.evaluate_generator(test_generator,workers=1)\n",
    "print('test acc:', test_acc2)\n",
    "print('test loss:', test_loss2)\n"
   ]
  },
  {
   "cell_type": "code",
   "execution_count": 127,
   "metadata": {},
   "outputs": [],
   "source": [
    "predictions = model2.predict_generator(test_generator,workers=1)\n",
    "prediction_classes = np.argmax(predictions, axis=1)\n",
    "test_classes = test_generator.classes"
   ]
  },
  {
   "cell_type": "code",
   "execution_count": 128,
   "metadata": {},
   "outputs": [
    {
     "name": "stdout",
     "output_type": "stream",
     "text": [
      "              precision    recall  f1-score   support\n",
      "\n",
      "           0       0.94      0.55      0.69       175\n",
      "           1       0.67      0.85      0.75       215\n",
      "           2       0.62      0.67      0.64       148\n",
      "           3       0.76      0.69      0.72       135\n",
      "           4       0.70      0.76      0.73       192\n",
      "\n",
      "    accuracy                           0.71       865\n",
      "   macro avg       0.74      0.70      0.71       865\n",
      "weighted avg       0.74      0.71      0.71       865\n",
      "\n"
     ]
    }
   ],
   "source": [
    "report = classification_report(test_classes, prediction_classes)\n",
    "print(report)"
   ]
  },
  {
   "cell_type": "code",
   "execution_count": 129,
   "metadata": {},
   "outputs": [
    {
     "name": "stdout",
     "output_type": "stream",
     "text": [
      "Confusion matrix:\n",
      "[[ 96  34  23   8  14]\n",
      " [  4 182   3  17   9]\n",
      " [  0  25  99   1  23]\n",
      " [  2  18   4  93  18]\n",
      " [  0  11  31   4 146]]\n"
     ]
    }
   ],
   "source": [
    "print(\"Confusion matrix:\\n%s\" % confusion_matrix(test_classes, prediction_classes))"
   ]
  },
  {
   "cell_type": "markdown",
   "metadata": {
    "id": "YrsKNe8SpnTR"
   },
   "source": [
    "## Using a Pretrained Convolutional Base"
   ]
  },
  {
   "cell_type": "markdown",
   "metadata": {
    "id": "zrEtAOzApnTS"
   },
   "source": [
    "### Architecture"
   ]
  },
  {
   "cell_type": "markdown",
   "metadata": {
    "id": "zo7az2cNpnTS"
   },
   "source": [
    "Some research teams have trained convolutional neural networks on much larger datasets. We have seen during the lecture that the networks can model conceptual patterns as they go through the layers. This was identified by Le Cun in his first experiments [http://yann.lecun.com/exdb/lenet/](http://yann.lecun.com/exdb/lenet/). In this last part, you will train classifiers on top of a pretrained convolutional base.\n",
    "1. Train your network and report the training and validation losses and accuracies.\n",
    "2. Apply your network to the test set and report the accuracy as well as the confusion matrix you obtained."
   ]
  },
  {
   "cell_type": "code",
   "execution_count": 11,
   "metadata": {
    "id": "kdXAqs-dpnTU"
   },
   "outputs": [],
   "source": [
    "from keras.applications import VGG16, InceptionV3"
   ]
  },
  {
   "cell_type": "code",
   "execution_count": 155,
   "metadata": {
    "id": "fXZkOPyrpnTY",
    "outputId": "b1d96be1-939b-41de-fcc3-b30f0e7d89ea"
   },
   "outputs": [
    {
     "name": "stdout",
     "output_type": "stream",
     "text": [
      "Model: \"inception_v3\"\n",
      "__________________________________________________________________________________________________\n",
      "Layer (type)                    Output Shape         Param #     Connected to                     \n",
      "==================================================================================================\n",
      "input_3 (InputLayer)            [(None, 150, 150, 3) 0                                            \n",
      "__________________________________________________________________________________________________\n",
      "conv2d_224 (Conv2D)             (None, 74, 74, 32)   864         input_3[0][0]                    \n",
      "__________________________________________________________________________________________________\n",
      "batch_normalization_188 (BatchN (None, 74, 74, 32)   96          conv2d_224[0][0]                 \n",
      "__________________________________________________________________________________________________\n",
      "activation_188 (Activation)     (None, 74, 74, 32)   0           batch_normalization_188[0][0]    \n",
      "__________________________________________________________________________________________________\n",
      "conv2d_225 (Conv2D)             (None, 72, 72, 32)   9216        activation_188[0][0]             \n",
      "__________________________________________________________________________________________________\n",
      "batch_normalization_189 (BatchN (None, 72, 72, 32)   96          conv2d_225[0][0]                 \n",
      "__________________________________________________________________________________________________\n",
      "activation_189 (Activation)     (None, 72, 72, 32)   0           batch_normalization_189[0][0]    \n",
      "__________________________________________________________________________________________________\n",
      "conv2d_226 (Conv2D)             (None, 72, 72, 64)   18432       activation_189[0][0]             \n",
      "__________________________________________________________________________________________________\n",
      "batch_normalization_190 (BatchN (None, 72, 72, 64)   192         conv2d_226[0][0]                 \n",
      "__________________________________________________________________________________________________\n",
      "activation_190 (Activation)     (None, 72, 72, 64)   0           batch_normalization_190[0][0]    \n",
      "__________________________________________________________________________________________________\n",
      "max_pooling2d_44 (MaxPooling2D) (None, 35, 35, 64)   0           activation_190[0][0]             \n",
      "__________________________________________________________________________________________________\n",
      "conv2d_227 (Conv2D)             (None, 35, 35, 80)   5120        max_pooling2d_44[0][0]           \n",
      "__________________________________________________________________________________________________\n",
      "batch_normalization_191 (BatchN (None, 35, 35, 80)   240         conv2d_227[0][0]                 \n",
      "__________________________________________________________________________________________________\n",
      "activation_191 (Activation)     (None, 35, 35, 80)   0           batch_normalization_191[0][0]    \n",
      "__________________________________________________________________________________________________\n",
      "conv2d_228 (Conv2D)             (None, 33, 33, 192)  138240      activation_191[0][0]             \n",
      "__________________________________________________________________________________________________\n",
      "batch_normalization_192 (BatchN (None, 33, 33, 192)  576         conv2d_228[0][0]                 \n",
      "__________________________________________________________________________________________________\n",
      "activation_192 (Activation)     (None, 33, 33, 192)  0           batch_normalization_192[0][0]    \n",
      "__________________________________________________________________________________________________\n",
      "max_pooling2d_45 (MaxPooling2D) (None, 16, 16, 192)  0           activation_192[0][0]             \n",
      "__________________________________________________________________________________________________\n",
      "conv2d_232 (Conv2D)             (None, 16, 16, 64)   12288       max_pooling2d_45[0][0]           \n",
      "__________________________________________________________________________________________________\n",
      "batch_normalization_196 (BatchN (None, 16, 16, 64)   192         conv2d_232[0][0]                 \n",
      "__________________________________________________________________________________________________\n",
      "activation_196 (Activation)     (None, 16, 16, 64)   0           batch_normalization_196[0][0]    \n",
      "__________________________________________________________________________________________________\n",
      "conv2d_230 (Conv2D)             (None, 16, 16, 48)   9216        max_pooling2d_45[0][0]           \n",
      "__________________________________________________________________________________________________\n",
      "conv2d_233 (Conv2D)             (None, 16, 16, 96)   55296       activation_196[0][0]             \n",
      "__________________________________________________________________________________________________\n",
      "batch_normalization_194 (BatchN (None, 16, 16, 48)   144         conv2d_230[0][0]                 \n",
      "__________________________________________________________________________________________________\n",
      "batch_normalization_197 (BatchN (None, 16, 16, 96)   288         conv2d_233[0][0]                 \n",
      "__________________________________________________________________________________________________\n",
      "activation_194 (Activation)     (None, 16, 16, 48)   0           batch_normalization_194[0][0]    \n",
      "__________________________________________________________________________________________________\n",
      "activation_197 (Activation)     (None, 16, 16, 96)   0           batch_normalization_197[0][0]    \n",
      "__________________________________________________________________________________________________\n",
      "average_pooling2d_18 (AveragePo (None, 16, 16, 192)  0           max_pooling2d_45[0][0]           \n",
      "__________________________________________________________________________________________________\n",
      "conv2d_229 (Conv2D)             (None, 16, 16, 64)   12288       max_pooling2d_45[0][0]           \n",
      "__________________________________________________________________________________________________\n",
      "conv2d_231 (Conv2D)             (None, 16, 16, 64)   76800       activation_194[0][0]             \n",
      "__________________________________________________________________________________________________\n",
      "conv2d_234 (Conv2D)             (None, 16, 16, 96)   82944       activation_197[0][0]             \n",
      "__________________________________________________________________________________________________\n",
      "conv2d_235 (Conv2D)             (None, 16, 16, 32)   6144        average_pooling2d_18[0][0]       \n",
      "__________________________________________________________________________________________________\n",
      "batch_normalization_193 (BatchN (None, 16, 16, 64)   192         conv2d_229[0][0]                 \n",
      "__________________________________________________________________________________________________\n",
      "batch_normalization_195 (BatchN (None, 16, 16, 64)   192         conv2d_231[0][0]                 \n",
      "__________________________________________________________________________________________________\n",
      "batch_normalization_198 (BatchN (None, 16, 16, 96)   288         conv2d_234[0][0]                 \n",
      "__________________________________________________________________________________________________\n",
      "batch_normalization_199 (BatchN (None, 16, 16, 32)   96          conv2d_235[0][0]                 \n",
      "__________________________________________________________________________________________________\n",
      "activation_193 (Activation)     (None, 16, 16, 64)   0           batch_normalization_193[0][0]    \n",
      "__________________________________________________________________________________________________\n",
      "activation_195 (Activation)     (None, 16, 16, 64)   0           batch_normalization_195[0][0]    \n",
      "__________________________________________________________________________________________________\n",
      "activation_198 (Activation)     (None, 16, 16, 96)   0           batch_normalization_198[0][0]    \n",
      "__________________________________________________________________________________________________\n",
      "activation_199 (Activation)     (None, 16, 16, 32)   0           batch_normalization_199[0][0]    \n",
      "__________________________________________________________________________________________________\n",
      "mixed0 (Concatenate)            (None, 16, 16, 256)  0           activation_193[0][0]             \n",
      "                                                                 activation_195[0][0]             \n",
      "                                                                 activation_198[0][0]             \n",
      "                                                                 activation_199[0][0]             \n",
      "__________________________________________________________________________________________________\n",
      "conv2d_239 (Conv2D)             (None, 16, 16, 64)   16384       mixed0[0][0]                     \n",
      "__________________________________________________________________________________________________\n",
      "batch_normalization_203 (BatchN (None, 16, 16, 64)   192         conv2d_239[0][0]                 \n",
      "__________________________________________________________________________________________________\n",
      "activation_203 (Activation)     (None, 16, 16, 64)   0           batch_normalization_203[0][0]    \n",
      "__________________________________________________________________________________________________\n",
      "conv2d_237 (Conv2D)             (None, 16, 16, 48)   12288       mixed0[0][0]                     \n",
      "__________________________________________________________________________________________________\n",
      "conv2d_240 (Conv2D)             (None, 16, 16, 96)   55296       activation_203[0][0]             \n",
      "__________________________________________________________________________________________________\n",
      "batch_normalization_201 (BatchN (None, 16, 16, 48)   144         conv2d_237[0][0]                 \n",
      "__________________________________________________________________________________________________\n",
      "batch_normalization_204 (BatchN (None, 16, 16, 96)   288         conv2d_240[0][0]                 \n",
      "__________________________________________________________________________________________________\n",
      "activation_201 (Activation)     (None, 16, 16, 48)   0           batch_normalization_201[0][0]    \n",
      "__________________________________________________________________________________________________\n",
      "activation_204 (Activation)     (None, 16, 16, 96)   0           batch_normalization_204[0][0]    \n",
      "__________________________________________________________________________________________________\n",
      "average_pooling2d_19 (AveragePo (None, 16, 16, 256)  0           mixed0[0][0]                     \n",
      "__________________________________________________________________________________________________\n",
      "conv2d_236 (Conv2D)             (None, 16, 16, 64)   16384       mixed0[0][0]                     \n",
      "__________________________________________________________________________________________________\n",
      "conv2d_238 (Conv2D)             (None, 16, 16, 64)   76800       activation_201[0][0]             \n",
      "__________________________________________________________________________________________________\n",
      "conv2d_241 (Conv2D)             (None, 16, 16, 96)   82944       activation_204[0][0]             \n",
      "__________________________________________________________________________________________________\n",
      "conv2d_242 (Conv2D)             (None, 16, 16, 64)   16384       average_pooling2d_19[0][0]       \n",
      "__________________________________________________________________________________________________\n",
      "batch_normalization_200 (BatchN (None, 16, 16, 64)   192         conv2d_236[0][0]                 \n",
      "__________________________________________________________________________________________________\n",
      "batch_normalization_202 (BatchN (None, 16, 16, 64)   192         conv2d_238[0][0]                 \n",
      "__________________________________________________________________________________________________\n",
      "batch_normalization_205 (BatchN (None, 16, 16, 96)   288         conv2d_241[0][0]                 \n",
      "__________________________________________________________________________________________________\n",
      "batch_normalization_206 (BatchN (None, 16, 16, 64)   192         conv2d_242[0][0]                 \n",
      "__________________________________________________________________________________________________\n",
      "activation_200 (Activation)     (None, 16, 16, 64)   0           batch_normalization_200[0][0]    \n",
      "__________________________________________________________________________________________________\n",
      "activation_202 (Activation)     (None, 16, 16, 64)   0           batch_normalization_202[0][0]    \n",
      "__________________________________________________________________________________________________\n",
      "activation_205 (Activation)     (None, 16, 16, 96)   0           batch_normalization_205[0][0]    \n",
      "__________________________________________________________________________________________________\n",
      "activation_206 (Activation)     (None, 16, 16, 64)   0           batch_normalization_206[0][0]    \n",
      "__________________________________________________________________________________________________\n",
      "mixed1 (Concatenate)            (None, 16, 16, 288)  0           activation_200[0][0]             \n",
      "                                                                 activation_202[0][0]             \n",
      "                                                                 activation_205[0][0]             \n",
      "                                                                 activation_206[0][0]             \n",
      "__________________________________________________________________________________________________\n",
      "conv2d_246 (Conv2D)             (None, 16, 16, 64)   18432       mixed1[0][0]                     \n",
      "__________________________________________________________________________________________________\n",
      "batch_normalization_210 (BatchN (None, 16, 16, 64)   192         conv2d_246[0][0]                 \n",
      "__________________________________________________________________________________________________\n",
      "activation_210 (Activation)     (None, 16, 16, 64)   0           batch_normalization_210[0][0]    \n",
      "__________________________________________________________________________________________________\n",
      "conv2d_244 (Conv2D)             (None, 16, 16, 48)   13824       mixed1[0][0]                     \n",
      "__________________________________________________________________________________________________\n",
      "conv2d_247 (Conv2D)             (None, 16, 16, 96)   55296       activation_210[0][0]             \n",
      "__________________________________________________________________________________________________\n",
      "batch_normalization_208 (BatchN (None, 16, 16, 48)   144         conv2d_244[0][0]                 \n",
      "__________________________________________________________________________________________________\n",
      "batch_normalization_211 (BatchN (None, 16, 16, 96)   288         conv2d_247[0][0]                 \n",
      "__________________________________________________________________________________________________\n",
      "activation_208 (Activation)     (None, 16, 16, 48)   0           batch_normalization_208[0][0]    \n",
      "__________________________________________________________________________________________________\n",
      "activation_211 (Activation)     (None, 16, 16, 96)   0           batch_normalization_211[0][0]    \n",
      "__________________________________________________________________________________________________\n",
      "average_pooling2d_20 (AveragePo (None, 16, 16, 288)  0           mixed1[0][0]                     \n",
      "__________________________________________________________________________________________________\n",
      "conv2d_243 (Conv2D)             (None, 16, 16, 64)   18432       mixed1[0][0]                     \n",
      "__________________________________________________________________________________________________\n",
      "conv2d_245 (Conv2D)             (None, 16, 16, 64)   76800       activation_208[0][0]             \n",
      "__________________________________________________________________________________________________\n",
      "conv2d_248 (Conv2D)             (None, 16, 16, 96)   82944       activation_211[0][0]             \n",
      "__________________________________________________________________________________________________\n",
      "conv2d_249 (Conv2D)             (None, 16, 16, 64)   18432       average_pooling2d_20[0][0]       \n",
      "__________________________________________________________________________________________________\n",
      "batch_normalization_207 (BatchN (None, 16, 16, 64)   192         conv2d_243[0][0]                 \n",
      "__________________________________________________________________________________________________\n",
      "batch_normalization_209 (BatchN (None, 16, 16, 64)   192         conv2d_245[0][0]                 \n",
      "__________________________________________________________________________________________________\n",
      "batch_normalization_212 (BatchN (None, 16, 16, 96)   288         conv2d_248[0][0]                 \n",
      "__________________________________________________________________________________________________\n",
      "batch_normalization_213 (BatchN (None, 16, 16, 64)   192         conv2d_249[0][0]                 \n",
      "__________________________________________________________________________________________________\n",
      "activation_207 (Activation)     (None, 16, 16, 64)   0           batch_normalization_207[0][0]    \n",
      "__________________________________________________________________________________________________\n",
      "activation_209 (Activation)     (None, 16, 16, 64)   0           batch_normalization_209[0][0]    \n",
      "__________________________________________________________________________________________________\n",
      "activation_212 (Activation)     (None, 16, 16, 96)   0           batch_normalization_212[0][0]    \n",
      "__________________________________________________________________________________________________\n",
      "activation_213 (Activation)     (None, 16, 16, 64)   0           batch_normalization_213[0][0]    \n",
      "__________________________________________________________________________________________________\n",
      "mixed2 (Concatenate)            (None, 16, 16, 288)  0           activation_207[0][0]             \n",
      "                                                                 activation_209[0][0]             \n",
      "                                                                 activation_212[0][0]             \n",
      "                                                                 activation_213[0][0]             \n",
      "__________________________________________________________________________________________________\n",
      "conv2d_251 (Conv2D)             (None, 16, 16, 64)   18432       mixed2[0][0]                     \n",
      "__________________________________________________________________________________________________\n",
      "batch_normalization_215 (BatchN (None, 16, 16, 64)   192         conv2d_251[0][0]                 \n",
      "__________________________________________________________________________________________________\n",
      "activation_215 (Activation)     (None, 16, 16, 64)   0           batch_normalization_215[0][0]    \n",
      "__________________________________________________________________________________________________\n",
      "conv2d_252 (Conv2D)             (None, 16, 16, 96)   55296       activation_215[0][0]             \n",
      "__________________________________________________________________________________________________\n",
      "batch_normalization_216 (BatchN (None, 16, 16, 96)   288         conv2d_252[0][0]                 \n",
      "__________________________________________________________________________________________________\n",
      "activation_216 (Activation)     (None, 16, 16, 96)   0           batch_normalization_216[0][0]    \n",
      "__________________________________________________________________________________________________\n",
      "conv2d_250 (Conv2D)             (None, 7, 7, 384)    995328      mixed2[0][0]                     \n",
      "__________________________________________________________________________________________________\n",
      "conv2d_253 (Conv2D)             (None, 7, 7, 96)     82944       activation_216[0][0]             \n",
      "__________________________________________________________________________________________________\n",
      "batch_normalization_214 (BatchN (None, 7, 7, 384)    1152        conv2d_250[0][0]                 \n",
      "__________________________________________________________________________________________________\n",
      "batch_normalization_217 (BatchN (None, 7, 7, 96)     288         conv2d_253[0][0]                 \n",
      "__________________________________________________________________________________________________\n",
      "activation_214 (Activation)     (None, 7, 7, 384)    0           batch_normalization_214[0][0]    \n",
      "__________________________________________________________________________________________________\n",
      "activation_217 (Activation)     (None, 7, 7, 96)     0           batch_normalization_217[0][0]    \n",
      "__________________________________________________________________________________________________\n",
      "max_pooling2d_46 (MaxPooling2D) (None, 7, 7, 288)    0           mixed2[0][0]                     \n",
      "__________________________________________________________________________________________________\n",
      "mixed3 (Concatenate)            (None, 7, 7, 768)    0           activation_214[0][0]             \n",
      "                                                                 activation_217[0][0]             \n",
      "                                                                 max_pooling2d_46[0][0]           \n",
      "__________________________________________________________________________________________________\n",
      "conv2d_258 (Conv2D)             (None, 7, 7, 128)    98304       mixed3[0][0]                     \n",
      "__________________________________________________________________________________________________\n",
      "batch_normalization_222 (BatchN (None, 7, 7, 128)    384         conv2d_258[0][0]                 \n",
      "__________________________________________________________________________________________________\n",
      "activation_222 (Activation)     (None, 7, 7, 128)    0           batch_normalization_222[0][0]    \n",
      "__________________________________________________________________________________________________\n",
      "conv2d_259 (Conv2D)             (None, 7, 7, 128)    114688      activation_222[0][0]             \n",
      "__________________________________________________________________________________________________\n",
      "batch_normalization_223 (BatchN (None, 7, 7, 128)    384         conv2d_259[0][0]                 \n",
      "__________________________________________________________________________________________________\n",
      "activation_223 (Activation)     (None, 7, 7, 128)    0           batch_normalization_223[0][0]    \n",
      "__________________________________________________________________________________________________\n",
      "conv2d_255 (Conv2D)             (None, 7, 7, 128)    98304       mixed3[0][0]                     \n",
      "__________________________________________________________________________________________________\n",
      "conv2d_260 (Conv2D)             (None, 7, 7, 128)    114688      activation_223[0][0]             \n",
      "__________________________________________________________________________________________________\n",
      "batch_normalization_219 (BatchN (None, 7, 7, 128)    384         conv2d_255[0][0]                 \n",
      "__________________________________________________________________________________________________\n",
      "batch_normalization_224 (BatchN (None, 7, 7, 128)    384         conv2d_260[0][0]                 \n",
      "__________________________________________________________________________________________________\n",
      "activation_219 (Activation)     (None, 7, 7, 128)    0           batch_normalization_219[0][0]    \n",
      "__________________________________________________________________________________________________\n",
      "activation_224 (Activation)     (None, 7, 7, 128)    0           batch_normalization_224[0][0]    \n",
      "__________________________________________________________________________________________________\n",
      "conv2d_256 (Conv2D)             (None, 7, 7, 128)    114688      activation_219[0][0]             \n",
      "__________________________________________________________________________________________________\n",
      "conv2d_261 (Conv2D)             (None, 7, 7, 128)    114688      activation_224[0][0]             \n",
      "__________________________________________________________________________________________________\n",
      "batch_normalization_220 (BatchN (None, 7, 7, 128)    384         conv2d_256[0][0]                 \n",
      "__________________________________________________________________________________________________\n",
      "batch_normalization_225 (BatchN (None, 7, 7, 128)    384         conv2d_261[0][0]                 \n",
      "__________________________________________________________________________________________________\n",
      "activation_220 (Activation)     (None, 7, 7, 128)    0           batch_normalization_220[0][0]    \n",
      "__________________________________________________________________________________________________\n",
      "activation_225 (Activation)     (None, 7, 7, 128)    0           batch_normalization_225[0][0]    \n",
      "__________________________________________________________________________________________________\n",
      "average_pooling2d_21 (AveragePo (None, 7, 7, 768)    0           mixed3[0][0]                     \n",
      "__________________________________________________________________________________________________\n",
      "conv2d_254 (Conv2D)             (None, 7, 7, 192)    147456      mixed3[0][0]                     \n",
      "__________________________________________________________________________________________________\n",
      "conv2d_257 (Conv2D)             (None, 7, 7, 192)    172032      activation_220[0][0]             \n",
      "__________________________________________________________________________________________________\n",
      "conv2d_262 (Conv2D)             (None, 7, 7, 192)    172032      activation_225[0][0]             \n",
      "__________________________________________________________________________________________________\n",
      "conv2d_263 (Conv2D)             (None, 7, 7, 192)    147456      average_pooling2d_21[0][0]       \n",
      "__________________________________________________________________________________________________\n",
      "batch_normalization_218 (BatchN (None, 7, 7, 192)    576         conv2d_254[0][0]                 \n",
      "__________________________________________________________________________________________________\n",
      "batch_normalization_221 (BatchN (None, 7, 7, 192)    576         conv2d_257[0][0]                 \n",
      "__________________________________________________________________________________________________\n",
      "batch_normalization_226 (BatchN (None, 7, 7, 192)    576         conv2d_262[0][0]                 \n",
      "__________________________________________________________________________________________________\n",
      "batch_normalization_227 (BatchN (None, 7, 7, 192)    576         conv2d_263[0][0]                 \n",
      "__________________________________________________________________________________________________\n",
      "activation_218 (Activation)     (None, 7, 7, 192)    0           batch_normalization_218[0][0]    \n",
      "__________________________________________________________________________________________________\n",
      "activation_221 (Activation)     (None, 7, 7, 192)    0           batch_normalization_221[0][0]    \n",
      "__________________________________________________________________________________________________\n",
      "activation_226 (Activation)     (None, 7, 7, 192)    0           batch_normalization_226[0][0]    \n",
      "__________________________________________________________________________________________________\n",
      "activation_227 (Activation)     (None, 7, 7, 192)    0           batch_normalization_227[0][0]    \n",
      "__________________________________________________________________________________________________\n",
      "mixed4 (Concatenate)            (None, 7, 7, 768)    0           activation_218[0][0]             \n",
      "                                                                 activation_221[0][0]             \n",
      "                                                                 activation_226[0][0]             \n",
      "                                                                 activation_227[0][0]             \n",
      "__________________________________________________________________________________________________\n",
      "conv2d_268 (Conv2D)             (None, 7, 7, 160)    122880      mixed4[0][0]                     \n",
      "__________________________________________________________________________________________________\n",
      "batch_normalization_232 (BatchN (None, 7, 7, 160)    480         conv2d_268[0][0]                 \n",
      "__________________________________________________________________________________________________\n",
      "activation_232 (Activation)     (None, 7, 7, 160)    0           batch_normalization_232[0][0]    \n",
      "__________________________________________________________________________________________________\n",
      "conv2d_269 (Conv2D)             (None, 7, 7, 160)    179200      activation_232[0][0]             \n",
      "__________________________________________________________________________________________________\n",
      "batch_normalization_233 (BatchN (None, 7, 7, 160)    480         conv2d_269[0][0]                 \n",
      "__________________________________________________________________________________________________\n",
      "activation_233 (Activation)     (None, 7, 7, 160)    0           batch_normalization_233[0][0]    \n",
      "__________________________________________________________________________________________________\n",
      "conv2d_265 (Conv2D)             (None, 7, 7, 160)    122880      mixed4[0][0]                     \n",
      "__________________________________________________________________________________________________\n",
      "conv2d_270 (Conv2D)             (None, 7, 7, 160)    179200      activation_233[0][0]             \n",
      "__________________________________________________________________________________________________\n",
      "batch_normalization_229 (BatchN (None, 7, 7, 160)    480         conv2d_265[0][0]                 \n",
      "__________________________________________________________________________________________________\n",
      "batch_normalization_234 (BatchN (None, 7, 7, 160)    480         conv2d_270[0][0]                 \n",
      "__________________________________________________________________________________________________\n",
      "activation_229 (Activation)     (None, 7, 7, 160)    0           batch_normalization_229[0][0]    \n",
      "__________________________________________________________________________________________________\n",
      "activation_234 (Activation)     (None, 7, 7, 160)    0           batch_normalization_234[0][0]    \n",
      "__________________________________________________________________________________________________\n",
      "conv2d_266 (Conv2D)             (None, 7, 7, 160)    179200      activation_229[0][0]             \n",
      "__________________________________________________________________________________________________\n",
      "conv2d_271 (Conv2D)             (None, 7, 7, 160)    179200      activation_234[0][0]             \n",
      "__________________________________________________________________________________________________\n",
      "batch_normalization_230 (BatchN (None, 7, 7, 160)    480         conv2d_266[0][0]                 \n",
      "__________________________________________________________________________________________________\n",
      "batch_normalization_235 (BatchN (None, 7, 7, 160)    480         conv2d_271[0][0]                 \n",
      "__________________________________________________________________________________________________\n",
      "activation_230 (Activation)     (None, 7, 7, 160)    0           batch_normalization_230[0][0]    \n",
      "__________________________________________________________________________________________________\n",
      "activation_235 (Activation)     (None, 7, 7, 160)    0           batch_normalization_235[0][0]    \n",
      "__________________________________________________________________________________________________\n",
      "average_pooling2d_22 (AveragePo (None, 7, 7, 768)    0           mixed4[0][0]                     \n",
      "__________________________________________________________________________________________________\n",
      "conv2d_264 (Conv2D)             (None, 7, 7, 192)    147456      mixed4[0][0]                     \n",
      "__________________________________________________________________________________________________\n",
      "conv2d_267 (Conv2D)             (None, 7, 7, 192)    215040      activation_230[0][0]             \n",
      "__________________________________________________________________________________________________\n",
      "conv2d_272 (Conv2D)             (None, 7, 7, 192)    215040      activation_235[0][0]             \n",
      "__________________________________________________________________________________________________\n",
      "conv2d_273 (Conv2D)             (None, 7, 7, 192)    147456      average_pooling2d_22[0][0]       \n",
      "__________________________________________________________________________________________________\n",
      "batch_normalization_228 (BatchN (None, 7, 7, 192)    576         conv2d_264[0][0]                 \n",
      "__________________________________________________________________________________________________\n",
      "batch_normalization_231 (BatchN (None, 7, 7, 192)    576         conv2d_267[0][0]                 \n",
      "__________________________________________________________________________________________________\n",
      "batch_normalization_236 (BatchN (None, 7, 7, 192)    576         conv2d_272[0][0]                 \n",
      "__________________________________________________________________________________________________\n",
      "batch_normalization_237 (BatchN (None, 7, 7, 192)    576         conv2d_273[0][0]                 \n",
      "__________________________________________________________________________________________________\n",
      "activation_228 (Activation)     (None, 7, 7, 192)    0           batch_normalization_228[0][0]    \n",
      "__________________________________________________________________________________________________\n",
      "activation_231 (Activation)     (None, 7, 7, 192)    0           batch_normalization_231[0][0]    \n",
      "__________________________________________________________________________________________________\n",
      "activation_236 (Activation)     (None, 7, 7, 192)    0           batch_normalization_236[0][0]    \n",
      "__________________________________________________________________________________________________\n",
      "activation_237 (Activation)     (None, 7, 7, 192)    0           batch_normalization_237[0][0]    \n",
      "__________________________________________________________________________________________________\n",
      "mixed5 (Concatenate)            (None, 7, 7, 768)    0           activation_228[0][0]             \n",
      "                                                                 activation_231[0][0]             \n",
      "                                                                 activation_236[0][0]             \n",
      "                                                                 activation_237[0][0]             \n",
      "__________________________________________________________________________________________________\n",
      "conv2d_278 (Conv2D)             (None, 7, 7, 160)    122880      mixed5[0][0]                     \n",
      "__________________________________________________________________________________________________\n",
      "batch_normalization_242 (BatchN (None, 7, 7, 160)    480         conv2d_278[0][0]                 \n",
      "__________________________________________________________________________________________________\n",
      "activation_242 (Activation)     (None, 7, 7, 160)    0           batch_normalization_242[0][0]    \n",
      "__________________________________________________________________________________________________\n",
      "conv2d_279 (Conv2D)             (None, 7, 7, 160)    179200      activation_242[0][0]             \n",
      "__________________________________________________________________________________________________\n",
      "batch_normalization_243 (BatchN (None, 7, 7, 160)    480         conv2d_279[0][0]                 \n",
      "__________________________________________________________________________________________________\n",
      "activation_243 (Activation)     (None, 7, 7, 160)    0           batch_normalization_243[0][0]    \n",
      "__________________________________________________________________________________________________\n",
      "conv2d_275 (Conv2D)             (None, 7, 7, 160)    122880      mixed5[0][0]                     \n",
      "__________________________________________________________________________________________________\n",
      "conv2d_280 (Conv2D)             (None, 7, 7, 160)    179200      activation_243[0][0]             \n",
      "__________________________________________________________________________________________________\n",
      "batch_normalization_239 (BatchN (None, 7, 7, 160)    480         conv2d_275[0][0]                 \n",
      "__________________________________________________________________________________________________\n",
      "batch_normalization_244 (BatchN (None, 7, 7, 160)    480         conv2d_280[0][0]                 \n",
      "__________________________________________________________________________________________________\n",
      "activation_239 (Activation)     (None, 7, 7, 160)    0           batch_normalization_239[0][0]    \n",
      "__________________________________________________________________________________________________\n",
      "activation_244 (Activation)     (None, 7, 7, 160)    0           batch_normalization_244[0][0]    \n",
      "__________________________________________________________________________________________________\n",
      "conv2d_276 (Conv2D)             (None, 7, 7, 160)    179200      activation_239[0][0]             \n",
      "__________________________________________________________________________________________________\n",
      "conv2d_281 (Conv2D)             (None, 7, 7, 160)    179200      activation_244[0][0]             \n",
      "__________________________________________________________________________________________________\n",
      "batch_normalization_240 (BatchN (None, 7, 7, 160)    480         conv2d_276[0][0]                 \n",
      "__________________________________________________________________________________________________\n",
      "batch_normalization_245 (BatchN (None, 7, 7, 160)    480         conv2d_281[0][0]                 \n",
      "__________________________________________________________________________________________________\n",
      "activation_240 (Activation)     (None, 7, 7, 160)    0           batch_normalization_240[0][0]    \n",
      "__________________________________________________________________________________________________\n",
      "activation_245 (Activation)     (None, 7, 7, 160)    0           batch_normalization_245[0][0]    \n",
      "__________________________________________________________________________________________________\n",
      "average_pooling2d_23 (AveragePo (None, 7, 7, 768)    0           mixed5[0][0]                     \n",
      "__________________________________________________________________________________________________\n",
      "conv2d_274 (Conv2D)             (None, 7, 7, 192)    147456      mixed5[0][0]                     \n",
      "__________________________________________________________________________________________________\n",
      "conv2d_277 (Conv2D)             (None, 7, 7, 192)    215040      activation_240[0][0]             \n",
      "__________________________________________________________________________________________________\n",
      "conv2d_282 (Conv2D)             (None, 7, 7, 192)    215040      activation_245[0][0]             \n",
      "__________________________________________________________________________________________________\n",
      "conv2d_283 (Conv2D)             (None, 7, 7, 192)    147456      average_pooling2d_23[0][0]       \n",
      "__________________________________________________________________________________________________\n",
      "batch_normalization_238 (BatchN (None, 7, 7, 192)    576         conv2d_274[0][0]                 \n",
      "__________________________________________________________________________________________________\n",
      "batch_normalization_241 (BatchN (None, 7, 7, 192)    576         conv2d_277[0][0]                 \n",
      "__________________________________________________________________________________________________\n",
      "batch_normalization_246 (BatchN (None, 7, 7, 192)    576         conv2d_282[0][0]                 \n",
      "__________________________________________________________________________________________________\n",
      "batch_normalization_247 (BatchN (None, 7, 7, 192)    576         conv2d_283[0][0]                 \n",
      "__________________________________________________________________________________________________\n",
      "activation_238 (Activation)     (None, 7, 7, 192)    0           batch_normalization_238[0][0]    \n",
      "__________________________________________________________________________________________________\n",
      "activation_241 (Activation)     (None, 7, 7, 192)    0           batch_normalization_241[0][0]    \n",
      "__________________________________________________________________________________________________\n",
      "activation_246 (Activation)     (None, 7, 7, 192)    0           batch_normalization_246[0][0]    \n",
      "__________________________________________________________________________________________________\n",
      "activation_247 (Activation)     (None, 7, 7, 192)    0           batch_normalization_247[0][0]    \n",
      "__________________________________________________________________________________________________\n",
      "mixed6 (Concatenate)            (None, 7, 7, 768)    0           activation_238[0][0]             \n",
      "                                                                 activation_241[0][0]             \n",
      "                                                                 activation_246[0][0]             \n",
      "                                                                 activation_247[0][0]             \n",
      "__________________________________________________________________________________________________\n",
      "conv2d_288 (Conv2D)             (None, 7, 7, 192)    147456      mixed6[0][0]                     \n",
      "__________________________________________________________________________________________________\n",
      "batch_normalization_252 (BatchN (None, 7, 7, 192)    576         conv2d_288[0][0]                 \n",
      "__________________________________________________________________________________________________\n",
      "activation_252 (Activation)     (None, 7, 7, 192)    0           batch_normalization_252[0][0]    \n",
      "__________________________________________________________________________________________________\n",
      "conv2d_289 (Conv2D)             (None, 7, 7, 192)    258048      activation_252[0][0]             \n",
      "__________________________________________________________________________________________________\n",
      "batch_normalization_253 (BatchN (None, 7, 7, 192)    576         conv2d_289[0][0]                 \n",
      "__________________________________________________________________________________________________\n",
      "activation_253 (Activation)     (None, 7, 7, 192)    0           batch_normalization_253[0][0]    \n",
      "__________________________________________________________________________________________________\n",
      "conv2d_285 (Conv2D)             (None, 7, 7, 192)    147456      mixed6[0][0]                     \n",
      "__________________________________________________________________________________________________\n",
      "conv2d_290 (Conv2D)             (None, 7, 7, 192)    258048      activation_253[0][0]             \n",
      "__________________________________________________________________________________________________\n",
      "batch_normalization_249 (BatchN (None, 7, 7, 192)    576         conv2d_285[0][0]                 \n",
      "__________________________________________________________________________________________________\n",
      "batch_normalization_254 (BatchN (None, 7, 7, 192)    576         conv2d_290[0][0]                 \n",
      "__________________________________________________________________________________________________\n",
      "activation_249 (Activation)     (None, 7, 7, 192)    0           batch_normalization_249[0][0]    \n",
      "__________________________________________________________________________________________________\n",
      "activation_254 (Activation)     (None, 7, 7, 192)    0           batch_normalization_254[0][0]    \n",
      "__________________________________________________________________________________________________\n",
      "conv2d_286 (Conv2D)             (None, 7, 7, 192)    258048      activation_249[0][0]             \n",
      "__________________________________________________________________________________________________\n",
      "conv2d_291 (Conv2D)             (None, 7, 7, 192)    258048      activation_254[0][0]             \n",
      "__________________________________________________________________________________________________\n",
      "batch_normalization_250 (BatchN (None, 7, 7, 192)    576         conv2d_286[0][0]                 \n",
      "__________________________________________________________________________________________________\n",
      "batch_normalization_255 (BatchN (None, 7, 7, 192)    576         conv2d_291[0][0]                 \n",
      "__________________________________________________________________________________________________\n",
      "activation_250 (Activation)     (None, 7, 7, 192)    0           batch_normalization_250[0][0]    \n",
      "__________________________________________________________________________________________________\n",
      "activation_255 (Activation)     (None, 7, 7, 192)    0           batch_normalization_255[0][0]    \n",
      "__________________________________________________________________________________________________\n",
      "average_pooling2d_24 (AveragePo (None, 7, 7, 768)    0           mixed6[0][0]                     \n",
      "__________________________________________________________________________________________________\n",
      "conv2d_284 (Conv2D)             (None, 7, 7, 192)    147456      mixed6[0][0]                     \n",
      "__________________________________________________________________________________________________\n",
      "conv2d_287 (Conv2D)             (None, 7, 7, 192)    258048      activation_250[0][0]             \n",
      "__________________________________________________________________________________________________\n",
      "conv2d_292 (Conv2D)             (None, 7, 7, 192)    258048      activation_255[0][0]             \n",
      "__________________________________________________________________________________________________\n",
      "conv2d_293 (Conv2D)             (None, 7, 7, 192)    147456      average_pooling2d_24[0][0]       \n",
      "__________________________________________________________________________________________________\n",
      "batch_normalization_248 (BatchN (None, 7, 7, 192)    576         conv2d_284[0][0]                 \n",
      "__________________________________________________________________________________________________\n",
      "batch_normalization_251 (BatchN (None, 7, 7, 192)    576         conv2d_287[0][0]                 \n",
      "__________________________________________________________________________________________________\n",
      "batch_normalization_256 (BatchN (None, 7, 7, 192)    576         conv2d_292[0][0]                 \n",
      "__________________________________________________________________________________________________\n",
      "batch_normalization_257 (BatchN (None, 7, 7, 192)    576         conv2d_293[0][0]                 \n",
      "__________________________________________________________________________________________________\n",
      "activation_248 (Activation)     (None, 7, 7, 192)    0           batch_normalization_248[0][0]    \n",
      "__________________________________________________________________________________________________\n",
      "activation_251 (Activation)     (None, 7, 7, 192)    0           batch_normalization_251[0][0]    \n",
      "__________________________________________________________________________________________________\n",
      "activation_256 (Activation)     (None, 7, 7, 192)    0           batch_normalization_256[0][0]    \n",
      "__________________________________________________________________________________________________\n",
      "activation_257 (Activation)     (None, 7, 7, 192)    0           batch_normalization_257[0][0]    \n",
      "__________________________________________________________________________________________________\n",
      "mixed7 (Concatenate)            (None, 7, 7, 768)    0           activation_248[0][0]             \n",
      "                                                                 activation_251[0][0]             \n",
      "                                                                 activation_256[0][0]             \n",
      "                                                                 activation_257[0][0]             \n",
      "__________________________________________________________________________________________________\n",
      "conv2d_296 (Conv2D)             (None, 7, 7, 192)    147456      mixed7[0][0]                     \n",
      "__________________________________________________________________________________________________\n",
      "batch_normalization_260 (BatchN (None, 7, 7, 192)    576         conv2d_296[0][0]                 \n",
      "__________________________________________________________________________________________________\n",
      "activation_260 (Activation)     (None, 7, 7, 192)    0           batch_normalization_260[0][0]    \n",
      "__________________________________________________________________________________________________\n",
      "conv2d_297 (Conv2D)             (None, 7, 7, 192)    258048      activation_260[0][0]             \n",
      "__________________________________________________________________________________________________\n",
      "batch_normalization_261 (BatchN (None, 7, 7, 192)    576         conv2d_297[0][0]                 \n",
      "__________________________________________________________________________________________________\n",
      "activation_261 (Activation)     (None, 7, 7, 192)    0           batch_normalization_261[0][0]    \n",
      "__________________________________________________________________________________________________\n",
      "conv2d_294 (Conv2D)             (None, 7, 7, 192)    147456      mixed7[0][0]                     \n",
      "__________________________________________________________________________________________________\n",
      "conv2d_298 (Conv2D)             (None, 7, 7, 192)    258048      activation_261[0][0]             \n",
      "__________________________________________________________________________________________________\n",
      "batch_normalization_258 (BatchN (None, 7, 7, 192)    576         conv2d_294[0][0]                 \n",
      "__________________________________________________________________________________________________\n",
      "batch_normalization_262 (BatchN (None, 7, 7, 192)    576         conv2d_298[0][0]                 \n",
      "__________________________________________________________________________________________________\n",
      "activation_258 (Activation)     (None, 7, 7, 192)    0           batch_normalization_258[0][0]    \n",
      "__________________________________________________________________________________________________\n",
      "activation_262 (Activation)     (None, 7, 7, 192)    0           batch_normalization_262[0][0]    \n",
      "__________________________________________________________________________________________________\n",
      "conv2d_295 (Conv2D)             (None, 3, 3, 320)    552960      activation_258[0][0]             \n",
      "__________________________________________________________________________________________________\n",
      "conv2d_299 (Conv2D)             (None, 3, 3, 192)    331776      activation_262[0][0]             \n",
      "__________________________________________________________________________________________________\n",
      "batch_normalization_259 (BatchN (None, 3, 3, 320)    960         conv2d_295[0][0]                 \n",
      "__________________________________________________________________________________________________\n",
      "batch_normalization_263 (BatchN (None, 3, 3, 192)    576         conv2d_299[0][0]                 \n",
      "__________________________________________________________________________________________________\n",
      "activation_259 (Activation)     (None, 3, 3, 320)    0           batch_normalization_259[0][0]    \n",
      "__________________________________________________________________________________________________\n",
      "activation_263 (Activation)     (None, 3, 3, 192)    0           batch_normalization_263[0][0]    \n",
      "__________________________________________________________________________________________________\n",
      "max_pooling2d_47 (MaxPooling2D) (None, 3, 3, 768)    0           mixed7[0][0]                     \n",
      "__________________________________________________________________________________________________\n",
      "mixed8 (Concatenate)            (None, 3, 3, 1280)   0           activation_259[0][0]             \n",
      "                                                                 activation_263[0][0]             \n",
      "                                                                 max_pooling2d_47[0][0]           \n",
      "__________________________________________________________________________________________________\n",
      "conv2d_304 (Conv2D)             (None, 3, 3, 448)    573440      mixed8[0][0]                     \n",
      "__________________________________________________________________________________________________\n",
      "batch_normalization_268 (BatchN (None, 3, 3, 448)    1344        conv2d_304[0][0]                 \n",
      "__________________________________________________________________________________________________\n",
      "activation_268 (Activation)     (None, 3, 3, 448)    0           batch_normalization_268[0][0]    \n",
      "__________________________________________________________________________________________________\n",
      "conv2d_301 (Conv2D)             (None, 3, 3, 384)    491520      mixed8[0][0]                     \n",
      "__________________________________________________________________________________________________\n",
      "conv2d_305 (Conv2D)             (None, 3, 3, 384)    1548288     activation_268[0][0]             \n",
      "__________________________________________________________________________________________________\n",
      "batch_normalization_265 (BatchN (None, 3, 3, 384)    1152        conv2d_301[0][0]                 \n",
      "__________________________________________________________________________________________________\n",
      "batch_normalization_269 (BatchN (None, 3, 3, 384)    1152        conv2d_305[0][0]                 \n",
      "__________________________________________________________________________________________________\n",
      "activation_265 (Activation)     (None, 3, 3, 384)    0           batch_normalization_265[0][0]    \n",
      "__________________________________________________________________________________________________\n",
      "activation_269 (Activation)     (None, 3, 3, 384)    0           batch_normalization_269[0][0]    \n",
      "__________________________________________________________________________________________________\n",
      "conv2d_302 (Conv2D)             (None, 3, 3, 384)    442368      activation_265[0][0]             \n",
      "__________________________________________________________________________________________________\n",
      "conv2d_303 (Conv2D)             (None, 3, 3, 384)    442368      activation_265[0][0]             \n",
      "__________________________________________________________________________________________________\n",
      "conv2d_306 (Conv2D)             (None, 3, 3, 384)    442368      activation_269[0][0]             \n",
      "__________________________________________________________________________________________________\n",
      "conv2d_307 (Conv2D)             (None, 3, 3, 384)    442368      activation_269[0][0]             \n",
      "__________________________________________________________________________________________________\n",
      "average_pooling2d_25 (AveragePo (None, 3, 3, 1280)   0           mixed8[0][0]                     \n",
      "__________________________________________________________________________________________________\n",
      "conv2d_300 (Conv2D)             (None, 3, 3, 320)    409600      mixed8[0][0]                     \n",
      "__________________________________________________________________________________________________\n",
      "batch_normalization_266 (BatchN (None, 3, 3, 384)    1152        conv2d_302[0][0]                 \n",
      "__________________________________________________________________________________________________\n",
      "batch_normalization_267 (BatchN (None, 3, 3, 384)    1152        conv2d_303[0][0]                 \n",
      "__________________________________________________________________________________________________\n",
      "batch_normalization_270 (BatchN (None, 3, 3, 384)    1152        conv2d_306[0][0]                 \n",
      "__________________________________________________________________________________________________\n",
      "batch_normalization_271 (BatchN (None, 3, 3, 384)    1152        conv2d_307[0][0]                 \n",
      "__________________________________________________________________________________________________\n",
      "conv2d_308 (Conv2D)             (None, 3, 3, 192)    245760      average_pooling2d_25[0][0]       \n",
      "__________________________________________________________________________________________________\n",
      "batch_normalization_264 (BatchN (None, 3, 3, 320)    960         conv2d_300[0][0]                 \n",
      "__________________________________________________________________________________________________\n",
      "activation_266 (Activation)     (None, 3, 3, 384)    0           batch_normalization_266[0][0]    \n",
      "__________________________________________________________________________________________________\n",
      "activation_267 (Activation)     (None, 3, 3, 384)    0           batch_normalization_267[0][0]    \n",
      "__________________________________________________________________________________________________\n",
      "activation_270 (Activation)     (None, 3, 3, 384)    0           batch_normalization_270[0][0]    \n",
      "__________________________________________________________________________________________________\n",
      "activation_271 (Activation)     (None, 3, 3, 384)    0           batch_normalization_271[0][0]    \n",
      "__________________________________________________________________________________________________\n",
      "batch_normalization_272 (BatchN (None, 3, 3, 192)    576         conv2d_308[0][0]                 \n",
      "__________________________________________________________________________________________________\n",
      "activation_264 (Activation)     (None, 3, 3, 320)    0           batch_normalization_264[0][0]    \n",
      "__________________________________________________________________________________________________\n",
      "mixed9_0 (Concatenate)          (None, 3, 3, 768)    0           activation_266[0][0]             \n",
      "                                                                 activation_267[0][0]             \n",
      "__________________________________________________________________________________________________\n",
      "concatenate_4 (Concatenate)     (None, 3, 3, 768)    0           activation_270[0][0]             \n",
      "                                                                 activation_271[0][0]             \n",
      "__________________________________________________________________________________________________\n",
      "activation_272 (Activation)     (None, 3, 3, 192)    0           batch_normalization_272[0][0]    \n",
      "__________________________________________________________________________________________________\n",
      "mixed9 (Concatenate)            (None, 3, 3, 2048)   0           activation_264[0][0]             \n",
      "                                                                 mixed9_0[0][0]                   \n",
      "                                                                 concatenate_4[0][0]              \n",
      "                                                                 activation_272[0][0]             \n",
      "__________________________________________________________________________________________________\n",
      "conv2d_313 (Conv2D)             (None, 3, 3, 448)    917504      mixed9[0][0]                     \n",
      "__________________________________________________________________________________________________\n",
      "batch_normalization_277 (BatchN (None, 3, 3, 448)    1344        conv2d_313[0][0]                 \n",
      "__________________________________________________________________________________________________\n",
      "activation_277 (Activation)     (None, 3, 3, 448)    0           batch_normalization_277[0][0]    \n",
      "__________________________________________________________________________________________________\n",
      "conv2d_310 (Conv2D)             (None, 3, 3, 384)    786432      mixed9[0][0]                     \n",
      "__________________________________________________________________________________________________\n",
      "conv2d_314 (Conv2D)             (None, 3, 3, 384)    1548288     activation_277[0][0]             \n",
      "__________________________________________________________________________________________________\n",
      "batch_normalization_274 (BatchN (None, 3, 3, 384)    1152        conv2d_310[0][0]                 \n",
      "__________________________________________________________________________________________________\n",
      "batch_normalization_278 (BatchN (None, 3, 3, 384)    1152        conv2d_314[0][0]                 \n",
      "__________________________________________________________________________________________________\n",
      "activation_274 (Activation)     (None, 3, 3, 384)    0           batch_normalization_274[0][0]    \n",
      "__________________________________________________________________________________________________\n",
      "activation_278 (Activation)     (None, 3, 3, 384)    0           batch_normalization_278[0][0]    \n",
      "__________________________________________________________________________________________________\n",
      "conv2d_311 (Conv2D)             (None, 3, 3, 384)    442368      activation_274[0][0]             \n",
      "__________________________________________________________________________________________________\n",
      "conv2d_312 (Conv2D)             (None, 3, 3, 384)    442368      activation_274[0][0]             \n",
      "__________________________________________________________________________________________________\n",
      "conv2d_315 (Conv2D)             (None, 3, 3, 384)    442368      activation_278[0][0]             \n",
      "__________________________________________________________________________________________________\n",
      "conv2d_316 (Conv2D)             (None, 3, 3, 384)    442368      activation_278[0][0]             \n",
      "__________________________________________________________________________________________________\n",
      "average_pooling2d_26 (AveragePo (None, 3, 3, 2048)   0           mixed9[0][0]                     \n",
      "__________________________________________________________________________________________________\n",
      "conv2d_309 (Conv2D)             (None, 3, 3, 320)    655360      mixed9[0][0]                     \n",
      "__________________________________________________________________________________________________\n",
      "batch_normalization_275 (BatchN (None, 3, 3, 384)    1152        conv2d_311[0][0]                 \n",
      "__________________________________________________________________________________________________\n",
      "batch_normalization_276 (BatchN (None, 3, 3, 384)    1152        conv2d_312[0][0]                 \n",
      "__________________________________________________________________________________________________\n",
      "batch_normalization_279 (BatchN (None, 3, 3, 384)    1152        conv2d_315[0][0]                 \n",
      "__________________________________________________________________________________________________\n",
      "batch_normalization_280 (BatchN (None, 3, 3, 384)    1152        conv2d_316[0][0]                 \n",
      "__________________________________________________________________________________________________\n",
      "conv2d_317 (Conv2D)             (None, 3, 3, 192)    393216      average_pooling2d_26[0][0]       \n",
      "__________________________________________________________________________________________________\n",
      "batch_normalization_273 (BatchN (None, 3, 3, 320)    960         conv2d_309[0][0]                 \n",
      "__________________________________________________________________________________________________\n",
      "activation_275 (Activation)     (None, 3, 3, 384)    0           batch_normalization_275[0][0]    \n",
      "__________________________________________________________________________________________________\n",
      "activation_276 (Activation)     (None, 3, 3, 384)    0           batch_normalization_276[0][0]    \n",
      "__________________________________________________________________________________________________\n",
      "activation_279 (Activation)     (None, 3, 3, 384)    0           batch_normalization_279[0][0]    \n",
      "__________________________________________________________________________________________________\n",
      "activation_280 (Activation)     (None, 3, 3, 384)    0           batch_normalization_280[0][0]    \n",
      "__________________________________________________________________________________________________\n",
      "batch_normalization_281 (BatchN (None, 3, 3, 192)    576         conv2d_317[0][0]                 \n",
      "__________________________________________________________________________________________________\n",
      "activation_273 (Activation)     (None, 3, 3, 320)    0           batch_normalization_273[0][0]    \n",
      "__________________________________________________________________________________________________\n",
      "mixed9_1 (Concatenate)          (None, 3, 3, 768)    0           activation_275[0][0]             \n",
      "                                                                 activation_276[0][0]             \n",
      "__________________________________________________________________________________________________\n",
      "concatenate_5 (Concatenate)     (None, 3, 3, 768)    0           activation_279[0][0]             \n",
      "                                                                 activation_280[0][0]             \n",
      "__________________________________________________________________________________________________\n",
      "activation_281 (Activation)     (None, 3, 3, 192)    0           batch_normalization_281[0][0]    \n",
      "__________________________________________________________________________________________________\n",
      "mixed10 (Concatenate)           (None, 3, 3, 2048)   0           activation_273[0][0]             \n",
      "                                                                 mixed9_1[0][0]                   \n",
      "                                                                 concatenate_5[0][0]              \n",
      "                                                                 activation_281[0][0]             \n",
      "==================================================================================================\n",
      "Total params: 21,802,784\n",
      "Trainable params: 21,768,352\n",
      "Non-trainable params: 34,432\n",
      "__________________________________________________________________________________________________\n"
     ]
    }
   ],
   "source": [
    "if PRETRAINED == 'VGG':\n",
    "    conv_base = VGG16(weights='imagenet',\n",
    "                  include_top=False,\n",
    "                  input_shape=(150, 150, 3))\n",
    "else:\n",
    "    conv_base = InceptionV3(weights='imagenet',\n",
    "                        include_top=False,\n",
    "                        input_shape=(150, 150, 3))\n",
    "conv_base.summary()"
   ]
  },
  {
   "cell_type": "markdown",
   "metadata": {
    "id": "iizWYfp0pnTc"
   },
   "source": [
    "As in Chollet, Listing 5.17 (in Chollet's notebook 5.3), you will program an `extract_features()` function."
   ]
  },
  {
   "cell_type": "code",
   "execution_count": 183,
   "metadata": {
    "id": "uIWxZCNmpnTc"
   },
   "outputs": [],
   "source": [
    "# Write your code\n",
    "datagen = ImageDataGenerator(rescale=1./255)\n",
    "batch_size = 20\n",
    "\n",
    "\n",
    "\n",
    "def extract_features(directory, sample_count):\n",
    "    features = np.zeros(shape=(sample_count, 3, 3, 2048))\n",
    "    labels = np.zeros(shape=(sample_count, 5))\n",
    "    generator = datagen.flow_from_directory(\n",
    "                directory,\n",
    "                target_size = (150,150),\n",
    "                batch_size = 20,\n",
    "                classes = categories,\n",
    "                class_mode = 'categorical')\n",
    "    i=0\n",
    "    for inputs_batch, labels_batch in generator:\n",
    "        features_batch = conv_base.predict(inputs_batch)\n",
    "        features[i * batch_size : (i + 1) * batch_size] = features_batch\n",
    "        labels[i * batch_size : (i + 1) * batch_size] = labels_batch\n",
    "        i += 1\n",
    "        if i * batch_size >= sample_count:\n",
    "            break\n",
    "    return features, labels\n",
    "\n",
    "\n"
   ]
  },
  {
   "cell_type": "markdown",
   "metadata": {
    "id": "SDrclOD-pnTf"
   },
   "source": [
    "The features and labels"
   ]
  },
  {
   "cell_type": "code",
   "execution_count": 184,
   "metadata": {
    "id": "23yw24jApnTf",
    "outputId": "7c22919b-db08-460c-edc9-7b857cc7c9e6"
   },
   "outputs": [
    {
     "name": "stdout",
     "output_type": "stream",
     "text": [
      "Found 3027 images belonging to 5 classes.\n",
      "Found 865 images belonging to 5 classes.\n",
      "Found 865 images belonging to 5 classes.\n"
     ]
    }
   ],
   "source": [
    "BATCH_SIZE_TRAIN = 3000\n",
    "BATCH_SIZE_VAL = 865\n",
    "BATCH_SIZE_TEST = 865\n",
    "\n",
    "datagen = ImageDataGenerator(rescale=1./255)\n",
    "\n",
    "train_features, train_labels = extract_features(train_dir, BATCH_SIZE_TRAIN)\n",
    "validation_features, validation_labels = extract_features(validation_dir, BATCH_SIZE_VAL)\n",
    "test_features, test_labels = extract_features(test_dir, BATCH_SIZE_TEST)\n"
   ]
  },
  {
   "cell_type": "code",
   "execution_count": 185,
   "metadata": {
    "id": "Py3cQsKKpnTk"
   },
   "outputs": [],
   "source": [
    "train_features = np.reshape(train_features, (train_features.shape[0], np.prod(train_features.shape[1:])))  # (2593, 4 * 4 * 512))\n",
    "validation_features = np.reshape(validation_features, (validation_features.shape[0], np.prod(validation_features.shape[1:]))) # (865, 4 * 4 * 512)\n",
    "test_features = np.reshape(test_features, (test_features.shape[0], np.prod(test_features.shape[1:]))) # (865, 4 * 4 * 512))"
   ]
  },
  {
   "cell_type": "markdown",
   "metadata": {
    "id": "gYj4NrzTpnTn"
   },
   "source": [
    "Build a network that consists of the Inception V3 convolutional base and two dense layers."
   ]
  },
  {
   "cell_type": "code",
   "execution_count": 234,
   "metadata": {
    "id": "t-shlasTpnTo"
   },
   "outputs": [],
   "source": [
    "# Write your code\n",
    "\n",
    "model3 = models.Sequential()\n",
    "model3.add(layers.Dense(256, activation='relu', input_dim=3 * 3 * 2048)) #512?\n",
    "model3.add(layers.Dropout(0.5))\n",
    "model3.add(layers.Dense(5, activation='softmax'))\n"
   ]
  },
  {
   "cell_type": "markdown",
   "metadata": {
    "id": "UzdAkYAVpnTt"
   },
   "source": [
    "Fit your network"
   ]
  },
  {
   "cell_type": "code",
   "execution_count": 235,
   "metadata": {
    "id": "SQ6s1fBppnTu",
    "outputId": "880962eb-2787-4a0e-9337-5a57ba0aff53"
   },
   "outputs": [
    {
     "name": "stdout",
     "output_type": "stream",
     "text": [
      "Epoch 1/30\n",
      "150/150 [==============================] - 6s 37ms/step - loss: 1.2670 - acc: 0.5730 - val_loss: 0.7019 - val_acc: 0.7364\n",
      "Epoch 2/30\n",
      "150/150 [==============================] - 5s 36ms/step - loss: 0.7055 - acc: 0.7420 - val_loss: 0.5846 - val_acc: 0.7850\n",
      "Epoch 3/30\n",
      "150/150 [==============================] - 6s 38ms/step - loss: 0.5401 - acc: 0.8063 - val_loss: 0.5608 - val_acc: 0.7919\n",
      "Epoch 4/30\n",
      "150/150 [==============================] - 6s 41ms/step - loss: 0.4295 - acc: 0.8507 - val_loss: 0.5342 - val_acc: 0.8012\n",
      "Epoch 5/30\n",
      "150/150 [==============================] - 6s 40ms/step - loss: 0.3875 - acc: 0.8707 - val_loss: 0.5037 - val_acc: 0.8139\n",
      "Epoch 6/30\n",
      "150/150 [==============================] - 6s 40ms/step - loss: 0.3133 - acc: 0.8897 - val_loss: 0.4789 - val_acc: 0.8243\n",
      "Epoch 7/30\n",
      "150/150 [==============================] - 6s 42ms/step - loss: 0.2644 - acc: 0.9180 - val_loss: 0.4620 - val_acc: 0.8370\n",
      "Epoch 8/30\n",
      "150/150 [==============================] - 6s 40ms/step - loss: 0.2274 - acc: 0.9267 - val_loss: 0.4689 - val_acc: 0.8370\n",
      "Epoch 9/30\n",
      "150/150 [==============================] - 6s 39ms/step - loss: 0.1822 - acc: 0.9417 - val_loss: 0.4581 - val_acc: 0.8428\n",
      "Epoch 10/30\n",
      "150/150 [==============================] - 6s 39ms/step - loss: 0.1606 - acc: 0.9497 - val_loss: 0.4500 - val_acc: 0.8393\n",
      "Epoch 11/30\n",
      "150/150 [==============================] - 6s 41ms/step - loss: 0.1448 - acc: 0.9553 - val_loss: 0.4559 - val_acc: 0.8405\n",
      "Epoch 12/30\n",
      "150/150 [==============================] - 6s 40ms/step - loss: 0.1238 - acc: 0.9597 - val_loss: 0.4643 - val_acc: 0.8382\n",
      "Epoch 13/30\n",
      "150/150 [==============================] - 6s 39ms/step - loss: 0.1044 - acc: 0.9700 - val_loss: 0.4672 - val_acc: 0.8486\n",
      "Epoch 14/30\n",
      "150/150 [==============================] - 6s 40ms/step - loss: 0.0920 - acc: 0.9730 - val_loss: 0.4727 - val_acc: 0.8439\n",
      "Epoch 15/30\n",
      "150/150 [==============================] - 6s 39ms/step - loss: 0.0818 - acc: 0.9767 - val_loss: 0.5026 - val_acc: 0.8474\n",
      "Epoch 16/30\n",
      "150/150 [==============================] - 6s 42ms/step - loss: 0.0738 - acc: 0.9803 - val_loss: 0.4829 - val_acc: 0.8486\n",
      "Epoch 17/30\n",
      "150/150 [==============================] - 6s 40ms/step - loss: 0.0616 - acc: 0.9863 - val_loss: 0.4707 - val_acc: 0.8509\n",
      "Epoch 18/30\n",
      "150/150 [==============================] - 6s 40ms/step - loss: 0.0564 - acc: 0.9843 - val_loss: 0.4946 - val_acc: 0.8520\n",
      "Epoch 19/30\n",
      "150/150 [==============================] - 6s 40ms/step - loss: 0.0519 - acc: 0.9893 - val_loss: 0.4802 - val_acc: 0.8532\n",
      "Epoch 20/30\n",
      "150/150 [==============================] - 6s 40ms/step - loss: 0.0425 - acc: 0.9920 - val_loss: 0.5233 - val_acc: 0.8555\n",
      "Epoch 21/30\n",
      "150/150 [==============================] - 6s 42ms/step - loss: 0.0413 - acc: 0.9920 - val_loss: 0.5045 - val_acc: 0.8462\n",
      "Epoch 22/30\n",
      "150/150 [==============================] - 6s 42ms/step - loss: 0.0320 - acc: 0.9940 - val_loss: 0.5377 - val_acc: 0.8497\n",
      "Epoch 23/30\n",
      "150/150 [==============================] - 6s 40ms/step - loss: 0.0347 - acc: 0.9927 - val_loss: 0.5326 - val_acc: 0.8532\n",
      "Epoch 24/30\n",
      "150/150 [==============================] - 6s 40ms/step - loss: 0.0303 - acc: 0.9913 - val_loss: 0.5678 - val_acc: 0.8474\n",
      "Epoch 25/30\n",
      "150/150 [==============================] - 6s 40ms/step - loss: 0.0248 - acc: 0.9950 - val_loss: 0.5585 - val_acc: 0.8520\n",
      "Epoch 26/30\n",
      "150/150 [==============================] - 6s 40ms/step - loss: 0.0233 - acc: 0.9950 - val_loss: 0.5420 - val_acc: 0.8509\n",
      "Epoch 27/30\n",
      "150/150 [==============================] - 6s 40ms/step - loss: 0.0206 - acc: 0.9960 - val_loss: 0.5699 - val_acc: 0.8497\n",
      "Epoch 28/30\n",
      "150/150 [==============================] - 6s 40ms/step - loss: 0.0203 - acc: 0.9957 - val_loss: 0.5431 - val_acc: 0.8532\n",
      "Epoch 29/30\n",
      "150/150 [==============================] - 6s 39ms/step - loss: 0.0204 - acc: 0.9943 - val_loss: 0.6016 - val_acc: 0.8532\n",
      "Epoch 30/30\n",
      "150/150 [==============================] - 6s 40ms/step - loss: 0.0155 - acc: 0.9970 - val_loss: 0.5704 - val_acc: 0.8509\n"
     ]
    }
   ],
   "source": [
    "# Write your code\n",
    "model3.compile(optimizer=optimizers.RMSprop(lr=2e-5),\n",
    "              loss='categorical_crossentropy',\n",
    "              metrics=['acc'])\n",
    "\n",
    "history3 = model3.fit(train_features, train_labels,\n",
    "                    epochs=30,\n",
    "                    batch_size=20,\n",
    "                    validation_data=(validation_features, validation_labels))"
   ]
  },
  {
   "cell_type": "markdown",
   "metadata": {
    "id": "lQpfpwjppnTy"
   },
   "source": [
    "### Analyzing the fitting performance over epochs"
   ]
  },
  {
   "cell_type": "markdown",
   "metadata": {
    "id": "l4r-nm6ZpnTz"
   },
   "source": [
    "Show the training accuracy along with the epochs"
   ]
  },
  {
   "cell_type": "code",
   "execution_count": 242,
   "metadata": {
    "id": "3jorfU9CpnTz",
    "outputId": "d4fc99e7-55cf-4b61-86f0-034829bc2eb2"
   },
   "outputs": [
    {
     "data": {
      "image/png": "[encoded data removed]",
      "text/plain": [
       "<Figure size 432x288 with 1 Axes>"
      ]
     },
     "metadata": {
      "needs_background": "light"
     },
     "output_type": "display_data"
    },
    {
     "data": {
      "image/png": "[encoded data removed]",
      "text/plain": [
       "<Figure size 432x288 with 1 Axes>"
      ]
     },
     "metadata": {
      "needs_background": "light"
     },
     "output_type": "display_data"
    }
   ],
   "source": [
    "# Write your code here\n",
    "model3.save('flowers_small_3.h5')\n",
    "\n",
    "acc = history3.history['acc']\n",
    "val_acc = history3.history['val_acc']\n",
    "loss = history3.history['loss']\n",
    "val_loss = history3.history['val_loss']\n",
    "\n",
    "epochs = range(len(acc))\n",
    "\n",
    "plt.plot(epochs, acc, 'bo', label='Training acc')\n",
    "plt.plot(epochs, val_acc, 'b', label='Validation acc')\n",
    "plt.title('Training and validation accuracy')\n",
    "plt.legend()\n",
    "\n",
    "plt.figure()\n",
    "\n",
    "plt.plot(epochs, loss, 'bo', label='Training loss')\n",
    "plt.plot(epochs, val_loss, 'b', label='Validation loss')\n",
    "plt.title('Training and validation loss')\n",
    "plt.legend()\n",
    "\n",
    "plt.show()"
   ]
  },
  {
   "cell_type": "markdown",
   "metadata": {
    "id": "rPRwtS1QpnT2"
   },
   "source": [
    "### Predicting the test set"
   ]
  },
  {
   "cell_type": "markdown",
   "metadata": {
    "id": "47VlfzcqpnT2"
   },
   "source": [
    "Apply now your network to the test set"
   ]
  },
  {
   "cell_type": "code",
   "execution_count": 243,
   "metadata": {
    "id": "IA0mjLpLpnT3"
   },
   "outputs": [],
   "source": [
    "# Write your code here\n",
    "predictions = model3.predict(test_features)\n",
    "prediction_labels = np.argmax(predictions, axis=1)\n",
    "#test_classes = test_generator.classes\n",
    "\n",
    "#train_features, train_labels \n",
    "#validation_features, validation_labels \n",
    "#test_features, test_labels\n",
    "\n",
    "test_labels2 = np.argmax(test_labels, axis=1)\n"
   ]
  },
  {
   "cell_type": "markdown",
   "metadata": {
    "id": "9f76tSE5pnT7"
   },
   "source": [
    "Report the accuracy as well as the classification report. Use sklearn functions"
   ]
  },
  {
   "cell_type": "code",
   "execution_count": 244,
   "metadata": {
    "id": "bO9B8thXpnT9",
    "outputId": "49aabe93-7850-4a96-ffaf-70374120020c"
   },
   "outputs": [
    {
     "name": "stdout",
     "output_type": "stream",
     "text": [
      "              precision    recall  f1-score   support\n",
      "\n",
      "           0       0.90      0.93      0.91       175\n",
      "           1       0.92      0.87      0.90       215\n",
      "           2       0.77      0.82      0.79       148\n",
      "           3       0.84      0.90      0.87       135\n",
      "           4       0.88      0.81      0.84       192\n",
      "\n",
      "    accuracy                           0.87       865\n",
      "   macro avg       0.86      0.87      0.86       865\n",
      "weighted avg       0.87      0.87      0.87       865\n",
      "\n"
     ]
    }
   ],
   "source": [
    "# Write your code here\n",
    "report = classification_report(test_labels2, prediction_labels)\n",
    "print(report)"
   ]
  },
  {
   "cell_type": "markdown",
   "metadata": {
    "id": "fi5fodsgpnT_"
   },
   "source": [
    "Print the confusion matrix"
   ]
  },
  {
   "cell_type": "code",
   "execution_count": 245,
   "metadata": {
    "id": "n_40gpRZpnUB",
    "outputId": "6508f7d5-2127-4eea-9edb-4c3cf05b5196"
   },
   "outputs": [
    {
     "name": "stdout",
     "output_type": "stream",
     "text": [
      "Confusion matrix:\n",
      "[[162   7   2   3   1]\n",
      " [  9 188   5  10   3]\n",
      " [  4   2 122   5  15]\n",
      " [  3   5   3 122   2]\n",
      " [  3   2  27   5 155]]\n"
     ]
    }
   ],
   "source": [
    "# Write your code here\n",
    "print(\"Confusion matrix:\\n%s\" % confusion_matrix(test_labels2, prediction_labels))"
   ]
  },
  {
   "cell_type": "markdown",
   "metadata": {
    "id": "tJF6Jwg2pnUD"
   },
   "source": [
    "Finally, run a model evaluation and store the loss and accuracy in the `test_loss_3` and `test_acc_3` variables. As with fitting, you may need to adjust the number of steps so that your network tests all the samples."
   ]
  },
  {
   "cell_type": "code",
   "execution_count": 246,
   "metadata": {
    "id": "aKzvDIqbpnUD",
    "outputId": "7246c440-8a3f-496e-d4c8-9a3d195738cb"
   },
   "outputs": [
    {
     "name": "stdout",
     "output_type": "stream",
     "text": [
      "28/28 [==============================] - 0s 4ms/step - loss: 0.4981 - acc: 0.8659\n",
      "test acc: 0.8658959269523621\n",
      "test loss: 0.49809959530830383\n"
     ]
    }
   ],
   "source": [
    "# Write your code here\n",
    "test_loss3, test_acc3 = model3.evaluate(test_features, test_labels)\n",
    "print('test acc:', test_acc3)\n",
    "print('test loss:', test_loss3)"
   ]
  },
  {
   "cell_type": "markdown",
   "metadata": {
    "id": "Ee8sWvhTpnUH"
   },
   "source": [
    "## Using a Pretrained Convolutional Base with Image Augmentation"
   ]
  },
  {
   "cell_type": "markdown",
   "metadata": {
    "id": "3NwvAxbQpnUH"
   },
   "source": [
    "### Architecture"
   ]
  },
  {
   "cell_type": "markdown",
   "metadata": {
    "id": "ey1xEvhRpnUJ"
   },
   "source": [
    "1. Modify your program to include an image transformer. Train a new model. As a hint, you can make the whole convolutional base trainable and use the stochastic gradient descent as optimizer.\n",
    "2. Apply your network to the test set and report the accuracy as well as the confusion matrix you obtained."
   ]
  },
  {
   "cell_type": "code",
   "execution_count": 12,
   "metadata": {
    "id": "Kg3GEi41pnUK",
    "outputId": "d97c799e-564a-417d-fe71-691fadecd52e"
   },
   "outputs": [
    {
     "name": "stdout",
     "output_type": "stream",
     "text": [
      "Model: \"inception_v3\"\n",
      "__________________________________________________________________________________________________\n",
      "Layer (type)                    Output Shape         Param #     Connected to                     \n",
      "==================================================================================================\n",
      "input_1 (InputLayer)            [(None, 150, 150, 3) 0                                            \n",
      "__________________________________________________________________________________________________\n",
      "conv2d (Conv2D)                 (None, 74, 74, 32)   864         input_1[0][0]                    \n",
      "__________________________________________________________________________________________________\n",
      "batch_normalization (BatchNorma (None, 74, 74, 32)   96          conv2d[0][0]                     \n",
      "__________________________________________________________________________________________________\n",
      "activation (Activation)         (None, 74, 74, 32)   0           batch_normalization[0][0]        \n",
      "__________________________________________________________________________________________________\n",
      "conv2d_1 (Conv2D)               (None, 72, 72, 32)   9216        activation[0][0]                 \n",
      "__________________________________________________________________________________________________\n",
      "batch_normalization_1 (BatchNor (None, 72, 72, 32)   96          conv2d_1[0][0]                   \n",
      "__________________________________________________________________________________________________\n",
      "activation_1 (Activation)       (None, 72, 72, 32)   0           batch_normalization_1[0][0]      \n",
      "__________________________________________________________________________________________________\n",
      "conv2d_2 (Conv2D)               (None, 72, 72, 64)   18432       activation_1[0][0]               \n",
      "__________________________________________________________________________________________________\n",
      "batch_normalization_2 (BatchNor (None, 72, 72, 64)   192         conv2d_2[0][0]                   \n",
      "__________________________________________________________________________________________________\n",
      "activation_2 (Activation)       (None, 72, 72, 64)   0           batch_normalization_2[0][0]      \n",
      "__________________________________________________________________________________________________\n",
      "max_pooling2d (MaxPooling2D)    (None, 35, 35, 64)   0           activation_2[0][0]               \n",
      "__________________________________________________________________________________________________\n",
      "conv2d_3 (Conv2D)               (None, 35, 35, 80)   5120        max_pooling2d[0][0]              \n",
      "__________________________________________________________________________________________________\n",
      "batch_normalization_3 (BatchNor (None, 35, 35, 80)   240         conv2d_3[0][0]                   \n",
      "__________________________________________________________________________________________________\n",
      "activation_3 (Activation)       (None, 35, 35, 80)   0           batch_normalization_3[0][0]      \n",
      "__________________________________________________________________________________________________\n",
      "conv2d_4 (Conv2D)               (None, 33, 33, 192)  138240      activation_3[0][0]               \n",
      "__________________________________________________________________________________________________\n",
      "batch_normalization_4 (BatchNor (None, 33, 33, 192)  576         conv2d_4[0][0]                   \n",
      "__________________________________________________________________________________________________\n",
      "activation_4 (Activation)       (None, 33, 33, 192)  0           batch_normalization_4[0][0]      \n",
      "__________________________________________________________________________________________________\n",
      "max_pooling2d_1 (MaxPooling2D)  (None, 16, 16, 192)  0           activation_4[0][0]               \n",
      "__________________________________________________________________________________________________\n",
      "conv2d_8 (Conv2D)               (None, 16, 16, 64)   12288       max_pooling2d_1[0][0]            \n",
      "__________________________________________________________________________________________________\n",
      "batch_normalization_8 (BatchNor (None, 16, 16, 64)   192         conv2d_8[0][0]                   \n",
      "__________________________________________________________________________________________________\n",
      "activation_8 (Activation)       (None, 16, 16, 64)   0           batch_normalization_8[0][0]      \n",
      "__________________________________________________________________________________________________\n",
      "conv2d_6 (Conv2D)               (None, 16, 16, 48)   9216        max_pooling2d_1[0][0]            \n",
      "__________________________________________________________________________________________________\n",
      "conv2d_9 (Conv2D)               (None, 16, 16, 96)   55296       activation_8[0][0]               \n",
      "__________________________________________________________________________________________________\n",
      "batch_normalization_6 (BatchNor (None, 16, 16, 48)   144         conv2d_6[0][0]                   \n",
      "__________________________________________________________________________________________________\n",
      "batch_normalization_9 (BatchNor (None, 16, 16, 96)   288         conv2d_9[0][0]                   \n",
      "__________________________________________________________________________________________________\n",
      "activation_6 (Activation)       (None, 16, 16, 48)   0           batch_normalization_6[0][0]      \n",
      "__________________________________________________________________________________________________\n",
      "activation_9 (Activation)       (None, 16, 16, 96)   0           batch_normalization_9[0][0]      \n",
      "__________________________________________________________________________________________________\n",
      "average_pooling2d (AveragePooli (None, 16, 16, 192)  0           max_pooling2d_1[0][0]            \n",
      "__________________________________________________________________________________________________\n",
      "conv2d_5 (Conv2D)               (None, 16, 16, 64)   12288       max_pooling2d_1[0][0]            \n",
      "__________________________________________________________________________________________________\n",
      "conv2d_7 (Conv2D)               (None, 16, 16, 64)   76800       activation_6[0][0]               \n",
      "__________________________________________________________________________________________________\n",
      "conv2d_10 (Conv2D)              (None, 16, 16, 96)   82944       activation_9[0][0]               \n",
      "__________________________________________________________________________________________________\n",
      "conv2d_11 (Conv2D)              (None, 16, 16, 32)   6144        average_pooling2d[0][0]          \n",
      "__________________________________________________________________________________________________\n",
      "batch_normalization_5 (BatchNor (None, 16, 16, 64)   192         conv2d_5[0][0]                   \n",
      "__________________________________________________________________________________________________\n",
      "batch_normalization_7 (BatchNor (None, 16, 16, 64)   192         conv2d_7[0][0]                   \n",
      "__________________________________________________________________________________________________\n",
      "batch_normalization_10 (BatchNo (None, 16, 16, 96)   288         conv2d_10[0][0]                  \n",
      "__________________________________________________________________________________________________\n",
      "batch_normalization_11 (BatchNo (None, 16, 16, 32)   96          conv2d_11[0][0]                  \n",
      "__________________________________________________________________________________________________\n",
      "activation_5 (Activation)       (None, 16, 16, 64)   0           batch_normalization_5[0][0]      \n",
      "__________________________________________________________________________________________________\n",
      "activation_7 (Activation)       (None, 16, 16, 64)   0           batch_normalization_7[0][0]      \n",
      "__________________________________________________________________________________________________\n",
      "activation_10 (Activation)      (None, 16, 16, 96)   0           batch_normalization_10[0][0]     \n",
      "__________________________________________________________________________________________________\n",
      "activation_11 (Activation)      (None, 16, 16, 32)   0           batch_normalization_11[0][0]     \n",
      "__________________________________________________________________________________________________\n",
      "mixed0 (Concatenate)            (None, 16, 16, 256)  0           activation_5[0][0]               \n",
      "                                                                 activation_7[0][0]               \n",
      "                                                                 activation_10[0][0]              \n",
      "                                                                 activation_11[0][0]              \n",
      "__________________________________________________________________________________________________\n",
      "conv2d_15 (Conv2D)              (None, 16, 16, 64)   16384       mixed0[0][0]                     \n",
      "__________________________________________________________________________________________________\n",
      "batch_normalization_15 (BatchNo (None, 16, 16, 64)   192         conv2d_15[0][0]                  \n",
      "__________________________________________________________________________________________________\n",
      "activation_15 (Activation)      (None, 16, 16, 64)   0           batch_normalization_15[0][0]     \n",
      "__________________________________________________________________________________________________\n",
      "conv2d_13 (Conv2D)              (None, 16, 16, 48)   12288       mixed0[0][0]                     \n",
      "__________________________________________________________________________________________________\n",
      "conv2d_16 (Conv2D)              (None, 16, 16, 96)   55296       activation_15[0][0]              \n",
      "__________________________________________________________________________________________________\n",
      "batch_normalization_13 (BatchNo (None, 16, 16, 48)   144         conv2d_13[0][0]                  \n",
      "__________________________________________________________________________________________________\n",
      "batch_normalization_16 (BatchNo (None, 16, 16, 96)   288         conv2d_16[0][0]                  \n",
      "__________________________________________________________________________________________________\n",
      "activation_13 (Activation)      (None, 16, 16, 48)   0           batch_normalization_13[0][0]     \n",
      "__________________________________________________________________________________________________\n",
      "activation_16 (Activation)      (None, 16, 16, 96)   0           batch_normalization_16[0][0]     \n",
      "__________________________________________________________________________________________________\n",
      "average_pooling2d_1 (AveragePoo (None, 16, 16, 256)  0           mixed0[0][0]                     \n",
      "__________________________________________________________________________________________________\n",
      "conv2d_12 (Conv2D)              (None, 16, 16, 64)   16384       mixed0[0][0]                     \n",
      "__________________________________________________________________________________________________\n",
      "conv2d_14 (Conv2D)              (None, 16, 16, 64)   76800       activation_13[0][0]              \n",
      "__________________________________________________________________________________________________\n",
      "conv2d_17 (Conv2D)              (None, 16, 16, 96)   82944       activation_16[0][0]              \n",
      "__________________________________________________________________________________________________\n",
      "conv2d_18 (Conv2D)              (None, 16, 16, 64)   16384       average_pooling2d_1[0][0]        \n",
      "__________________________________________________________________________________________________\n",
      "batch_normalization_12 (BatchNo (None, 16, 16, 64)   192         conv2d_12[0][0]                  \n",
      "__________________________________________________________________________________________________\n",
      "batch_normalization_14 (BatchNo (None, 16, 16, 64)   192         conv2d_14[0][0]                  \n",
      "__________________________________________________________________________________________________\n",
      "batch_normalization_17 (BatchNo (None, 16, 16, 96)   288         conv2d_17[0][0]                  \n",
      "__________________________________________________________________________________________________\n",
      "batch_normalization_18 (BatchNo (None, 16, 16, 64)   192         conv2d_18[0][0]                  \n",
      "__________________________________________________________________________________________________\n",
      "activation_12 (Activation)      (None, 16, 16, 64)   0           batch_normalization_12[0][0]     \n",
      "__________________________________________________________________________________________________\n",
      "activation_14 (Activation)      (None, 16, 16, 64)   0           batch_normalization_14[0][0]     \n",
      "__________________________________________________________________________________________________\n",
      "activation_17 (Activation)      (None, 16, 16, 96)   0           batch_normalization_17[0][0]     \n",
      "__________________________________________________________________________________________________\n",
      "activation_18 (Activation)      (None, 16, 16, 64)   0           batch_normalization_18[0][0]     \n",
      "__________________________________________________________________________________________________\n",
      "mixed1 (Concatenate)            (None, 16, 16, 288)  0           activation_12[0][0]              \n",
      "                                                                 activation_14[0][0]              \n",
      "                                                                 activation_17[0][0]              \n",
      "                                                                 activation_18[0][0]              \n",
      "__________________________________________________________________________________________________\n",
      "conv2d_22 (Conv2D)              (None, 16, 16, 64)   18432       mixed1[0][0]                     \n",
      "__________________________________________________________________________________________________\n",
      "batch_normalization_22 (BatchNo (None, 16, 16, 64)   192         conv2d_22[0][0]                  \n",
      "__________________________________________________________________________________________________\n",
      "activation_22 (Activation)      (None, 16, 16, 64)   0           batch_normalization_22[0][0]     \n",
      "__________________________________________________________________________________________________\n",
      "conv2d_20 (Conv2D)              (None, 16, 16, 48)   13824       mixed1[0][0]                     \n",
      "__________________________________________________________________________________________________\n",
      "conv2d_23 (Conv2D)              (None, 16, 16, 96)   55296       activation_22[0][0]              \n",
      "__________________________________________________________________________________________________\n",
      "batch_normalization_20 (BatchNo (None, 16, 16, 48)   144         conv2d_20[0][0]                  \n",
      "__________________________________________________________________________________________________\n",
      "batch_normalization_23 (BatchNo (None, 16, 16, 96)   288         conv2d_23[0][0]                  \n",
      "__________________________________________________________________________________________________\n",
      "activation_20 (Activation)      (None, 16, 16, 48)   0           batch_normalization_20[0][0]     \n",
      "__________________________________________________________________________________________________\n",
      "activation_23 (Activation)      (None, 16, 16, 96)   0           batch_normalization_23[0][0]     \n",
      "__________________________________________________________________________________________________\n",
      "average_pooling2d_2 (AveragePoo (None, 16, 16, 288)  0           mixed1[0][0]                     \n",
      "__________________________________________________________________________________________________\n",
      "conv2d_19 (Conv2D)              (None, 16, 16, 64)   18432       mixed1[0][0]                     \n",
      "__________________________________________________________________________________________________\n",
      "conv2d_21 (Conv2D)              (None, 16, 16, 64)   76800       activation_20[0][0]              \n",
      "__________________________________________________________________________________________________\n",
      "conv2d_24 (Conv2D)              (None, 16, 16, 96)   82944       activation_23[0][0]              \n",
      "__________________________________________________________________________________________________\n",
      "conv2d_25 (Conv2D)              (None, 16, 16, 64)   18432       average_pooling2d_2[0][0]        \n",
      "__________________________________________________________________________________________________\n",
      "batch_normalization_19 (BatchNo (None, 16, 16, 64)   192         conv2d_19[0][0]                  \n",
      "__________________________________________________________________________________________________\n",
      "batch_normalization_21 (BatchNo (None, 16, 16, 64)   192         conv2d_21[0][0]                  \n",
      "__________________________________________________________________________________________________\n",
      "batch_normalization_24 (BatchNo (None, 16, 16, 96)   288         conv2d_24[0][0]                  \n",
      "__________________________________________________________________________________________________\n",
      "batch_normalization_25 (BatchNo (None, 16, 16, 64)   192         conv2d_25[0][0]                  \n",
      "__________________________________________________________________________________________________\n",
      "activation_19 (Activation)      (None, 16, 16, 64)   0           batch_normalization_19[0][0]     \n",
      "__________________________________________________________________________________________________\n",
      "activation_21 (Activation)      (None, 16, 16, 64)   0           batch_normalization_21[0][0]     \n",
      "__________________________________________________________________________________________________\n",
      "activation_24 (Activation)      (None, 16, 16, 96)   0           batch_normalization_24[0][0]     \n",
      "__________________________________________________________________________________________________\n",
      "activation_25 (Activation)      (None, 16, 16, 64)   0           batch_normalization_25[0][0]     \n",
      "__________________________________________________________________________________________________\n",
      "mixed2 (Concatenate)            (None, 16, 16, 288)  0           activation_19[0][0]              \n",
      "                                                                 activation_21[0][0]              \n",
      "                                                                 activation_24[0][0]              \n",
      "                                                                 activation_25[0][0]              \n",
      "__________________________________________________________________________________________________\n",
      "conv2d_27 (Conv2D)              (None, 16, 16, 64)   18432       mixed2[0][0]                     \n",
      "__________________________________________________________________________________________________\n",
      "batch_normalization_27 (BatchNo (None, 16, 16, 64)   192         conv2d_27[0][0]                  \n",
      "__________________________________________________________________________________________________\n",
      "activation_27 (Activation)      (None, 16, 16, 64)   0           batch_normalization_27[0][0]     \n",
      "__________________________________________________________________________________________________\n",
      "conv2d_28 (Conv2D)              (None, 16, 16, 96)   55296       activation_27[0][0]              \n",
      "__________________________________________________________________________________________________\n",
      "batch_normalization_28 (BatchNo (None, 16, 16, 96)   288         conv2d_28[0][0]                  \n",
      "__________________________________________________________________________________________________\n",
      "activation_28 (Activation)      (None, 16, 16, 96)   0           batch_normalization_28[0][0]     \n",
      "__________________________________________________________________________________________________\n",
      "conv2d_26 (Conv2D)              (None, 7, 7, 384)    995328      mixed2[0][0]                     \n",
      "__________________________________________________________________________________________________\n",
      "conv2d_29 (Conv2D)              (None, 7, 7, 96)     82944       activation_28[0][0]              \n",
      "__________________________________________________________________________________________________\n",
      "batch_normalization_26 (BatchNo (None, 7, 7, 384)    1152        conv2d_26[0][0]                  \n",
      "__________________________________________________________________________________________________\n",
      "batch_normalization_29 (BatchNo (None, 7, 7, 96)     288         conv2d_29[0][0]                  \n",
      "__________________________________________________________________________________________________\n",
      "activation_26 (Activation)      (None, 7, 7, 384)    0           batch_normalization_26[0][0]     \n",
      "__________________________________________________________________________________________________\n",
      "activation_29 (Activation)      (None, 7, 7, 96)     0           batch_normalization_29[0][0]     \n",
      "__________________________________________________________________________________________________\n",
      "max_pooling2d_2 (MaxPooling2D)  (None, 7, 7, 288)    0           mixed2[0][0]                     \n",
      "__________________________________________________________________________________________________\n",
      "mixed3 (Concatenate)            (None, 7, 7, 768)    0           activation_26[0][0]              \n",
      "                                                                 activation_29[0][0]              \n",
      "                                                                 max_pooling2d_2[0][0]            \n",
      "__________________________________________________________________________________________________\n",
      "conv2d_34 (Conv2D)              (None, 7, 7, 128)    98304       mixed3[0][0]                     \n",
      "__________________________________________________________________________________________________\n",
      "batch_normalization_34 (BatchNo (None, 7, 7, 128)    384         conv2d_34[0][0]                  \n",
      "__________________________________________________________________________________________________\n",
      "activation_34 (Activation)      (None, 7, 7, 128)    0           batch_normalization_34[0][0]     \n",
      "__________________________________________________________________________________________________\n",
      "conv2d_35 (Conv2D)              (None, 7, 7, 128)    114688      activation_34[0][0]              \n",
      "__________________________________________________________________________________________________\n",
      "batch_normalization_35 (BatchNo (None, 7, 7, 128)    384         conv2d_35[0][0]                  \n",
      "__________________________________________________________________________________________________\n",
      "activation_35 (Activation)      (None, 7, 7, 128)    0           batch_normalization_35[0][0]     \n",
      "__________________________________________________________________________________________________\n",
      "conv2d_31 (Conv2D)              (None, 7, 7, 128)    98304       mixed3[0][0]                     \n",
      "__________________________________________________________________________________________________\n",
      "conv2d_36 (Conv2D)              (None, 7, 7, 128)    114688      activation_35[0][0]              \n",
      "__________________________________________________________________________________________________\n",
      "batch_normalization_31 (BatchNo (None, 7, 7, 128)    384         conv2d_31[0][0]                  \n",
      "__________________________________________________________________________________________________\n",
      "batch_normalization_36 (BatchNo (None, 7, 7, 128)    384         conv2d_36[0][0]                  \n",
      "__________________________________________________________________________________________________\n",
      "activation_31 (Activation)      (None, 7, 7, 128)    0           batch_normalization_31[0][0]     \n",
      "__________________________________________________________________________________________________\n",
      "activation_36 (Activation)      (None, 7, 7, 128)    0           batch_normalization_36[0][0]     \n",
      "__________________________________________________________________________________________________\n",
      "conv2d_32 (Conv2D)              (None, 7, 7, 128)    114688      activation_31[0][0]              \n",
      "__________________________________________________________________________________________________\n",
      "conv2d_37 (Conv2D)              (None, 7, 7, 128)    114688      activation_36[0][0]              \n",
      "__________________________________________________________________________________________________\n",
      "batch_normalization_32 (BatchNo (None, 7, 7, 128)    384         conv2d_32[0][0]                  \n",
      "__________________________________________________________________________________________________\n",
      "batch_normalization_37 (BatchNo (None, 7, 7, 128)    384         conv2d_37[0][0]                  \n",
      "__________________________________________________________________________________________________\n",
      "activation_32 (Activation)      (None, 7, 7, 128)    0           batch_normalization_32[0][0]     \n",
      "__________________________________________________________________________________________________\n",
      "activation_37 (Activation)      (None, 7, 7, 128)    0           batch_normalization_37[0][0]     \n",
      "__________________________________________________________________________________________________\n",
      "average_pooling2d_3 (AveragePoo (None, 7, 7, 768)    0           mixed3[0][0]                     \n",
      "__________________________________________________________________________________________________\n",
      "conv2d_30 (Conv2D)              (None, 7, 7, 192)    147456      mixed3[0][0]                     \n",
      "__________________________________________________________________________________________________\n",
      "conv2d_33 (Conv2D)              (None, 7, 7, 192)    172032      activation_32[0][0]              \n",
      "__________________________________________________________________________________________________\n",
      "conv2d_38 (Conv2D)              (None, 7, 7, 192)    172032      activation_37[0][0]              \n",
      "__________________________________________________________________________________________________\n",
      "conv2d_39 (Conv2D)              (None, 7, 7, 192)    147456      average_pooling2d_3[0][0]        \n",
      "__________________________________________________________________________________________________\n",
      "batch_normalization_30 (BatchNo (None, 7, 7, 192)    576         conv2d_30[0][0]                  \n",
      "__________________________________________________________________________________________________\n",
      "batch_normalization_33 (BatchNo (None, 7, 7, 192)    576         conv2d_33[0][0]                  \n",
      "__________________________________________________________________________________________________\n",
      "batch_normalization_38 (BatchNo (None, 7, 7, 192)    576         conv2d_38[0][0]                  \n",
      "__________________________________________________________________________________________________\n",
      "batch_normalization_39 (BatchNo (None, 7, 7, 192)    576         conv2d_39[0][0]                  \n",
      "__________________________________________________________________________________________________\n",
      "activation_30 (Activation)      (None, 7, 7, 192)    0           batch_normalization_30[0][0]     \n",
      "__________________________________________________________________________________________________\n",
      "activation_33 (Activation)      (None, 7, 7, 192)    0           batch_normalization_33[0][0]     \n",
      "__________________________________________________________________________________________________\n",
      "activation_38 (Activation)      (None, 7, 7, 192)    0           batch_normalization_38[0][0]     \n",
      "__________________________________________________________________________________________________\n",
      "activation_39 (Activation)      (None, 7, 7, 192)    0           batch_normalization_39[0][0]     \n",
      "__________________________________________________________________________________________________\n",
      "mixed4 (Concatenate)            (None, 7, 7, 768)    0           activation_30[0][0]              \n",
      "                                                                 activation_33[0][0]              \n",
      "                                                                 activation_38[0][0]              \n",
      "                                                                 activation_39[0][0]              \n",
      "__________________________________________________________________________________________________\n",
      "conv2d_44 (Conv2D)              (None, 7, 7, 160)    122880      mixed4[0][0]                     \n",
      "__________________________________________________________________________________________________\n",
      "batch_normalization_44 (BatchNo (None, 7, 7, 160)    480         conv2d_44[0][0]                  \n",
      "__________________________________________________________________________________________________\n",
      "activation_44 (Activation)      (None, 7, 7, 160)    0           batch_normalization_44[0][0]     \n",
      "__________________________________________________________________________________________________\n",
      "conv2d_45 (Conv2D)              (None, 7, 7, 160)    179200      activation_44[0][0]              \n",
      "__________________________________________________________________________________________________\n",
      "batch_normalization_45 (BatchNo (None, 7, 7, 160)    480         conv2d_45[0][0]                  \n",
      "__________________________________________________________________________________________________\n",
      "activation_45 (Activation)      (None, 7, 7, 160)    0           batch_normalization_45[0][0]     \n",
      "__________________________________________________________________________________________________\n",
      "conv2d_41 (Conv2D)              (None, 7, 7, 160)    122880      mixed4[0][0]                     \n",
      "__________________________________________________________________________________________________\n",
      "conv2d_46 (Conv2D)              (None, 7, 7, 160)    179200      activation_45[0][0]              \n",
      "__________________________________________________________________________________________________\n",
      "batch_normalization_41 (BatchNo (None, 7, 7, 160)    480         conv2d_41[0][0]                  \n",
      "__________________________________________________________________________________________________\n",
      "batch_normalization_46 (BatchNo (None, 7, 7, 160)    480         conv2d_46[0][0]                  \n",
      "__________________________________________________________________________________________________\n",
      "activation_41 (Activation)      (None, 7, 7, 160)    0           batch_normalization_41[0][0]     \n",
      "__________________________________________________________________________________________________\n",
      "activation_46 (Activation)      (None, 7, 7, 160)    0           batch_normalization_46[0][0]     \n",
      "__________________________________________________________________________________________________\n",
      "conv2d_42 (Conv2D)              (None, 7, 7, 160)    179200      activation_41[0][0]              \n",
      "__________________________________________________________________________________________________\n",
      "conv2d_47 (Conv2D)              (None, 7, 7, 160)    179200      activation_46[0][0]              \n",
      "__________________________________________________________________________________________________\n",
      "batch_normalization_42 (BatchNo (None, 7, 7, 160)    480         conv2d_42[0][0]                  \n",
      "__________________________________________________________________________________________________\n",
      "batch_normalization_47 (BatchNo (None, 7, 7, 160)    480         conv2d_47[0][0]                  \n",
      "__________________________________________________________________________________________________\n",
      "activation_42 (Activation)      (None, 7, 7, 160)    0           batch_normalization_42[0][0]     \n",
      "__________________________________________________________________________________________________\n",
      "activation_47 (Activation)      (None, 7, 7, 160)    0           batch_normalization_47[0][0]     \n",
      "__________________________________________________________________________________________________\n",
      "average_pooling2d_4 (AveragePoo (None, 7, 7, 768)    0           mixed4[0][0]                     \n",
      "__________________________________________________________________________________________________\n",
      "conv2d_40 (Conv2D)              (None, 7, 7, 192)    147456      mixed4[0][0]                     \n",
      "__________________________________________________________________________________________________\n",
      "conv2d_43 (Conv2D)              (None, 7, 7, 192)    215040      activation_42[0][0]              \n",
      "__________________________________________________________________________________________________\n",
      "conv2d_48 (Conv2D)              (None, 7, 7, 192)    215040      activation_47[0][0]              \n",
      "__________________________________________________________________________________________________\n",
      "conv2d_49 (Conv2D)              (None, 7, 7, 192)    147456      average_pooling2d_4[0][0]        \n",
      "__________________________________________________________________________________________________\n",
      "batch_normalization_40 (BatchNo (None, 7, 7, 192)    576         conv2d_40[0][0]                  \n",
      "__________________________________________________________________________________________________\n",
      "batch_normalization_43 (BatchNo (None, 7, 7, 192)    576         conv2d_43[0][0]                  \n",
      "__________________________________________________________________________________________________\n",
      "batch_normalization_48 (BatchNo (None, 7, 7, 192)    576         conv2d_48[0][0]                  \n",
      "__________________________________________________________________________________________________\n",
      "batch_normalization_49 (BatchNo (None, 7, 7, 192)    576         conv2d_49[0][0]                  \n",
      "__________________________________________________________________________________________________\n",
      "activation_40 (Activation)      (None, 7, 7, 192)    0           batch_normalization_40[0][0]     \n",
      "__________________________________________________________________________________________________\n",
      "activation_43 (Activation)      (None, 7, 7, 192)    0           batch_normalization_43[0][0]     \n",
      "__________________________________________________________________________________________________\n",
      "activation_48 (Activation)      (None, 7, 7, 192)    0           batch_normalization_48[0][0]     \n",
      "__________________________________________________________________________________________________\n",
      "activation_49 (Activation)      (None, 7, 7, 192)    0           batch_normalization_49[0][0]     \n",
      "__________________________________________________________________________________________________\n",
      "mixed5 (Concatenate)            (None, 7, 7, 768)    0           activation_40[0][0]              \n",
      "                                                                 activation_43[0][0]              \n",
      "                                                                 activation_48[0][0]              \n",
      "                                                                 activation_49[0][0]              \n",
      "__________________________________________________________________________________________________\n",
      "conv2d_54 (Conv2D)              (None, 7, 7, 160)    122880      mixed5[0][0]                     \n",
      "__________________________________________________________________________________________________\n",
      "batch_normalization_54 (BatchNo (None, 7, 7, 160)    480         conv2d_54[0][0]                  \n",
      "__________________________________________________________________________________________________\n",
      "activation_54 (Activation)      (None, 7, 7, 160)    0           batch_normalization_54[0][0]     \n",
      "__________________________________________________________________________________________________\n",
      "conv2d_55 (Conv2D)              (None, 7, 7, 160)    179200      activation_54[0][0]              \n",
      "__________________________________________________________________________________________________\n",
      "batch_normalization_55 (BatchNo (None, 7, 7, 160)    480         conv2d_55[0][0]                  \n",
      "__________________________________________________________________________________________________\n",
      "activation_55 (Activation)      (None, 7, 7, 160)    0           batch_normalization_55[0][0]     \n",
      "__________________________________________________________________________________________________\n",
      "conv2d_51 (Conv2D)              (None, 7, 7, 160)    122880      mixed5[0][0]                     \n",
      "__________________________________________________________________________________________________\n",
      "conv2d_56 (Conv2D)              (None, 7, 7, 160)    179200      activation_55[0][0]              \n",
      "__________________________________________________________________________________________________\n",
      "batch_normalization_51 (BatchNo (None, 7, 7, 160)    480         conv2d_51[0][0]                  \n",
      "__________________________________________________________________________________________________\n",
      "batch_normalization_56 (BatchNo (None, 7, 7, 160)    480         conv2d_56[0][0]                  \n",
      "__________________________________________________________________________________________________\n",
      "activation_51 (Activation)      (None, 7, 7, 160)    0           batch_normalization_51[0][0]     \n",
      "__________________________________________________________________________________________________\n",
      "activation_56 (Activation)      (None, 7, 7, 160)    0           batch_normalization_56[0][0]     \n",
      "__________________________________________________________________________________________________\n",
      "conv2d_52 (Conv2D)              (None, 7, 7, 160)    179200      activation_51[0][0]              \n",
      "__________________________________________________________________________________________________\n",
      "conv2d_57 (Conv2D)              (None, 7, 7, 160)    179200      activation_56[0][0]              \n",
      "__________________________________________________________________________________________________\n",
      "batch_normalization_52 (BatchNo (None, 7, 7, 160)    480         conv2d_52[0][0]                  \n",
      "__________________________________________________________________________________________________\n",
      "batch_normalization_57 (BatchNo (None, 7, 7, 160)    480         conv2d_57[0][0]                  \n",
      "__________________________________________________________________________________________________\n",
      "activation_52 (Activation)      (None, 7, 7, 160)    0           batch_normalization_52[0][0]     \n",
      "__________________________________________________________________________________________________\n",
      "activation_57 (Activation)      (None, 7, 7, 160)    0           batch_normalization_57[0][0]     \n",
      "__________________________________________________________________________________________________\n",
      "average_pooling2d_5 (AveragePoo (None, 7, 7, 768)    0           mixed5[0][0]                     \n",
      "__________________________________________________________________________________________________\n",
      "conv2d_50 (Conv2D)              (None, 7, 7, 192)    147456      mixed5[0][0]                     \n",
      "__________________________________________________________________________________________________\n",
      "conv2d_53 (Conv2D)              (None, 7, 7, 192)    215040      activation_52[0][0]              \n",
      "__________________________________________________________________________________________________\n",
      "conv2d_58 (Conv2D)              (None, 7, 7, 192)    215040      activation_57[0][0]              \n",
      "__________________________________________________________________________________________________\n",
      "conv2d_59 (Conv2D)              (None, 7, 7, 192)    147456      average_pooling2d_5[0][0]        \n",
      "__________________________________________________________________________________________________\n",
      "batch_normalization_50 (BatchNo (None, 7, 7, 192)    576         conv2d_50[0][0]                  \n",
      "__________________________________________________________________________________________________\n",
      "batch_normalization_53 (BatchNo (None, 7, 7, 192)    576         conv2d_53[0][0]                  \n",
      "__________________________________________________________________________________________________\n",
      "batch_normalization_58 (BatchNo (None, 7, 7, 192)    576         conv2d_58[0][0]                  \n",
      "__________________________________________________________________________________________________\n",
      "batch_normalization_59 (BatchNo (None, 7, 7, 192)    576         conv2d_59[0][0]                  \n",
      "__________________________________________________________________________________________________\n",
      "activation_50 (Activation)      (None, 7, 7, 192)    0           batch_normalization_50[0][0]     \n",
      "__________________________________________________________________________________________________\n",
      "activation_53 (Activation)      (None, 7, 7, 192)    0           batch_normalization_53[0][0]     \n",
      "__________________________________________________________________________________________________\n",
      "activation_58 (Activation)      (None, 7, 7, 192)    0           batch_normalization_58[0][0]     \n",
      "__________________________________________________________________________________________________\n",
      "activation_59 (Activation)      (None, 7, 7, 192)    0           batch_normalization_59[0][0]     \n",
      "__________________________________________________________________________________________________\n",
      "mixed6 (Concatenate)            (None, 7, 7, 768)    0           activation_50[0][0]              \n",
      "                                                                 activation_53[0][0]              \n",
      "                                                                 activation_58[0][0]              \n",
      "                                                                 activation_59[0][0]              \n",
      "__________________________________________________________________________________________________\n",
      "conv2d_64 (Conv2D)              (None, 7, 7, 192)    147456      mixed6[0][0]                     \n",
      "__________________________________________________________________________________________________\n",
      "batch_normalization_64 (BatchNo (None, 7, 7, 192)    576         conv2d_64[0][0]                  \n",
      "__________________________________________________________________________________________________\n",
      "activation_64 (Activation)      (None, 7, 7, 192)    0           batch_normalization_64[0][0]     \n",
      "__________________________________________________________________________________________________\n",
      "conv2d_65 (Conv2D)              (None, 7, 7, 192)    258048      activation_64[0][0]              \n",
      "__________________________________________________________________________________________________\n",
      "batch_normalization_65 (BatchNo (None, 7, 7, 192)    576         conv2d_65[0][0]                  \n",
      "__________________________________________________________________________________________________\n",
      "activation_65 (Activation)      (None, 7, 7, 192)    0           batch_normalization_65[0][0]     \n",
      "__________________________________________________________________________________________________\n",
      "conv2d_61 (Conv2D)              (None, 7, 7, 192)    147456      mixed6[0][0]                     \n",
      "__________________________________________________________________________________________________\n",
      "conv2d_66 (Conv2D)              (None, 7, 7, 192)    258048      activation_65[0][0]              \n",
      "__________________________________________________________________________________________________\n",
      "batch_normalization_61 (BatchNo (None, 7, 7, 192)    576         conv2d_61[0][0]                  \n",
      "__________________________________________________________________________________________________\n",
      "batch_normalization_66 (BatchNo (None, 7, 7, 192)    576         conv2d_66[0][0]                  \n",
      "__________________________________________________________________________________________________\n",
      "activation_61 (Activation)      (None, 7, 7, 192)    0           batch_normalization_61[0][0]     \n",
      "__________________________________________________________________________________________________\n",
      "activation_66 (Activation)      (None, 7, 7, 192)    0           batch_normalization_66[0][0]     \n",
      "__________________________________________________________________________________________________\n",
      "conv2d_62 (Conv2D)              (None, 7, 7, 192)    258048      activation_61[0][0]              \n",
      "__________________________________________________________________________________________________\n",
      "conv2d_67 (Conv2D)              (None, 7, 7, 192)    258048      activation_66[0][0]              \n",
      "__________________________________________________________________________________________________\n",
      "batch_normalization_62 (BatchNo (None, 7, 7, 192)    576         conv2d_62[0][0]                  \n",
      "__________________________________________________________________________________________________\n",
      "batch_normalization_67 (BatchNo (None, 7, 7, 192)    576         conv2d_67[0][0]                  \n",
      "__________________________________________________________________________________________________\n",
      "activation_62 (Activation)      (None, 7, 7, 192)    0           batch_normalization_62[0][0]     \n",
      "__________________________________________________________________________________________________\n",
      "activation_67 (Activation)      (None, 7, 7, 192)    0           batch_normalization_67[0][0]     \n",
      "__________________________________________________________________________________________________\n",
      "average_pooling2d_6 (AveragePoo (None, 7, 7, 768)    0           mixed6[0][0]                     \n",
      "__________________________________________________________________________________________________\n",
      "conv2d_60 (Conv2D)              (None, 7, 7, 192)    147456      mixed6[0][0]                     \n",
      "__________________________________________________________________________________________________\n",
      "conv2d_63 (Conv2D)              (None, 7, 7, 192)    258048      activation_62[0][0]              \n",
      "__________________________________________________________________________________________________\n",
      "conv2d_68 (Conv2D)              (None, 7, 7, 192)    258048      activation_67[0][0]              \n",
      "__________________________________________________________________________________________________\n",
      "conv2d_69 (Conv2D)              (None, 7, 7, 192)    147456      average_pooling2d_6[0][0]        \n",
      "__________________________________________________________________________________________________\n",
      "batch_normalization_60 (BatchNo (None, 7, 7, 192)    576         conv2d_60[0][0]                  \n",
      "__________________________________________________________________________________________________\n",
      "batch_normalization_63 (BatchNo (None, 7, 7, 192)    576         conv2d_63[0][0]                  \n",
      "__________________________________________________________________________________________________\n",
      "batch_normalization_68 (BatchNo (None, 7, 7, 192)    576         conv2d_68[0][0]                  \n",
      "__________________________________________________________________________________________________\n",
      "batch_normalization_69 (BatchNo (None, 7, 7, 192)    576         conv2d_69[0][0]                  \n",
      "__________________________________________________________________________________________________\n",
      "activation_60 (Activation)      (None, 7, 7, 192)    0           batch_normalization_60[0][0]     \n",
      "__________________________________________________________________________________________________\n",
      "activation_63 (Activation)      (None, 7, 7, 192)    0           batch_normalization_63[0][0]     \n",
      "__________________________________________________________________________________________________\n",
      "activation_68 (Activation)      (None, 7, 7, 192)    0           batch_normalization_68[0][0]     \n",
      "__________________________________________________________________________________________________\n",
      "activation_69 (Activation)      (None, 7, 7, 192)    0           batch_normalization_69[0][0]     \n",
      "__________________________________________________________________________________________________\n",
      "mixed7 (Concatenate)            (None, 7, 7, 768)    0           activation_60[0][0]              \n",
      "                                                                 activation_63[0][0]              \n",
      "                                                                 activation_68[0][0]              \n",
      "                                                                 activation_69[0][0]              \n",
      "__________________________________________________________________________________________________\n",
      "conv2d_72 (Conv2D)              (None, 7, 7, 192)    147456      mixed7[0][0]                     \n",
      "__________________________________________________________________________________________________\n",
      "batch_normalization_72 (BatchNo (None, 7, 7, 192)    576         conv2d_72[0][0]                  \n",
      "__________________________________________________________________________________________________\n",
      "activation_72 (Activation)      (None, 7, 7, 192)    0           batch_normalization_72[0][0]     \n",
      "__________________________________________________________________________________________________\n",
      "conv2d_73 (Conv2D)              (None, 7, 7, 192)    258048      activation_72[0][0]              \n",
      "__________________________________________________________________________________________________\n",
      "batch_normalization_73 (BatchNo (None, 7, 7, 192)    576         conv2d_73[0][0]                  \n",
      "__________________________________________________________________________________________________\n",
      "activation_73 (Activation)      (None, 7, 7, 192)    0           batch_normalization_73[0][0]     \n",
      "__________________________________________________________________________________________________\n",
      "conv2d_70 (Conv2D)              (None, 7, 7, 192)    147456      mixed7[0][0]                     \n",
      "__________________________________________________________________________________________________\n",
      "conv2d_74 (Conv2D)              (None, 7, 7, 192)    258048      activation_73[0][0]              \n",
      "__________________________________________________________________________________________________\n",
      "batch_normalization_70 (BatchNo (None, 7, 7, 192)    576         conv2d_70[0][0]                  \n",
      "__________________________________________________________________________________________________\n",
      "batch_normalization_74 (BatchNo (None, 7, 7, 192)    576         conv2d_74[0][0]                  \n",
      "__________________________________________________________________________________________________\n",
      "activation_70 (Activation)      (None, 7, 7, 192)    0           batch_normalization_70[0][0]     \n",
      "__________________________________________________________________________________________________\n",
      "activation_74 (Activation)      (None, 7, 7, 192)    0           batch_normalization_74[0][0]     \n",
      "__________________________________________________________________________________________________\n",
      "conv2d_71 (Conv2D)              (None, 3, 3, 320)    552960      activation_70[0][0]              \n",
      "__________________________________________________________________________________________________\n",
      "conv2d_75 (Conv2D)              (None, 3, 3, 192)    331776      activation_74[0][0]              \n",
      "__________________________________________________________________________________________________\n",
      "batch_normalization_71 (BatchNo (None, 3, 3, 320)    960         conv2d_71[0][0]                  \n",
      "__________________________________________________________________________________________________\n",
      "batch_normalization_75 (BatchNo (None, 3, 3, 192)    576         conv2d_75[0][0]                  \n",
      "__________________________________________________________________________________________________\n",
      "activation_71 (Activation)      (None, 3, 3, 320)    0           batch_normalization_71[0][0]     \n",
      "__________________________________________________________________________________________________\n",
      "activation_75 (Activation)      (None, 3, 3, 192)    0           batch_normalization_75[0][0]     \n",
      "__________________________________________________________________________________________________\n",
      "max_pooling2d_3 (MaxPooling2D)  (None, 3, 3, 768)    0           mixed7[0][0]                     \n",
      "__________________________________________________________________________________________________\n",
      "mixed8 (Concatenate)            (None, 3, 3, 1280)   0           activation_71[0][0]              \n",
      "                                                                 activation_75[0][0]              \n",
      "                                                                 max_pooling2d_3[0][0]            \n",
      "__________________________________________________________________________________________________\n",
      "conv2d_80 (Conv2D)              (None, 3, 3, 448)    573440      mixed8[0][0]                     \n",
      "__________________________________________________________________________________________________\n",
      "batch_normalization_80 (BatchNo (None, 3, 3, 448)    1344        conv2d_80[0][0]                  \n",
      "__________________________________________________________________________________________________\n",
      "activation_80 (Activation)      (None, 3, 3, 448)    0           batch_normalization_80[0][0]     \n",
      "__________________________________________________________________________________________________\n",
      "conv2d_77 (Conv2D)              (None, 3, 3, 384)    491520      mixed8[0][0]                     \n",
      "__________________________________________________________________________________________________\n",
      "conv2d_81 (Conv2D)              (None, 3, 3, 384)    1548288     activation_80[0][0]              \n",
      "__________________________________________________________________________________________________\n",
      "batch_normalization_77 (BatchNo (None, 3, 3, 384)    1152        conv2d_77[0][0]                  \n",
      "__________________________________________________________________________________________________\n",
      "batch_normalization_81 (BatchNo (None, 3, 3, 384)    1152        conv2d_81[0][0]                  \n",
      "__________________________________________________________________________________________________\n",
      "activation_77 (Activation)      (None, 3, 3, 384)    0           batch_normalization_77[0][0]     \n",
      "__________________________________________________________________________________________________\n",
      "activation_81 (Activation)      (None, 3, 3, 384)    0           batch_normalization_81[0][0]     \n",
      "__________________________________________________________________________________________________\n",
      "conv2d_78 (Conv2D)              (None, 3, 3, 384)    442368      activation_77[0][0]              \n",
      "__________________________________________________________________________________________________\n",
      "conv2d_79 (Conv2D)              (None, 3, 3, 384)    442368      activation_77[0][0]              \n",
      "__________________________________________________________________________________________________\n",
      "conv2d_82 (Conv2D)              (None, 3, 3, 384)    442368      activation_81[0][0]              \n",
      "__________________________________________________________________________________________________\n",
      "conv2d_83 (Conv2D)              (None, 3, 3, 384)    442368      activation_81[0][0]              \n",
      "__________________________________________________________________________________________________\n",
      "average_pooling2d_7 (AveragePoo (None, 3, 3, 1280)   0           mixed8[0][0]                     \n",
      "__________________________________________________________________________________________________\n",
      "conv2d_76 (Conv2D)              (None, 3, 3, 320)    409600      mixed8[0][0]                     \n",
      "__________________________________________________________________________________________________\n",
      "batch_normalization_78 (BatchNo (None, 3, 3, 384)    1152        conv2d_78[0][0]                  \n",
      "__________________________________________________________________________________________________\n",
      "batch_normalization_79 (BatchNo (None, 3, 3, 384)    1152        conv2d_79[0][0]                  \n",
      "__________________________________________________________________________________________________\n",
      "batch_normalization_82 (BatchNo (None, 3, 3, 384)    1152        conv2d_82[0][0]                  \n",
      "__________________________________________________________________________________________________\n",
      "batch_normalization_83 (BatchNo (None, 3, 3, 384)    1152        conv2d_83[0][0]                  \n",
      "__________________________________________________________________________________________________\n",
      "conv2d_84 (Conv2D)              (None, 3, 3, 192)    245760      average_pooling2d_7[0][0]        \n",
      "__________________________________________________________________________________________________\n",
      "batch_normalization_76 (BatchNo (None, 3, 3, 320)    960         conv2d_76[0][0]                  \n",
      "__________________________________________________________________________________________________\n",
      "activation_78 (Activation)      (None, 3, 3, 384)    0           batch_normalization_78[0][0]     \n",
      "__________________________________________________________________________________________________\n",
      "activation_79 (Activation)      (None, 3, 3, 384)    0           batch_normalization_79[0][0]     \n",
      "__________________________________________________________________________________________________\n",
      "activation_82 (Activation)      (None, 3, 3, 384)    0           batch_normalization_82[0][0]     \n",
      "__________________________________________________________________________________________________\n",
      "activation_83 (Activation)      (None, 3, 3, 384)    0           batch_normalization_83[0][0]     \n",
      "__________________________________________________________________________________________________\n",
      "batch_normalization_84 (BatchNo (None, 3, 3, 192)    576         conv2d_84[0][0]                  \n",
      "__________________________________________________________________________________________________\n",
      "activation_76 (Activation)      (None, 3, 3, 320)    0           batch_normalization_76[0][0]     \n",
      "__________________________________________________________________________________________________\n",
      "mixed9_0 (Concatenate)          (None, 3, 3, 768)    0           activation_78[0][0]              \n",
      "                                                                 activation_79[0][0]              \n",
      "__________________________________________________________________________________________________\n",
      "concatenate (Concatenate)       (None, 3, 3, 768)    0           activation_82[0][0]              \n",
      "                                                                 activation_83[0][0]              \n",
      "__________________________________________________________________________________________________\n",
      "activation_84 (Activation)      (None, 3, 3, 192)    0           batch_normalization_84[0][0]     \n",
      "__________________________________________________________________________________________________\n",
      "mixed9 (Concatenate)            (None, 3, 3, 2048)   0           activation_76[0][0]              \n",
      "                                                                 mixed9_0[0][0]                   \n",
      "                                                                 concatenate[0][0]                \n",
      "                                                                 activation_84[0][0]              \n",
      "__________________________________________________________________________________________________\n",
      "conv2d_89 (Conv2D)              (None, 3, 3, 448)    917504      mixed9[0][0]                     \n",
      "__________________________________________________________________________________________________\n",
      "batch_normalization_89 (BatchNo (None, 3, 3, 448)    1344        conv2d_89[0][0]                  \n",
      "__________________________________________________________________________________________________\n",
      "activation_89 (Activation)      (None, 3, 3, 448)    0           batch_normalization_89[0][0]     \n",
      "__________________________________________________________________________________________________\n",
      "conv2d_86 (Conv2D)              (None, 3, 3, 384)    786432      mixed9[0][0]                     \n",
      "__________________________________________________________________________________________________\n",
      "conv2d_90 (Conv2D)              (None, 3, 3, 384)    1548288     activation_89[0][0]              \n",
      "__________________________________________________________________________________________________\n",
      "batch_normalization_86 (BatchNo (None, 3, 3, 384)    1152        conv2d_86[0][0]                  \n",
      "__________________________________________________________________________________________________\n",
      "batch_normalization_90 (BatchNo (None, 3, 3, 384)    1152        conv2d_90[0][0]                  \n",
      "__________________________________________________________________________________________________\n",
      "activation_86 (Activation)      (None, 3, 3, 384)    0           batch_normalization_86[0][0]     \n",
      "__________________________________________________________________________________________________\n",
      "activation_90 (Activation)      (None, 3, 3, 384)    0           batch_normalization_90[0][0]     \n",
      "__________________________________________________________________________________________________\n",
      "conv2d_87 (Conv2D)              (None, 3, 3, 384)    442368      activation_86[0][0]              \n",
      "__________________________________________________________________________________________________\n",
      "conv2d_88 (Conv2D)              (None, 3, 3, 384)    442368      activation_86[0][0]              \n",
      "__________________________________________________________________________________________________\n",
      "conv2d_91 (Conv2D)              (None, 3, 3, 384)    442368      activation_90[0][0]              \n",
      "__________________________________________________________________________________________________\n",
      "conv2d_92 (Conv2D)              (None, 3, 3, 384)    442368      activation_90[0][0]              \n",
      "__________________________________________________________________________________________________\n",
      "average_pooling2d_8 (AveragePoo (None, 3, 3, 2048)   0           mixed9[0][0]                     \n",
      "__________________________________________________________________________________________________\n",
      "conv2d_85 (Conv2D)              (None, 3, 3, 320)    655360      mixed9[0][0]                     \n",
      "__________________________________________________________________________________________________\n",
      "batch_normalization_87 (BatchNo (None, 3, 3, 384)    1152        conv2d_87[0][0]                  \n",
      "__________________________________________________________________________________________________\n",
      "batch_normalization_88 (BatchNo (None, 3, 3, 384)    1152        conv2d_88[0][0]                  \n",
      "__________________________________________________________________________________________________\n",
      "batch_normalization_91 (BatchNo (None, 3, 3, 384)    1152        conv2d_91[0][0]                  \n",
      "__________________________________________________________________________________________________\n",
      "batch_normalization_92 (BatchNo (None, 3, 3, 384)    1152        conv2d_92[0][0]                  \n",
      "__________________________________________________________________________________________________\n",
      "conv2d_93 (Conv2D)              (None, 3, 3, 192)    393216      average_pooling2d_8[0][0]        \n",
      "__________________________________________________________________________________________________\n",
      "batch_normalization_85 (BatchNo (None, 3, 3, 320)    960         conv2d_85[0][0]                  \n",
      "__________________________________________________________________________________________________\n",
      "activation_87 (Activation)      (None, 3, 3, 384)    0           batch_normalization_87[0][0]     \n",
      "__________________________________________________________________________________________________\n",
      "activation_88 (Activation)      (None, 3, 3, 384)    0           batch_normalization_88[0][0]     \n",
      "__________________________________________________________________________________________________\n",
      "activation_91 (Activation)      (None, 3, 3, 384)    0           batch_normalization_91[0][0]     \n",
      "__________________________________________________________________________________________________\n",
      "activation_92 (Activation)      (None, 3, 3, 384)    0           batch_normalization_92[0][0]     \n",
      "__________________________________________________________________________________________________\n",
      "batch_normalization_93 (BatchNo (None, 3, 3, 192)    576         conv2d_93[0][0]                  \n",
      "__________________________________________________________________________________________________\n",
      "activation_85 (Activation)      (None, 3, 3, 320)    0           batch_normalization_85[0][0]     \n",
      "__________________________________________________________________________________________________\n",
      "mixed9_1 (Concatenate)          (None, 3, 3, 768)    0           activation_87[0][0]              \n",
      "                                                                 activation_88[0][0]              \n",
      "__________________________________________________________________________________________________\n",
      "concatenate_1 (Concatenate)     (None, 3, 3, 768)    0           activation_91[0][0]              \n",
      "                                                                 activation_92[0][0]              \n",
      "__________________________________________________________________________________________________\n",
      "activation_93 (Activation)      (None, 3, 3, 192)    0           batch_normalization_93[0][0]     \n",
      "__________________________________________________________________________________________________\n",
      "mixed10 (Concatenate)           (None, 3, 3, 2048)   0           activation_85[0][0]              \n",
      "                                                                 mixed9_1[0][0]                   \n",
      "                                                                 concatenate_1[0][0]              \n",
      "                                                                 activation_93[0][0]              \n",
      "==================================================================================================\n",
      "Total params: 21,802,784\n",
      "Trainable params: 21,768,352\n",
      "Non-trainable params: 34,432\n",
      "__________________________________________________________________________________________________\n"
     ]
    }
   ],
   "source": [
    "if PRETRAINED == 'VGG':\n",
    "    conv_base = VGG16(weights='imagenet',\n",
    "                  include_top=False,\n",
    "                  input_shape=(150, 150, 3))\n",
    "else:\n",
    "    conv_base = InceptionV3(weights='imagenet',\n",
    "                        include_top=False,\n",
    "                        input_shape=(150, 150, 3))\n",
    "conv_base.summary()"
   ]
  },
  {
   "cell_type": "code",
   "execution_count": 263,
   "metadata": {
    "id": "t1SZKfckpnUR"
   },
   "outputs": [],
   "source": [
    "# Write you code\n"
   ]
  },
  {
   "cell_type": "markdown",
   "metadata": {
    "id": "WNMdDbf7pnUX"
   },
   "source": [
    "Create the generators"
   ]
  },
  {
   "cell_type": "code",
   "execution_count": 13,
   "metadata": {
    "id": "TDARVIOZpnUX",
    "outputId": "7dcdc112-e5f0-4a9c-e961-c232dff12ae5"
   },
   "outputs": [
    {
     "name": "stdout",
     "output_type": "stream",
     "text": [
      "Found 3027 images belonging to 5 classes.\n",
      "Found 865 images belonging to 5 classes.\n",
      "Found 865 images belonging to 5 classes.\n"
     ]
    }
   ],
   "source": [
    "# Write your code\n",
    "train_datagen = ImageDataGenerator(\n",
    "    rescale=1./255,\n",
    "    rotation_range=40,\n",
    "    width_shift_range=0.2,\n",
    "    height_shift_range=0.2,\n",
    "    shear_range=0.2,\n",
    "    zoom_range=0.2,\n",
    "    horizontal_flip=True,\n",
    "    fill_mode='nearest')\n",
    "\n",
    "test_datagen = ImageDataGenerator(rescale=1./255)\n",
    "\n",
    "train_generator = train_datagen.flow_from_directory(\n",
    "        # This is the target directory\n",
    "        train_dir,\n",
    "        # All images will be resized to 150x150\n",
    "        target_size=(150, 150),\n",
    "        batch_size=20,\n",
    "        # Since we use binary_crossentropy loss, we need binary labels\n",
    "        classes = categories,\n",
    "        # Since we use categorical_crossentropy loss\n",
    "        class_mode='categorical')\n",
    "\n",
    "validation_generator = test_datagen.flow_from_directory(\n",
    "        validation_dir,\n",
    "        target_size=(150, 150),\n",
    "        batch_size=20,\n",
    "        classes = categories,\n",
    "        # Since we use categorical_crossentropy loss\n",
    "        class_mode='categorical')\n",
    "\n",
    "test_generator = test_datagen.flow_from_directory(\n",
    "        test_dir,\n",
    "        target_size = (150,150),\n",
    "        batch_size = 20,\n",
    "        classes = categories,\n",
    "        class_mode = 'categorical', \n",
    "        shuffle=False)"
   ]
  },
  {
   "cell_type": "markdown",
   "metadata": {
    "id": "xCeWTChMpnUf"
   },
   "source": [
    "Fit the model"
   ]
  },
  {
   "cell_type": "code",
   "execution_count": 23,
   "metadata": {
    "id": "6KlotvbzpnUf",
    "outputId": "3f240fa0-f595-4d4d-b84a-fa915a8b7c72"
   },
   "outputs": [
    {
     "name": "stdout",
     "output_type": "stream",
     "text": [
      "Model: \"sequential_5\"\n",
      "_________________________________________________________________\n",
      "Layer (type)                 Output Shape              Param #   \n",
      "=================================================================\n",
      "inception_v3 (Functional)    (None, 3, 3, 2048)        21802784  \n",
      "_________________________________________________________________\n",
      "flatten_1 (Flatten)          (None, 18432)             0         \n",
      "_________________________________________________________________\n",
      "dense_10 (Dense)             (None, 256)               4718848   \n",
      "_________________________________________________________________\n",
      "dropout_5 (Dropout)          (None, 256)               0         \n",
      "_________________________________________________________________\n",
      "dense_11 (Dense)             (None, 5)                 1285      \n",
      "=================================================================\n",
      "Total params: 26,522,917\n",
      "Trainable params: 26,488,485\n",
      "Non-trainable params: 34,432\n",
      "_________________________________________________________________\n"
     ]
    }
   ],
   "source": [
    "# Write your code\n",
    "\n",
    "#model4.add(conv_base)\n",
    "#model4.add(layers.Flatten())\n",
    "\n",
    "model4 = models.Sequential()\n",
    "model4.add(conv_base)\n",
    "model4.add(layers.Flatten())\n",
    "model4.add(layers.Dense(256, activation='relu', input_dim=3 * 3 * 2048)) #512?\n",
    "model4.add(layers.Dropout(0.5))\n",
    "model4.add(layers.Dense(5, activation='softmax'))\n",
    "\n",
    "\n",
    "model4.summary()"
   ]
  },
  {
   "cell_type": "code",
   "execution_count": 24,
   "metadata": {},
   "outputs": [
    {
     "name": "stdout",
     "output_type": "stream",
     "text": [
      "Epoch 1/30\n",
      "129/129 [==============================] - 326s 3s/step - loss: 1.0765 - acc: 0.5845 - val_loss: 0.6794 - val_acc: 0.7593\n",
      "Epoch 2/30\n",
      "129/129 [==============================] - 311s 2s/step - loss: 0.6847 - acc: 0.7488 - val_loss: 0.8880 - val_acc: 0.6942\n",
      "Epoch 3/30\n",
      "129/129 [==============================] - 310s 2s/step - loss: 0.5570 - acc: 0.8025 - val_loss: 0.4479 - val_acc: 0.8453\n",
      "Epoch 4/30\n",
      "129/129 [==============================] - 303s 2s/step - loss: 0.4844 - acc: 0.8266 - val_loss: 0.4080 - val_acc: 0.8500\n",
      "Epoch 5/30\n",
      "129/129 [==============================] - 290s 2s/step - loss: 0.4422 - acc: 0.8477 - val_loss: 0.5188 - val_acc: 0.8360\n",
      "Epoch 6/30\n",
      "129/129 [==============================] - 293s 2s/step - loss: 0.3955 - acc: 0.8566 - val_loss: 0.3854 - val_acc: 0.8756\n",
      "Epoch 7/30\n",
      "129/129 [==============================] - 294s 2s/step - loss: 0.3803 - acc: 0.8691 - val_loss: 0.3579 - val_acc: 0.8744\n",
      "Epoch 8/30\n",
      "129/129 [==============================] - 329s 3s/step - loss: 0.3780 - acc: 0.8672 - val_loss: 0.3546 - val_acc: 0.8779\n",
      "Epoch 9/30\n",
      "129/129 [==============================] - 350s 3s/step - loss: 0.3408 - acc: 0.8718 - val_loss: 0.3400 - val_acc: 0.8942\n",
      "Epoch 10/30\n",
      "129/129 [==============================] - 344s 3s/step - loss: 0.2955 - acc: 0.8933 - val_loss: 0.4871 - val_acc: 0.8581\n",
      "Epoch 11/30\n",
      "129/129 [==============================] - 428s 3s/step - loss: 0.3072 - acc: 0.8979 - val_loss: 0.3688 - val_acc: 0.8698\n",
      "Epoch 12/30\n",
      "129/129 [==============================] - 302s 2s/step - loss: 0.2715 - acc: 0.9108 - val_loss: 0.3626 - val_acc: 0.8814\n",
      "Epoch 13/30\n",
      "129/129 [==============================] - 306s 2s/step - loss: 0.2820 - acc: 0.9031 - val_loss: 0.3671 - val_acc: 0.8779\n",
      "Epoch 14/30\n",
      "129/129 [==============================] - 300s 2s/step - loss: 0.2574 - acc: 0.9096 - val_loss: 0.3221 - val_acc: 0.8988\n",
      "Epoch 15/30\n",
      "129/129 [==============================] - 299s 2s/step - loss: 0.2287 - acc: 0.9244 - val_loss: 0.3418 - val_acc: 0.8872\n",
      "Epoch 16/30\n",
      "129/129 [==============================] - 321s 2s/step - loss: 0.2252 - acc: 0.9198 - val_loss: 0.3470 - val_acc: 0.8919\n",
      "Epoch 17/30\n",
      "129/129 [==============================] - 307s 2s/step - loss: 0.2122 - acc: 0.9295 - val_loss: 0.3521 - val_acc: 0.9047\n",
      "Epoch 18/30\n",
      "129/129 [==============================] - 326s 3s/step - loss: 0.1999 - acc: 0.9279 - val_loss: 0.3776 - val_acc: 0.8884\n",
      "Epoch 19/30\n",
      "129/129 [==============================] - 295s 2s/step - loss: 0.2060 - acc: 0.9275 - val_loss: 0.3316 - val_acc: 0.9140\n",
      "Epoch 20/30\n",
      "129/129 [==============================] - 294s 2s/step - loss: 0.1876 - acc: 0.9342 - val_loss: 0.3136 - val_acc: 0.9070\n",
      "Epoch 21/30\n",
      "129/129 [==============================] - 322s 2s/step - loss: 0.1734 - acc: 0.9423 - val_loss: 0.3383 - val_acc: 0.9163\n",
      "Epoch 22/30\n",
      "129/129 [==============================] - 306s 2s/step - loss: 0.1595 - acc: 0.9447 - val_loss: 0.3394 - val_acc: 0.9105\n",
      "Epoch 23/30\n",
      "129/129 [==============================] - 303s 2s/step - loss: 0.1778 - acc: 0.9431 - val_loss: 0.3332 - val_acc: 0.9151\n",
      "Epoch 24/30\n",
      "129/129 [==============================] - 299s 2s/step - loss: 0.1704 - acc: 0.9427 - val_loss: 0.2973 - val_acc: 0.9186\n",
      "Epoch 25/30\n",
      "129/129 [==============================] - 306s 2s/step - loss: 0.1536 - acc: 0.9494 - val_loss: 0.2760 - val_acc: 0.9302\n",
      "Epoch 26/30\n",
      "129/129 [==============================] - 297s 2s/step - loss: 0.1330 - acc: 0.9509 - val_loss: 0.3633 - val_acc: 0.9081\n",
      "Epoch 27/30\n",
      "129/129 [==============================] - 297s 2s/step - loss: 0.1429 - acc: 0.9560 - val_loss: 0.3048 - val_acc: 0.9244\n",
      "Epoch 28/30\n",
      "129/129 [==============================] - 299s 2s/step - loss: 0.1505 - acc: 0.9455 - val_loss: 0.3906 - val_acc: 0.8953\n",
      "Epoch 29/30\n",
      "129/129 [==============================] - 298s 2s/step - loss: 0.1349 - acc: 0.9564 - val_loss: 0.3811 - val_acc: 0.9012\n",
      "Epoch 30/30\n",
      "129/129 [==============================] - 301s 2s/step - loss: 0.1521 - acc: 0.9474 - val_loss: 0.3273 - val_acc: 0.9093\n"
     ]
    }
   ],
   "source": [
    "model4.compile( optimizers.SGD(learning_rate=0.01, nesterov=True),\n",
    "                #optimizer=optimizers.RMSprop(lr=2e-5),\n",
    "              loss='categorical_crossentropy',\n",
    "              metrics=['acc'])\n",
    "#nesterov=True\n",
    "#learning_rate=0.01\n",
    "\n",
    "history4= model4.fit(\n",
    "        train_generator,\n",
    "        steps_per_epoch=129,\n",
    "        epochs=30,\n",
    "        validation_data=validation_generator,\n",
    "        validation_steps=43)"
   ]
  },
  {
   "cell_type": "markdown",
   "metadata": {
    "id": "mku1TQlhpnUk"
   },
   "source": [
    "### Analyzing the fitting performance over epochs"
   ]
  },
  {
   "cell_type": "markdown",
   "metadata": {
    "id": "2HJbRMjKpnUk"
   },
   "source": [
    "Show the training accuracy along with the epochs"
   ]
  },
  {
   "cell_type": "code",
   "execution_count": 1,
   "metadata": {
    "id": "5nlLq8AmpnUl",
    "outputId": "9bdd104d-20ee-421d-99c6-0dc637135f34"
   },
   "outputs": [
    {
     "ename": "NameError",
     "evalue": "name 'model4' is not defined",
     "output_type": "error",
     "traceback": [
      "\u001b[1;31m---------------------------------------------------------------------------\u001b[0m",
      "\u001b[1;31mNameError\u001b[0m                                 Traceback (most recent call last)",
      "\u001b[1;32m<ipython-input-1-5749627f0903>\u001b[0m in \u001b[0;36m<module>\u001b[1;34m\u001b[0m\n\u001b[0;32m      1\u001b[0m \u001b[1;31m# write your code\u001b[0m\u001b[1;33m\u001b[0m\u001b[1;33m\u001b[0m\u001b[1;33m\u001b[0m\u001b[0m\n\u001b[1;32m----> 2\u001b[1;33m \u001b[0mmodel4\u001b[0m\u001b[1;33m.\u001b[0m\u001b[0msave\u001b[0m\u001b[1;33m(\u001b[0m\u001b[1;34m'flowers_small_4.h5'\u001b[0m\u001b[1;33m)\u001b[0m\u001b[1;33m\u001b[0m\u001b[1;33m\u001b[0m\u001b[0m\n\u001b[0m\u001b[0;32m      3\u001b[0m \u001b[1;33m\u001b[0m\u001b[0m\n\u001b[0;32m      4\u001b[0m \u001b[0macc\u001b[0m \u001b[1;33m=\u001b[0m \u001b[0mhistory4\u001b[0m\u001b[1;33m.\u001b[0m\u001b[0mhistory\u001b[0m\u001b[1;33m[\u001b[0m\u001b[1;34m'acc'\u001b[0m\u001b[1;33m]\u001b[0m\u001b[1;33m\u001b[0m\u001b[1;33m\u001b[0m\u001b[0m\n\u001b[0;32m      5\u001b[0m \u001b[0mval_acc\u001b[0m \u001b[1;33m=\u001b[0m \u001b[0mhistory4\u001b[0m\u001b[1;33m.\u001b[0m\u001b[0mhistory\u001b[0m\u001b[1;33m[\u001b[0m\u001b[1;34m'val_acc'\u001b[0m\u001b[1;33m]\u001b[0m\u001b[1;33m\u001b[0m\u001b[1;33m\u001b[0m\u001b[0m\n",
      "\u001b[1;31mNameError\u001b[0m: name 'model4' is not defined"
     ]
    }
   ],
   "source": [
    "# write your code\n",
    "model4.save('flowers_small_4.h5')\n",
    "\n",
    "acc = history4.history['acc']\n",
    "val_acc = history4.history['val_acc']\n",
    "loss = history4.history['loss']\n",
    "val_loss = history4.history['val_loss']\n",
    "\n",
    "epochs = range(len(acc))\n",
    "\n",
    "plt.plot(epochs, acc, 'bo', label='Training acc')\n",
    "plt.plot(epochs, val_acc, 'b', label='Validation acc')\n",
    "plt.title('Training and validation accuracy')\n",
    "plt.legend()\n",
    "\n",
    "plt.figure()\n",
    "\n",
    "plt.plot(epochs, loss, 'bo', label='Training loss')\n",
    "plt.plot(epochs, val_loss, 'b', label='Validation loss')\n",
    "plt.title('Training and validation loss')\n",
    "plt.legend()\n",
    "\n",
    "plt.show()"
   ]
  },
  {
   "cell_type": "markdown",
   "metadata": {
    "id": "Hs0eD9xWpnUn"
   },
   "source": [
    "### Predicting the test set"
   ]
  },
  {
   "cell_type": "markdown",
   "metadata": {
    "id": "0l1450cMpnUo"
   },
   "source": [
    "Apply now your network to the test set"
   ]
  },
  {
   "cell_type": "code",
   "execution_count": null,
   "metadata": {
    "id": "tDEDPNT9pnU5"
   },
   "outputs": [],
   "source": [
    "# write your code\n",
    "\n",
    "predictions = model2.predict_generator(test_generator,workers=1)\n",
    "prediction_classes = np.argmax(predictions, axis=1)\n",
    "test_classes = test_generator.classes\n"
   ]
  },
  {
   "cell_type": "markdown",
   "metadata": {
    "id": "-UJvrJkHpnU9"
   },
   "source": [
    "Report the accuracy as well as the classification report. Use sklearn functions"
   ]
  },
  {
   "cell_type": "code",
   "execution_count": null,
   "metadata": {
    "id": "CepwqHHMpnU9",
    "outputId": "0d6ec8f0-506c-4b54-93e3-da0c63def239"
   },
   "outputs": [
    {
     "name": "stdout",
     "output_type": "stream",
     "text": [
      "Pretrained CNN with augmented images VGG\n",
      "Class indices {'daisy': 0, 'dandelion': 1, 'rose': 2, 'sunflower': 3, 'tulip': 4}\n",
      "Classification report:\n",
      "              precision    recall  f1-score   support\n",
      "\n",
      "           0       0.92      0.91      0.92       175\n",
      "           1       0.94      0.93      0.93       203\n",
      "           2       0.85      0.92      0.88       158\n",
      "           3       0.95      0.93      0.94       140\n",
      "           4       0.92      0.89      0.91       189\n",
      "\n",
      "    accuracy                           0.92       865\n",
      "   macro avg       0.92      0.92      0.92       865\n",
      "weighted avg       0.92      0.92      0.92       865\n",
      "\n",
      "sklearn accuracy: 0.915606936416185\n"
     ]
    }
   ],
   "source": [
    "# write your code\n",
    "report = classification_report(test_classes, prediction_classes)\n",
    "print(report)"
   ]
  },
  {
   "cell_type": "markdown",
   "metadata": {
    "id": "enObR-FYpnVA"
   },
   "source": [
    "Print the confusion matrix"
   ]
  },
  {
   "cell_type": "code",
   "execution_count": null,
   "metadata": {
    "id": "Qs8zyaV9pnVD",
    "outputId": "6ec9d089-94a4-4b69-f054-a2dfac476de5"
   },
   "outputs": [
    {
     "name": "stdout",
     "output_type": "stream",
     "text": [
      "Confusion matrix\n",
      "[[160   8   3   1   3]\n",
      " [  5 189   3   3   3]\n",
      " [  4   1 145   1   7]\n",
      " [  3   3   3 130   1]\n",
      " [  2   1  16   2 168]]\n"
     ]
    }
   ],
   "source": [
    "# write your code\n",
    "print(\"Confusion matrix:\\n%s\" % confusion_matrix(test_classes, prediction_classes))"
   ]
  },
  {
   "cell_type": "markdown",
   "metadata": {
    "id": "WNEk1lZ3pnVG"
   },
   "source": [
    "Finally, run a model evaluation and store the loss and accuracy in the `test_loss_4` and `test_acc_4` variables. As with fitting, you may need to adjust the number of steps so that your network tests all the samples."
   ]
  },
  {
   "cell_type": "code",
   "execution_count": null,
   "metadata": {
    "id": "1UYDMcQEpnVH",
    "outputId": "64109e1d-a58b-4d32-e391-61d7a725c5e5"
   },
   "outputs": [
    {
     "name": "stdout",
     "output_type": "stream",
     "text": [
      "865/865 [==============================] - 18s 21ms/step - loss: 0.3596 - acc: 0.9156\n",
      "Epochs 30\n",
      "loss 0.3596470057964325 test acc: 0.9156069159507751\n"
     ]
    }
   ],
   "source": [
    "# Write your code\n",
    "test_loss4, test_acc4 = model2.evaluate_generator(test_generator,workers=1)\n",
    "print('test acc:', test_acc4)\n",
    "print('test loss:', test_loss4)"
   ]
  },
  {
   "cell_type": "markdown",
   "metadata": {
    "id": "73wJRiZwpnVM"
   },
   "source": [
    "## Passing the Assignment"
   ]
  },
  {
   "cell_type": "markdown",
   "metadata": {
    "id": "p9hWUT8spnVM"
   },
   "source": [
    "To pass the assignment, you need to reach an accuracy of 75 (even 80 ideally) with your best network."
   ]
  },
  {
   "cell_type": "code",
   "execution_count": null,
   "metadata": {
    "id": "e2CLfiAppnVN",
    "outputId": "6546eef2-0b90-45db-a7f1-01d787379dfe"
   },
   "outputs": [
    {
     "data": {
      "text/plain": [
       "((4.041093349456787, 0.684393048286438),\n",
       " (3.537476062774658, 0.684393048286438),\n",
       " (1.950987696647644, 0.8323699235916138),\n",
       " (0.3596470057964325, 0.9156069159507751))"
      ]
     },
     "execution_count": 42,
     "metadata": {
      "tags": []
     },
     "output_type": "execute_result"
    }
   ],
   "source": [
    "(test_loss1, test_acc1), (test_loss2, test_acc2), (test_loss3, test_acc3), (test_loss4, test_acc4)"
   ]
  },
  {
   "cell_type": "markdown",
   "metadata": {
    "id": "RjYYC9eOpnVQ"
   },
   "source": [
    "## Report"
   ]
  },
  {
   "cell_type": "markdown",
   "metadata": {
    "id": "mo8VHtBdpnVQ"
   },
   "source": [
    "You will write a short report of about two pages on your experiments:\n",
    "1. You will describe the architectures you designed and the results you obtained;\n",
    "2. You will run Chollet's notebook 5.4 and read the article _Grad-CAM: Visual Explanations from Deep Networks via Gradient-based Localization_ by Selvaraju et al. From this, you will reformulate and comment the paragraph on _Visualizing heatmaps of class activation_ in the notebook. \n",
    "3. You will run it on one of your images.\n",
    "\n",
    "You will submit this report through Canvas."
   ]
  },
  {
   "cell_type": "code",
   "execution_count": 253,
   "metadata": {
    "id": "BUwDrR0TpnVQ"
   },
   "outputs": [
    {
     "name": "stdout",
     "output_type": "stream",
     "text": [
      "(1, 150, 150, 3)\n"
     ]
    },
    {
     "data": {
      "image/png": "[encoded data removed]",
      "text/plain": [
       "<Figure size 432x288 with 1 Axes>"
      ]
     },
     "metadata": {
      "needs_background": "light"
     },
     "output_type": "display_data"
    }
   ],
   "source": [
    "img_path = '/Users/thoma/Desktop/EDAN95/lab3/archive/flowers/sunflower/164670455_29d8e02bbd_n.jpg'\n",
    "\n",
    "\n",
    "from keras.preprocessing import image\n",
    "import numpy as np\n",
    "\n",
    "img = image.load_img(img_path, target_size=(150, 150))\n",
    "img_tensor = image.img_to_array(img)\n",
    "img_tensor = np.expand_dims(img_tensor, axis=0)\n",
    "# Remember that the model was trained on inputs\n",
    "# that were preprocessed in the following way:\n",
    "img_tensor /= 255.\n",
    "\n",
    "# Its shape is (1, 150, 150, 3)\n",
    "print(img_tensor.shape)\n",
    "\n",
    "plt.imshow(img_tensor[0])\n",
    "plt.show()\n"
   ]
  },
  {
   "cell_type": "code",
   "execution_count": null,
   "metadata": {},
   "outputs": [],
   "source": []
  }
 ],
 "metadata": {
  "colab": {
   "name": "Kopia av 3.0-flowers_cnn_students.ipynb",
   "provenance": [
    {
     "file_id": "https://github.com/pnugues/edan95/blob/master/labs/3.0-flowers_cnn_students.ipynb",
     "timestamp": 1605624150399
    }
   ]
  },
  "kernelspec": {
   "display_name": "Python 3",
   "language": "python",
   "name": "python3"
  },
  "language_info": {
   "codemirror_mode": {
    "name": "ipython",
    "version": 3
   },
   "file_extension": ".py",
   "mimetype": "text/x-python",
   "name": "python",
   "nbconvert_exporter": "python",
   "pygments_lexer": "ipython3",
   "version": "3.7.7"
  }
 },
 "nbformat": 4,
 "nbformat_minor": 1
}
