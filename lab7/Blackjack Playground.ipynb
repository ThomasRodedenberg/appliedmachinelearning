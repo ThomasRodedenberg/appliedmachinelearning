{
 "cells": [
  {
   "cell_type": "code",
   "execution_count": 4,
   "metadata": {
    "colab": {
     "base_uri": "https://localhost:8080/"
    },
    "executionInfo": {
     "elapsed": 680,
     "status": "ok",
     "timestamp": 1607081013620,
     "user": {
      "displayName": "Volker Krüger",
      "photoUrl": "",
      "userId": "16959159138447616147"
     },
     "user_tz": -60
    },
    "id": "dcr3gJGfbSVJ",
    "outputId": "54b4fa1e-0f91-404d-a36a-ebd210f6a486"
   },
   "outputs": [],
   "source": [
    "#try:\n",
    "    # Check if notebook is running in Google Colab\n",
    "#   import google.colab\n",
    "    # Get additional files from Github\n",
    "    #!wget https://raw.githubusercontent.com/volkerkrueger/edan95/master/labs/blackjack.py\n",
    "    #!wget https://raw.githubusercontent.com/volkerkrueger/edan95/master/labs/plotting.py\n",
    "    # Install additional dependencies\n",
    "import numpy as np\n",
    "import sys\n",
    "from blackjack import BlackjackEnv\n",
    "#except:\n",
    "#    pass\n",
    "\n"
   ]
  },
  {
   "cell_type": "code",
   "execution_count": 5,
   "metadata": {
    "executionInfo": {
     "elapsed": 866,
     "status": "ok",
     "timestamp": 1607081018914,
     "user": {
      "displayName": "Volker Krüger",
      "photoUrl": "",
      "userId": "16959159138447616147"
     },
     "user_tz": -60
    },
    "id": "LpWW97dubSVJ"
   },
   "outputs": [],
   "source": [
    "env = BlackjackEnv()"
   ]
  },
  {
   "cell_type": "code",
   "execution_count": 6,
   "metadata": {
    "colab": {
     "base_uri": "https://localhost:8080/"
    },
    "executionInfo": {
     "elapsed": 705,
     "status": "ok",
     "timestamp": 1607081035036,
     "user": {
      "displayName": "Volker Krüger",
      "photoUrl": "",
      "userId": "16959159138447616147"
     },
     "user_tz": -60
    },
    "id": "JC86SWnBbSVJ",
    "outputId": "45b51153-3fa0-467c-984b-66ccc07fc4a0"
   },
   "outputs": [
    {
     "name": "stdout",
     "output_type": "stream",
     "text": [
      "Player Score: 14 (Usable Ace: True), Dealer Score: 7\n",
      "Taking action: Hit\n",
      "Player Score: 16 (Usable Ace: True), Dealer Score: 7\n",
      "Taking action: Hit\n",
      "Player Score: 14 (Usable Ace: False), Dealer Score: 7\n",
      "Taking action: Hit\n",
      "Player Score: 18 (Usable Ace: False), Dealer Score: 7\n",
      "Taking action: Hit\n",
      "Player Score: 23 (Usable Ace: False), Dealer Score: 7\n",
      "Game end. Reward: -1.0\n",
      "\n",
      "Player Score: 13 (Usable Ace: False), Dealer Score: 10\n",
      "Taking action: Hit\n",
      "Player Score: 23 (Usable Ace: False), Dealer Score: 10\n",
      "Game end. Reward: -1.0\n",
      "\n",
      "Player Score: 14 (Usable Ace: False), Dealer Score: 8\n",
      "Taking action: Hit\n",
      "Player Score: 24 (Usable Ace: False), Dealer Score: 8\n",
      "Game end. Reward: -1.0\n",
      "\n",
      "Player Score: 20 (Usable Ace: False), Dealer Score: 2\n",
      "Taking action: Stick\n",
      "Player Score: 20 (Usable Ace: False), Dealer Score: 2\n",
      "Game end. Reward: -1.0\n",
      "\n",
      "Player Score: 13 (Usable Ace: False), Dealer Score: 4\n",
      "Taking action: Hit\n",
      "Player Score: 16 (Usable Ace: False), Dealer Score: 4\n",
      "Taking action: Hit\n",
      "Player Score: 23 (Usable Ace: False), Dealer Score: 4\n",
      "Game end. Reward: -1.0\n",
      "\n",
      "Player Score: 20 (Usable Ace: False), Dealer Score: 10\n",
      "Taking action: Stick\n",
      "Player Score: 20 (Usable Ace: False), Dealer Score: 10\n",
      "Game end. Reward: 1.0\n",
      "\n",
      "Player Score: 19 (Usable Ace: False), Dealer Score: 10\n",
      "Taking action: Hit\n",
      "Player Score: 21 (Usable Ace: False), Dealer Score: 10\n",
      "Taking action: Stick\n",
      "Player Score: 21 (Usable Ace: False), Dealer Score: 10\n",
      "Game end. Reward: 1.0\n",
      "\n",
      "Player Score: 21 (Usable Ace: True), Dealer Score: 10\n",
      "Taking action: Stick\n",
      "Player Score: 21 (Usable Ace: True), Dealer Score: 10\n",
      "Game end. Reward: 0.0\n",
      "\n",
      "Player Score: 17 (Usable Ace: False), Dealer Score: 10\n",
      "Taking action: Hit\n",
      "Player Score: 19 (Usable Ace: False), Dealer Score: 10\n",
      "Taking action: Hit\n",
      "Player Score: 29 (Usable Ace: False), Dealer Score: 10\n",
      "Game end. Reward: -1.0\n",
      "\n",
      "Player Score: 19 (Usable Ace: False), Dealer Score: 8\n",
      "Taking action: Hit\n",
      "Player Score: 25 (Usable Ace: False), Dealer Score: 8\n",
      "Game end. Reward: -1.0\n",
      "\n",
      "Player Score: 19 (Usable Ace: False), Dealer Score: 8\n",
      "Taking action: Hit\n",
      "Player Score: 29 (Usable Ace: False), Dealer Score: 8\n",
      "Game end. Reward: -1.0\n",
      "\n",
      "Player Score: 15 (Usable Ace: False), Dealer Score: 7\n",
      "Taking action: Hit\n",
      "Player Score: 22 (Usable Ace: False), Dealer Score: 7\n",
      "Game end. Reward: -1.0\n",
      "\n",
      "Player Score: 18 (Usable Ace: False), Dealer Score: 10\n",
      "Taking action: Hit\n",
      "Player Score: 26 (Usable Ace: False), Dealer Score: 10\n",
      "Game end. Reward: -1.0\n",
      "\n",
      "Player Score: 15 (Usable Ace: False), Dealer Score: 2\n",
      "Taking action: Hit\n",
      "Player Score: 25 (Usable Ace: False), Dealer Score: 2\n",
      "Game end. Reward: -1.0\n",
      "\n",
      "Player Score: 18 (Usable Ace: False), Dealer Score: 6\n",
      "Taking action: Hit\n",
      "Player Score: 27 (Usable Ace: False), Dealer Score: 6\n",
      "Game end. Reward: -1.0\n",
      "\n",
      "Player Score: 19 (Usable Ace: True), Dealer Score: 10\n",
      "Taking action: Hit\n",
      "Player Score: 19 (Usable Ace: False), Dealer Score: 10\n",
      "Taking action: Hit\n",
      "Player Score: 21 (Usable Ace: False), Dealer Score: 10\n",
      "Taking action: Stick\n",
      "Player Score: 21 (Usable Ace: False), Dealer Score: 10\n",
      "Game end. Reward: 1.0\n",
      "\n",
      "Player Score: 17 (Usable Ace: False), Dealer Score: 10\n",
      "Taking action: Hit\n",
      "Player Score: 27 (Usable Ace: False), Dealer Score: 10\n",
      "Game end. Reward: -1.0\n",
      "\n",
      "Player Score: 12 (Usable Ace: False), Dealer Score: 10\n",
      "Taking action: Hit\n",
      "Player Score: 22 (Usable Ace: False), Dealer Score: 10\n",
      "Game end. Reward: -1.0\n",
      "\n",
      "Player Score: 16 (Usable Ace: True), Dealer Score: 2\n",
      "Taking action: Hit\n",
      "Player Score: 16 (Usable Ace: False), Dealer Score: 2\n",
      "Taking action: Hit\n",
      "Player Score: 22 (Usable Ace: False), Dealer Score: 2\n",
      "Game end. Reward: -1.0\n",
      "\n",
      "Player Score: 16 (Usable Ace: False), Dealer Score: 10\n",
      "Taking action: Hit\n",
      "Player Score: 24 (Usable Ace: False), Dealer Score: 10\n",
      "Game end. Reward: -1.0\n",
      "\n"
     ]
    }
   ],
   "source": [
    "def print_observation(observation):\n",
    "    score, dealer_score, usable_ace = observation\n",
    "    print(\"Player Score: {} (Usable Ace: {}), Dealer Score: {}\".format(\n",
    "          score, usable_ace, dealer_score))\n",
    "\n",
    "def strategy(observation):\n",
    "    score, dealer_score, usable_ace = observation\n",
    "    # Stick (action 0) if the score is > 20, hit (action 1) otherwise\n",
    "    return 0 if score >= 20 else 1\n",
    "\n",
    "for i_episode in range(20):\n",
    "    observation = env.reset()\n",
    "    for t in range(100):\n",
    "        print_observation(observation)\n",
    "        action = strategy(observation)\n",
    "        print(\"Taking action: {}\".format( [\"Stick\", \"Hit\"][action]))\n",
    "        observation, reward, done, _ = env.step(action)\n",
    "        if done:\n",
    "            print_observation(observation)\n",
    "            print(\"Game end. Reward: {}\\n\".format(float(reward)))\n",
    "            break"
   ]
  },
  {
   "cell_type": "code",
   "execution_count": 7,
   "metadata": {
    "colab": {
     "base_uri": "https://localhost:8080/"
    },
    "executionInfo": {
     "elapsed": 737,
     "status": "ok",
     "timestamp": 1607081040254,
     "user": {
      "displayName": "Volker Krüger",
      "photoUrl": "",
      "userId": "16959159138447616147"
     },
     "user_tz": -60
    },
    "id": "NOLkDewbbSVJ",
    "outputId": "8c1b54e4-d1bd-477e-bbbe-f653a92e82c2"
   },
   "outputs": [
    {
     "data": {
      "text/plain": [
       "(24, 10, False)"
      ]
     },
     "execution_count": 7,
     "metadata": {},
     "output_type": "execute_result"
    }
   ],
   "source": [
    "observation"
   ]
  },
  {
   "cell_type": "code",
   "execution_count": 8,
   "metadata": {
    "colab": {
     "base_uri": "https://localhost:8080/"
    },
    "executionInfo": {
     "elapsed": 914,
     "status": "ok",
     "timestamp": 1607081043789,
     "user": {
      "displayName": "Volker Krüger",
      "photoUrl": "",
      "userId": "16959159138447616147"
     },
     "user_tz": -60
    },
    "id": "3ZWWMIrdbSVK",
    "outputId": "3688bd1d-9728-4c16-e2b7-0633cc70283f"
   },
   "outputs": [
    {
     "name": "stdout",
     "output_type": "stream",
     "text": [
      "Player Score: 20 (Usable Ace: False), Dealer Score: 1\n"
     ]
    }
   ],
   "source": [
    "observation = env.reset()\n",
    "print_observation(observation)\n"
   ]
  },
  {
   "cell_type": "code",
   "execution_count": null,
   "metadata": {
    "id": "xOJks-TWbSVK"
   },
   "outputs": [],
   "source": []
  },
  {
   "cell_type": "code",
   "execution_count": null,
   "metadata": {
    "id": "gsLJuJCabSVK"
   },
   "outputs": [],
   "source": []
  },
  {
   "cell_type": "code",
   "execution_count": null,
   "metadata": {
    "id": "J5XW4BhLbSVK"
   },
   "outputs": [],
   "source": []
  },
  {
   "cell_type": "code",
   "execution_count": null,
   "metadata": {
    "id": "lMmTcpjFbSVK"
   },
   "outputs": [],
   "source": []
  }
 ],
 "metadata": {
  "colab": {
   "name": "Blackjack Playground.ipynb",
   "provenance": []
  },
  "kernelspec": {
   "display_name": "Python 3",
   "language": "python",
   "name": "python3"
  },
  "language_info": {
   "codemirror_mode": {
    "name": "ipython",
    "version": 3
   },
   "file_extension": ".py",
   "mimetype": "text/x-python",
   "name": "python",
   "nbconvert_exporter": "python",
   "pygments_lexer": "ipython3",
   "version": "3.7.7"
  }
 },
 "nbformat": 4,
 "nbformat_minor": 1
}
