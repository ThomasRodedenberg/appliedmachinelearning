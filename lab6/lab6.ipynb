{
 "cells": [
  {
   "cell_type": "code",
   "execution_count": 177,
   "metadata": {},
   "outputs": [],
   "source": [
    "from sklearn import metrics, datasets\n",
    "from sklearn.naive_bayes import GaussianNB\n",
    "import numpy as np\n",
    "import matplotlib.pyplot as plt"
   ]
  },
  {
   "cell_type": "code",
   "execution_count": 178,
   "metadata": {},
   "outputs": [],
   "source": [
    "digits = datasets.load_digits()\n",
    "num_examples = len(digits.data)\n",
    "num_split = int(0.7*num_examples)"
   ]
  },
  {
   "cell_type": "code",
   "execution_count": 179,
   "metadata": {},
   "outputs": [],
   "source": [
    "train_features = digits.data[:num_split]/16\n",
    "train_labels =  digits.target[:num_split]\n",
    "test_features = digits.data[num_split:]/16\n",
    "test_labels = digits.target[num_split:]\n",
    "classes = [0,1,2,3,4,5,6,7,8,9]"
   ]
  },
  {
   "cell_type": "code",
   "execution_count": 180,
   "metadata": {},
   "outputs": [],
   "source": [
    "class myEM():\n",
    "    \n",
    "    def __init__(self, seed = 22, eps = 0.01):\n",
    "        self.seed = seed\n",
    "        self.eps = eps\n",
    "        self.mu = None\n",
    "        self.sigma2 = None\n",
    "        self.prior = None\n",
    "    \n",
    "    def EM_GMM(self, data, classes):\n",
    "        self.classes = classes\n",
    "        K = len(classes)\n",
    "        np.random.seed(self.seed)\n",
    "        \n",
    "        prior = np.ones(K)/K\n",
    "        \n",
    "        numbers = np.random.choice(540, size=[K,int(len(data)/K)], replace=False)\n",
    "        \n",
    "        mu = np.empty([K, len(data[0])])\n",
    "        sigma2 = np.empty([K, len(data[0])])\n",
    "        for k in range(K):\n",
    "            mu[k] = np.mean(data[numbers[k]], axis=0)\n",
    "            sigma2[k] = np.var(data[numbers[k]], axis=0)\n",
    "        \n",
    "        sigma2 += self.eps\n",
    "        \n",
    "        P = np.empty([len(data), K])\n",
    "        r = np.empty([len(data), K])\n",
    "        prev_prior = np.zeros(K)\n",
    "        \n",
    "        while np.linalg.norm(prev_prior - prior) > 0.001:\n",
    "                             \n",
    "            # E\n",
    "            for k in range(K):\n",
    "                for i,image in enumerate(data):\n",
    "                    P[i, k] = np.prod(self.prob(image, mu[k], sigma2[k]))\n",
    "                \n",
    "            r = prior * P / (np.sum(prior * P, axis = 1)).reshape(-1,1)\n",
    "            \n",
    "            # M\n",
    "            r_k = np.sum(r, axis = 0)\n",
    "            prev_prior = prior #For stop condition\n",
    "            prior = r_k / np.sum(r_k)\n",
    "                             \n",
    "            for k in range(K):\n",
    "                mu[k] = np.sum(r[:, k].reshape(-1,1) * data, axis = 0) / r_k[k]\n",
    "                sigma2[k] = np.diag((r[:, k].reshape(-1,1) * (data[0] - mu[k])).T @ (data - mu[k]) / r_k[k])\n",
    "                   \n",
    "            sigma2 += self.eps\n",
    "            \n",
    "        \n",
    "        self.mu = mu\n",
    "        self.sigma2 = sigma2\n",
    "        self.prior = prior\n",
    "    \n",
    "    def prob(self, x, mu, sigma2):        \n",
    "        return 1/np.sqrt(2*np.pi*sigma2) * np.exp(- 1/(2*sigma2) * (x - mu)**2)\n",
    "        \n",
    "    def predict(self, data):\n",
    "        preds = np.empty(len(data))\n",
    "        prob = np.zeros(len(self.classes))\n",
    "        \n",
    "        for i, image in enumerate(data):\n",
    "            for k in range(len(self.classes)):                \n",
    "                prob[k] = self.prior[k] * np.prod(self.prob(image, self.mu[k], self.sigma2[k]))\n",
    "                  \n",
    "            preds[i] = np.argmax(prob)\n",
    "        \n",
    "        return preds"
   ]
  },
  {
   "cell_type": "code",
   "execution_count": 181,
   "metadata": {},
   "outputs": [],
   "source": [
    "em = myEM()\n",
    "em.EM_GMM(test_features, classes)\n"
   ]
  },
  {
   "cell_type": "code",
   "execution_count": 182,
   "metadata": {},
   "outputs": [],
   "source": [
    "p = em.predict(test_features)"
   ]
  },
  {
   "cell_type": "code",
   "execution_count": 183,
   "metadata": {},
   "outputs": [
    {
     "name": "stdout",
     "output_type": "stream",
     "text": [
      "Classification report SKLearn GNB:\n",
      "              precision    recall  f1-score   support\n",
      "\n",
      "           0       0.00      0.00      0.00        53\n",
      "           1       0.45      0.66      0.53        53\n",
      "           2       0.00      0.00      0.00        53\n",
      "           3       0.00      0.00      0.00        53\n",
      "           4       0.00      0.00      0.00        57\n",
      "           5       0.00      0.00      0.00        56\n",
      "           6       0.00      0.00      0.00        54\n",
      "           7       0.00      0.00      0.00        54\n",
      "           8       0.03      0.04      0.04        52\n",
      "           9       0.00      0.00      0.00        55\n",
      "\n",
      "    accuracy                           0.07       540\n",
      "   macro avg       0.05      0.07      0.06       540\n",
      "weighted avg       0.05      0.07      0.06       540\n",
      "\n",
      "\n",
      "Confusion matrix SKLearn GNB:\n",
      "[[ 0  0  1 51  0  0  0  0  1  0]\n",
      " [ 0 35  0  0  0 17  0  0  1  0]\n",
      " [ 0  0  0  1 38  0 14  0  0  0]\n",
      " [ 6  6  0  0  0  0 39  0  1  1]\n",
      " [ 2  2 53  0  0  0  0  0  0  0]\n",
      " [ 0  0  0  0  0  0  2  1 53  0]\n",
      " [ 0  0  0  0  0  0  0 25  0 29]\n",
      " [52  2  0  0  0  0  0  0  0  0]\n",
      " [ 6 33  0  0  0  1  8  2  2  0]\n",
      " [ 2  0  0  0  0  5 45  0  3  0]]\n"
     ]
    }
   ],
   "source": [
    "print(\"Classification report SKLearn GNB:\\n%s\\n\"\n",
    "      % (metrics.classification_report(test_labels, p)))\n",
    "print(\"Confusion matrix SKLearn GNB:\\n%s\" % metrics.confusion_matrix(test_labels, p))"
   ]
  },
  {
   "cell_type": "code",
   "execution_count": 184,
   "metadata": {},
   "outputs": [
    {
     "data": {
      "image/png": "[encoded data removed]",
      "text/plain": [
       "<Figure size 576x576 with 10 Axes>"
      ]
     },
     "metadata": {
      "needs_background": "light"
     },
     "output_type": "display_data"
    }
   ],
   "source": [
    "fig = plt.figure(figsize=(8, 8))\n",
    "columns = 5\n",
    "rows = 2\n",
    "for i in range(10):\n",
    "    img = np.reshape(em.mu[i]*16,(8,8))\n",
    "    fig.add_subplot(rows, columns, i+1)\n",
    "    plt.imshow(img, cmap=plt.cm.gray_r, interpolation='nearest')\n",
    "    plt.title(i)\n",
    "plt.show()"
   ]
  },
  {
   "cell_type": "code",
   "execution_count": 185,
   "metadata": {},
   "outputs": [],
   "source": [
    "preds_fix = np.zeros(len(p))\n",
    "preds_fix[p == 0] = 7\n",
    "preds_fix[p == 1] = 8\n",
    "preds_fix[p == 2] = 4\n",
    "preds_fix[p == 3] = 0\n",
    "preds_fix[p == 4] = 2\n",
    "preds_fix[p == 5] = 1\n",
    "preds_fix[p == 6] = 9\n",
    "preds_fix[p == 7] = 6\n",
    "preds_fix[p == 8] = 5\n",
    "preds_fix[p == 9] = 3"
   ]
  },
  {
   "cell_type": "code",
   "execution_count": 186,
   "metadata": {},
   "outputs": [
    {
     "name": "stdout",
     "output_type": "stream",
     "text": [
      "completeness score: 0.7444619620625899\n",
      "homogeneity score: 0.7110693899800812\n",
      "mutual info: 0.7233315107773973\n"
     ]
    }
   ],
   "source": [
    "ptr = em.predict(train_features)\n",
    "print('completeness score: %s'  % metrics.completeness_score( train_labels, ptr))\n",
    "print('homogeneity score: %s' % metrics.homogeneity_score( train_labels, ptr))\n",
    "print('mutual info: %s' %metrics.adjusted_mutual_info_score( train_labels, ptr))"
   ]
  },
  {
   "cell_type": "code",
   "execution_count": 187,
   "metadata": {},
   "outputs": [
    {
     "name": "stdout",
     "output_type": "stream",
     "text": [
      "Confusion matrix:\n",
      "[[51  0  0  0  1  1  0  0  0  0]\n",
      " [ 0 17  0  0  0  1  0  0 35  0]\n",
      " [ 1  0 38  0  0  0  0  0  0 14]\n",
      " [ 0  0  0  1  0  1  0  6  6 39]\n",
      " [ 0  0  0  0 53  0  0  2  2  0]\n",
      " [ 0  0  0  0  0 53  1  0  0  2]\n",
      " [ 0  0  0 29  0  0 25  0  0  0]\n",
      " [ 0  0  0  0  0  0  0 52  2  0]\n",
      " [ 0  1  0  0  0  2  2  6 33  8]\n",
      " [ 0  5  0  0  0  3  0  2  0 45]]\n"
     ]
    }
   ],
   "source": [
    "print(\"Confusion matrix:\\n%s\" % metrics.confusion_matrix(test_labels, preds_fix))"
   ]
  },
  {
   "cell_type": "code",
   "execution_count": 76,
   "metadata": {},
   "outputs": [],
   "source": [
    "from sklearn.cluster import KMeans"
   ]
  },
  {
   "cell_type": "code",
   "execution_count": 15,
   "metadata": {},
   "outputs": [
    {
     "data": {
      "text/plain": [
       "KMeans(n_clusters=10, random_state=22)"
      ]
     },
     "execution_count": 15,
     "metadata": {},
     "output_type": "execute_result"
    }
   ],
   "source": [
    "kmeans = KMeans(n_clusters=10, random_state = 22)\n",
    "kmeans.fit(train_features)"
   ]
  },
  {
   "cell_type": "code",
   "execution_count": 16,
   "metadata": {},
   "outputs": [
    {
     "name": "stdout",
     "output_type": "stream",
     "text": [
      "Confusion matrix:\n",
      "[[ 0  1  0  0  0 52  0  0  0  0]\n",
      " [ 0  0  0  0  1  0  0 35  0 17]\n",
      " [ 3  0  0  0  0  1 42  0  7  0]\n",
      " [ 1  0  0  3  2  0  0  6 41  0]\n",
      " [ 0 52  0  3  0  1  0  0  0  1]\n",
      " [18  1  1  0 36  0  0  0  0  0]\n",
      " [ 0  0 52  0  0  0  0  1  0  1]\n",
      " [ 0  0  0 52  0  0  0  2  0  0]\n",
      " [12  0  0  2  1  0  1 34  1  1]\n",
      " [42  0  0  1  4  0  0  0  3  5]]\n"
     ]
    }
   ],
   "source": [
    "\n",
    "p2 = kmeans.predict(test_features)\n",
    "print(\"Confusion matrix:\\n%s\" % metrics.confusion_matrix(test_labels, p2))"
   ]
  },
  {
   "cell_type": "code",
   "execution_count": 17,
   "metadata": {},
   "outputs": [
    {
     "data": {
      "image/png": "[encoded data removed]",
      "text/plain": [
       "<Figure size 576x576 with 10 Axes>"
      ]
     },
     "metadata": {
      "needs_background": "light"
     },
     "output_type": "display_data"
    }
   ],
   "source": [
    "fig = plt.figure(figsize=(8, 8))\n",
    "columns = 5\n",
    "rows = 2\n",
    "for i in range(10):\n",
    "    img = np.reshape(kmeans.cluster_centers_[i],(8,8))\n",
    "    fig.add_subplot(rows, columns, i+1)\n",
    "    plt.imshow(img, cmap=plt.cm.gray_r, interpolation='nearest')\n",
    "    plt.title(i)\n",
    "plt.show()"
   ]
  },
  {
   "cell_type": "code",
   "execution_count": 18,
   "metadata": {},
   "outputs": [],
   "source": [
    "preds_fix2 = np.zeros(len(p2))\n",
    "preds_fix2[p2 == 0] = 9\n",
    "preds_fix2[p2 == 1] = 4\n",
    "preds_fix2[p2 == 2] = 6\n",
    "preds_fix2[p2 == 3] = 7\n",
    "preds_fix2[p2 == 4] = 5\n",
    "preds_fix2[p2 == 5] = 0\n",
    "preds_fix2[p2 == 6] = 2\n",
    "preds_fix2[p2 == 7] = 8\n",
    "preds_fix2[p2 == 8] = 3\n",
    "preds_fix2[p2 == 9] = 1"
   ]
  },
  {
   "cell_type": "code",
   "execution_count": 19,
   "metadata": {},
   "outputs": [
    {
     "name": "stdout",
     "output_type": "stream",
     "text": [
      "Confusion matrix:\n",
      "[[52  0  0  0  1  0  0  0  0  0]\n",
      " [ 0 17  0  0  0  1  0  0 35  0]\n",
      " [ 1  0 42  7  0  0  0  0  0  3]\n",
      " [ 0  0  0 41  0  2  0  3  6  1]\n",
      " [ 1  1  0  0 52  0  0  3  0  0]\n",
      " [ 0  0  0  0  1 36  1  0  0 18]\n",
      " [ 0  1  0  0  0  0 52  0  1  0]\n",
      " [ 0  0  0  0  0  0  0 52  2  0]\n",
      " [ 0  1  1  1  0  1  0  2 34 12]\n",
      " [ 0  5  0  3  0  4  0  1  0 42]]\n"
     ]
    }
   ],
   "source": [
    "print(\"Confusion matrix:\\n%s\" % metrics.confusion_matrix(test_labels, preds_fix2))"
   ]
  },
  {
   "cell_type": "code",
   "execution_count": 20,
   "metadata": {},
   "outputs": [
    {
     "name": "stdout",
     "output_type": "stream",
     "text": [
      "0.7777777777777778\n",
      "completeness score: 0.7504785316995707\n",
      "homogeneity score: 0.7426772208333396\n",
      "mutual info: 0.7428730082204416\n"
     ]
    }
   ],
   "source": [
    "print(metrics.accuracy_score(test_labels, preds_fix2))\n",
    "\n",
    "metrics.accuracy_score(test_labels, preds_fix)\n",
    "\n",
    "ptr = kmeans.predict(train_features)\n",
    "print('completeness score: %s'  % metrics.completeness_score( train_labels, ptr))\n",
    "print('homogeneity score: %s' % metrics.homogeneity_score( train_labels, ptr))\n",
    "print('mutual info: %s' %metrics.adjusted_mutual_info_score( train_labels, ptr))"
   ]
  },
  {
   "cell_type": "code",
   "execution_count": 24,
   "metadata": {},
   "outputs": [
    {
     "name": "stdout",
     "output_type": "stream",
     "text": [
      "0.7851851851851852\n",
      "completeness score: 0.7811134907166012\n",
      "homogeneity score: 0.748562102992862\n",
      "mutual info: 0.760936434534244\n"
     ]
    }
   ],
   "source": [
    "print(metrics.accuracy_score(preds_fix, preds_fix2))\n",
    "\n",
    "metrics.accuracy_score(preds_fix, preds_fix)\n",
    "\n",
    "ptr1 = em.predict(train_features)\n",
    "print('completeness score: %s'  % metrics.completeness_score( ptr, ptr1))\n",
    "print('homogeneity score: %s' % metrics.homogeneity_score( ptr, ptr1))\n",
    "print('mutual info: %s' %metrics.adjusted_mutual_info_score( ptr, ptr1))"
   ]
  },
  {
   "cell_type": "code",
   "execution_count": null,
   "metadata": {},
   "outputs": [],
   "source": []
  }
 ],
 "metadata": {
  "kernelspec": {
   "display_name": "Python 3",
   "language": "python",
   "name": "python3"
  },
  "language_info": {
   "codemirror_mode": {
    "name": "ipython",
    "version": 3
   },
   "file_extension": ".py",
   "mimetype": "text/x-python",
   "name": "python",
   "nbconvert_exporter": "python",
   "pygments_lexer": "ipython3",
   "version": "3.7.7"
  }
 },
 "nbformat": 4,
 "nbformat_minor": 4
}
